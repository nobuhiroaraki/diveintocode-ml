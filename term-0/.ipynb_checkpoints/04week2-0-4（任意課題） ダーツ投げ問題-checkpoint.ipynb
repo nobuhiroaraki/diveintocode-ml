{
 "cells": [
  {
   "cell_type": "markdown",
   "metadata": {},
   "source": [
    "## 4.ダーツ投げのシミュレーションの作成\n",
    "### 複数のダーツのまとは、間を空けずに横一列に並んでいるとします。<br>ある番号のまとに狙ったダーツは、他のまとには行かないとします。\n",
    "\n",
    "### 実装するフローは以下になります。\n",
    "### ・ダーツのまとを選びます。（ここではサイコロを振り、出た目の番号を狙うまとの番号とします。）<br>・サイコロで出た番号のまとを選び、ダーツを投げます。（ここではダーツが刺さる場所は正規分布に従うとします。）<br>・ダーツが刺さった場所を記録します。(x座標、y座標だけではなくどの番号のまとに向かって投げたかも記録します。)<br>・1~3を指定回数（ダーツの投げる回数）だけ繰り返します。（指定回数は任意です。）<br>・各番号のダーツが刺さった場所をプロットします。（ダーツのまとが6個なら、6個のダーツのまとが横に等間隔で並んでいるイメージです。）\n",
    "\n",
    "### これらのフローを以下の問題を通じて一つ一つ実装していきましょう。"
   ]
  },
  {
   "cell_type": "markdown",
   "metadata": {},
   "source": [
    "# 【問題1】ダーツのまとを選ぶ\n",
    "### ダーツのまとを選ぶためにサイコロを実装しましょう。\n",
    "\n",
    "### 《ヒント》<br>「サイコロを振る」動作を表現するのにnp.random.choice()を用います。<br>こうすることで配列の中からランダムに要素を1つ選ぶことができます。"
   ]
  },
  {
   "cell_type": "code",
   "execution_count": 45,
   "metadata": {},
   "outputs": [
    {
     "name": "stdout",
     "output_type": "stream",
     "text": [
      "2\n"
     ]
    }
   ],
   "source": [
    "import numpy as np\n",
    "\n",
    "dice = list(range(1,7))\n",
    "print(np.random.choice(dice))\n"
   ]
  },
  {
   "cell_type": "markdown",
   "metadata": {},
   "source": [
    "# 【問題2】ダーツを投げて、刺さった場所を記録する\n",
    "### ダーツの刺さった場所(x座標、y座標)を正規分布から値を発生させることで表現しましょう。正規分布のx方向の「中心」は問題1で出たサイコロの番号、「標準偏差」は0.1としてください。 刺さった場所（座標）は、配列で保持するようにしてください。\n",
    "### 《ヒント》\n",
    "### ダーツが刺さった場所（座標）は、二次元正規分布を真上から見たときの<br>x座標、y座標の交点として表現しましょう。\n",
    "### x座標、y座標の各値は、それぞれが独立した一次元正規分布に従うものとし、<br>x座標とy座標用に、別々にnp.random.normal()から変数を発生させ、<br>それらの組みを座標点として、配列で保持してください。\n",
    "\n",
    "\n",
    "### また、二次元正規分布はnp.random.multivariate_normal()を用いて表現することもできます。<br>その場合、例えば平均値ベクトルを[0,0] (mean=[0,0])、共分散行列を[[[0.01,0],[0,0.01]] (cov=[[0.01,0],[0,0.01]])として<br>np.random.multivariate_normal(mean, cov)とすると、x座標とy座標の変数の組みを作れます。\n",
    "\n"
   ]
  }
 ],
 "metadata": {
  "kernelspec": {
   "display_name": "Python 3",
   "language": "python",
   "name": "python3"
  },
  "language_info": {
   "codemirror_mode": {
    "name": "ipython",
    "version": 3
   },
   "file_extension": ".py",
   "mimetype": "text/x-python",
   "name": "python",
   "nbconvert_exporter": "python",
   "pygments_lexer": "ipython3",
   "version": "3.6.4"
  }
 },
 "nbformat": 4,
 "nbformat_minor": 2
}
