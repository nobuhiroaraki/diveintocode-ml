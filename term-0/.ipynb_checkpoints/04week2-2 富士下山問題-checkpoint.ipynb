{
 "cells": [
  {
   "cell_type": "markdown",
   "metadata": {},
   "source": [
    "# 2.富士下山問題"
   ]
  },
  {
   "cell_type": "markdown",
   "metadata": {},
   "source": [
    "# 3.富士山から下る"
   ]
  },
  {
   "cell_type": "markdown",
   "metadata": {},
   "source": [
    "# データ"
   ]
  },
  {
   "cell_type": "code",
   "execution_count": 1,
   "metadata": {},
   "outputs": [
    {
     "name": "stdout",
     "output_type": "stream",
     "text": [
      "['その地点の番号' '緯度' '経度' '標高' '地点０からの距離']\n",
      "[[   0.         35.134141  139.132082    0.          0.      ]\n",
      " [   1.         35.135826  139.129202    0.        322.      ]\n",
      " [   2.         35.13751   139.126322    0.        644.      ]\n",
      " [   3.         35.139194  139.123441    0.        966.      ]\n",
      " [   4.         35.140878  139.12056     0.       1288.      ]]\n",
      "[[  132.          35.355855   138.750846  2825.55     42532.      ]\n",
      " [  133.          35.35753    138.74795   2967.9      42854.      ]\n",
      " [  134.          35.359205   138.745054  3087.81     43177.      ]\n",
      " [  135.          35.36088    138.742157  3266.24     43499.      ]\n",
      " [  136.          35.362555   138.739261  3434.59     43821.      ]\n",
      " [  137.          35.36423    138.736364  3600.08     44143.      ]\n",
      " [  138.          35.365904   138.733468  3679.96     44466.      ]\n",
      " [  139.          35.367579   138.730571  3664.9      44788.      ]\n",
      " [  140.          35.369253   138.727674  3567.76     45110.      ]\n",
      " [  141.          35.370928   138.724777  3348.43     45432.      ]\n",
      " [  142.          35.372602   138.72188   3171.53     45754.      ]]\n"
     ]
    }
   ],
   "source": [
    "import numpy as np\n",
    "import matplotlib.pyplot as plt\n",
    "\n",
    "csv_path = \"/Users/nobu/Downloads/mtfuji_data.csv\" # ファイル名（パス）を指定する\n",
    "np.set_printoptions(suppress=True) # 指数表示の禁止を設定する\n",
    "fuji = np.loadtxt(csv_path, delimiter=\",\", skiprows=1)\n",
    "label = [\"その地点の番号\",\"緯度\",\"経度\",\"標高\",\"地点０からの距離\"]\n",
    "label_array = np.array(label)\n",
    "print(label_array)\n",
    "print(fuji[0:5])\n",
    "print(fuji[132:143])"
   ]
  },
  {
   "cell_type": "markdown",
   "metadata": {},
   "source": [
    "## 【問題1】データの可視化"
   ]
  },
  {
   "cell_type": "code",
   "execution_count": 2,
   "metadata": {},
   "outputs": [
    {
     "data": {
      "image/png": "[encoded data removed]",
      "text/plain": [
       "<matplotlib.figure.Figure at 0x111db3fd0>"
      ]
     },
     "metadata": {},
     "output_type": "display_data"
    }
   ],
   "source": [
    "%matplotlib inline\n",
    "plt.title(\"Mt.Fuji\")\n",
    "plt.xlabel(\"position\")\n",
    "plt.ylabel(\"elevation(m)\")\n",
    "plt.plot(fuji[:,3])\n",
    "plt.show()"
   ]
  },
  {
   "cell_type": "markdown",
   "metadata": {},
   "source": [
    "## 【問題2】ある地点の勾配を計算する関数を作成"
   ]
  },
  {
   "cell_type": "code",
   "execution_count": 3,
   "metadata": {},
   "outputs": [
    {
     "name": "stdout",
     "output_type": "stream",
     "text": [
      "答え\n",
      "今いる地点とその前の地点の勾配は、-20.360000000000014\n"
     ]
    }
   ],
   "source": [
    "def grad(position):#今いる地点(position)と、その前の地点の勾配を求める関数\n",
    "    \n",
    "    x_difference = fuji[position,0] - fuji[position - 1,0]#ある地点の番号で差を求める\n",
    "    y_difference = fuji[position,3] - fuji[position - 1,3]#ある地点の標高で差を求める\n",
    "    gradient = y_difference/x_difference\n",
    "    \n",
    "    return gradient\n",
    "\n",
    "gradient = grad(50)#grad(今いる地点)\n",
    "print(\"答え\")\n",
    "print(\"今いる地点とその前の地点の勾配は、{}\".format(gradient))"
   ]
  },
  {
   "cell_type": "markdown",
   "metadata": {},
   "source": [
    "## 【問題3】移動先の地点を計算する関数を作成"
   ]
  },
  {
   "cell_type": "code",
   "execution_count": 4,
   "metadata": {},
   "outputs": [
    {
     "name": "stdout",
     "output_type": "stream",
     "text": [
      "答え\n",
      "移動先の地点は96\n"
     ]
    }
   ],
   "source": [
    "from decimal import Decimal, ROUND_HALF_UP#四捨五入するために使うパッケージ\n",
    "\n",
    "def after_move(now_position,a):#移動後の地点を求める関数\n",
    "    \n",
    "    move_position = now_position - a*grad(now_position)#移動先の地点を計算\n",
    "    move_position = Decimal(str(move_position))#四捨五入して出力したい変数をDecimal(str())で囲う\n",
    "    move_position= move_position.quantize(Decimal(\"0\"), rounding=ROUND_HALF_UP)#Decimal()には四捨五入したい桁数\n",
    "    move_position = int(move_position)#intに変換※そのままだとclass 'decimal.Decimal'\n",
    "    \n",
    "    return move_position\n",
    "\n",
    "move_position = after_move(100,0.2)#after_move(今いる地点,学習率)\n",
    "\n",
    "if move_position <= 0:#次の地点がマイナスになったら0にする\n",
    "    print(\"答え\")\n",
    "    print(\"移動先の地点は\".format(0))\n",
    "else:    \n",
    "    print(\"答え\")\n",
    "    print(\"移動先の地点は{}\".format(move_position))"
   ]
  },
  {
   "cell_type": "markdown",
   "metadata": {},
   "source": [
    "## 【問題4】山を下る関数を作成"
   ]
  },
  {
   "cell_type": "code",
   "execution_count": 5,
   "metadata": {},
   "outputs": [
    {
     "name": "stdout",
     "output_type": "stream",
     "text": [
      "答え\n",
      "山を下っていく過程での各地点xは[136, 102, 98, 95, 93, 89, 85, 82, 79, 73, 70, 78, 77, 75]\n"
     ]
    }
   ],
   "source": [
    "def down_mt(first_position,a):#山を降りていく過程を求める関数\n",
    "    \n",
    "    position_lst = [first_position]#最初の位置を追加\n",
    "    grad_lst = [grad(first_position)]#最初の位置の勾配を追加\n",
    "    while True:\n",
    "        positions = after_move(position_lst[-1],a)#次の移動先を求める\n",
    "        \n",
    "        if position_lst[-1] == positions:\n",
    "            \n",
    "            break#条件式に当てはまったら抜ける = 山を下り切ったと仮定   \n",
    "\n",
    "        position_lst.append(positions)#ループを抜けるまでリストに移動の過程を追加\n",
    "        grad_lst.append(grad(position_lst[-1]))#移動の過程における各地点の勾配を追加\n",
    "    return position_lst,grad_lst\n",
    "\n",
    "position_lst,grad_lst = down_mt(136,0.2)#最初の位置と学習率を入力\n",
    "print(\"答え\")\n",
    "print(\"山を下っていく過程での各地点xは{}\".format(position_lst))"
   ]
  },
  {
   "cell_type": "markdown",
   "metadata": {},
   "source": [
    "## 【問題5】下山過程の可視化"
   ]
  },
  {
   "cell_type": "markdown",
   "metadata": {},
   "source": [
    "### 断面図"
   ]
  },
  {
   "cell_type": "code",
   "execution_count": 6,
   "metadata": {},
   "outputs": [
    {
     "data": {
      "image/png": "[encoded data removed]",
      "text/plain": [
       "<matplotlib.figure.Figure at 0x112255f98>"
      ]
     },
     "metadata": {},
     "output_type": "display_data"
    }
   ],
   "source": [
    "#降りていく過程に合わせた標高を追加したリストを作る\n",
    "elevation_lst = []\n",
    "for i in position_lst:\n",
    "    elevation_lst.append(fuji[i,3])\n",
    "\n",
    "%matplotlib inline\n",
    "plt.title(\"the process  down_mountain\")\n",
    "plt.xlabel(\"position\")\n",
    "plt.ylabel(\"elevation(m)\")\n",
    "plt.plot(fuji[:,3])\n",
    "plt.scatter(position_lst,elevation_lst,c = \"red\")\n",
    "plt.ylim([0,4000])\n",
    "plt.show()"
   ]
  },
  {
   "cell_type": "markdown",
   "metadata": {},
   "source": [
    "### 標高の推移"
   ]
  },
  {
   "cell_type": "code",
   "execution_count": 7,
   "metadata": {},
   "outputs": [
    {
     "data": {
      "image/png": "[encoded data removed]",
      "text/plain": [
       "<matplotlib.figure.Figure at 0x1101c44e0>"
      ]
     },
     "metadata": {},
     "output_type": "display_data"
    }
   ],
   "source": [
    "%matplotlib inline\n",
    "plt.title(\"the process of changing elevation\")\n",
    "plt.ylabel(\"elevation(m)\")\n",
    "plt.xlabel(\" times to get down \")\n",
    "plt.plot(elevation_lst)\n",
    "plt.show()"
   ]
  },
  {
   "cell_type": "markdown",
   "metadata": {},
   "source": [
    "### 勾配の推移"
   ]
  },
  {
   "cell_type": "code",
   "execution_count": null,
   "metadata": {},
   "outputs": [],
   "source": [
    "\"\"\"\n",
    "%matplotlib inline\n",
    "plt.title(\"the process of changing gradient\")\n",
    "plt.ylabel(\"gradient\")\n",
    "plt.xlabel(\" times to get down \")\n",
    "plt.plot(grad_lst)\n",
    "plt.show()\n",
    "\"\"\""
   ]
  },
  {
   "cell_type": "markdown",
   "metadata": {},
   "source": [
    "## 【問題6】初期値の変更"
   ]
  },
  {
   "cell_type": "code",
   "execution_count": null,
   "metadata": {},
   "outputs": [],
   "source": [
    "lst_map = []\n",
    "lst_grad = []\n",
    "start_indices = np.arange(300)\n",
    "for i in range(300):\n",
    "    position_lst,grad_lst = down_mt(i,0.2)\n",
    "    lst_map.append(position_lst)\n",
    "    lst_grad.append(grad_lst)\n",
    "    \n",
    "position_lst = lst_map[142]\n",
    "grad_lst = lst_grad[142]\n",
    "heights = [fuji[i,3] for i in position_lst]\n",
    "\n",
    "\n",
    "%matplotlib inline\n",
    "plt.title(\"the process  down_mountain\")\n",
    "plt.xlabel(\"position\")\n",
    "plt.ylabel(\"elevation(m)\")\n",
    "plt.plot(fuji[:,3])\n",
    "plt.scatter(position_lst,elevation_lst,c = \"red\")\n",
    "plt.ylim([0,4000])\n",
    "plt.show()"
   ]
  },
  {
   "cell_type": "code",
   "execution_count": null,
   "metadata": {},
   "outputs": [],
   "source": []
  }
 ],
 "metadata": {
  "kernelspec": {
   "display_name": "Python 3",
   "language": "python",
   "name": "python3"
  },
  "language_info": {
   "codemirror_mode": {
    "name": "ipython",
    "version": 3
   },
   "file_extension": ".py",
   "mimetype": "text/x-python",
   "name": "python",
   "nbconvert_exporter": "python",
   "pygments_lexer": "ipython3",
   "version": "3.6.4"
  }
 },
 "nbformat": 4,
 "nbformat_minor": 2
}
