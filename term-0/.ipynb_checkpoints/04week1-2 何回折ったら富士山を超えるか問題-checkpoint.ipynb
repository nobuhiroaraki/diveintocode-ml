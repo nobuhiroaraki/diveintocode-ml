{
 "cells": [
  {
   "cell_type": "markdown",
   "metadata": {},
   "source": [
    "n回折った紙の厚さ tnは以下のように表せます。tn=t0×2n\n",
    "折る前の紙の厚さ t0は0.00008mとします。一般的なコピー用紙の厚さです。\n",
    "\n",
    "【問題1】富士山を超える最小の折る回数\n",
    "厚さが「富士山(3776m)」を超えるのは何回紙を折った時か計算するプログラムを作成してください。"
   ]
  },
  {
   "cell_type": "code",
   "execution_count": 8,
   "metadata": {},
   "outputs": [
    {
     "name": "stdout",
     "output_type": "stream",
     "text": [
      "答え：26回\n"
     ]
    }
   ],
   "source": [
    "THICKNESS = 0.00008\n",
    "thickness = THICKNESS\n",
    "num = 0\n",
    "\n",
    "while True:\n",
    "    thickness*=2 \n",
    "    num += 1\n",
    "    if thickness > 3776:\n",
    "        break\n",
    "\n",
    "print(\"答え：{}回\".format(num))"
   ]
  },
  {
   "cell_type": "markdown",
   "metadata": {},
   "source": [
    "【問題2】任意の厚さに対応した関数を作成\n",
    "\n",
    "\n",
    "距離を入力すると、何回折った時に超えるかを出力する関数を作成してください。引数として、折る前の厚さ t0も設定できるようにしましょう。\n",
    "この関数を利用して、「最も近い太陽以外の恒星」に到達するには紙を何回折る必要があるか計算してください。「最も近い太陽以外の恒星」の距離は調査してください。"
   ]
  },
  {
   "cell_type": "code",
   "execution_count": 10,
   "metadata": {
    "scrolled": true
   },
   "outputs": [
    {
     "name": "stdout",
     "output_type": "stream",
     "text": [
      "答え：69回\n"
     ]
    }
   ],
   "source": [
    "#距離を入力\n",
    "distance = 39.7362*(10**15)#最も近い太陽以外の恒星：プロキシマ・ケンタウリ\t\n",
    "\n",
    "def over_target(thickness,distance):\n",
    "    folded_thickness = thickness\n",
    "    num = 0\n",
    "    \n",
    "    while  True :\n",
    "        folded_thickness*= 2 \n",
    "        num += 1\n",
    "        if folded_thickness > distance:\n",
    "            break\n",
    "\n",
    "    return num\n",
    "\n",
    "n = over_target(THICKNESS,distance)\n",
    "\n",
    "print(\"答え：{}回\".format(n))"
   ]
  },
  {
   "cell_type": "markdown",
   "metadata": {},
   "source": [
    "【問題3】必要な紙の長さ\n",
    "\n",
    "実際のところ身近にある紙は43回はおろか10回も折れません。しかし、大きな紙ほどたくさん折ることができ、トイレットペーパーのような長い紙を一方向に折ることを考えた時の折れる回数を求める公式が存在します。\n",
    "厚さt₀の紙をn回折るために必要な紙の長さLは以下の公式で求まります。\n",
    "L=(π*t₀)/6*(2ⁿ + 4)*(2ⁿ-1)\n",
    "この公式を利用して、実際に紙を折り任意の厚さに到達するために必要な紙の長さを求める関数を作成してください。そしてこれを使って「月」「富士山」「最も近い太陽以外の恒星」に届くために必要な紙の長さを求めてください。"
   ]
  },
  {
   "cell_type": "code",
   "execution_count": 35,
   "metadata": {},
   "outputs": [
    {
     "name": "stdout",
     "output_type": "stream",
     "text": [
      "答え：　恒星まで紙を折って到達するには、1.4595803601100348e+37mの紙が必要\n",
      "答え：　富士山まで紙を折って到達するには、188646348487.24017mの紙が必要\n",
      "答え：　月まで紙を折って到達するには、1.2659841578856882e+19mの紙が必要\n"
     ]
    }
   ],
   "source": [
    "import math\n",
    "\n",
    "def paper_length(thickness,distance):\n",
    "    folded_thickness = thickness\n",
    "    n = 0\n",
    "    while True :\n",
    "        folded_thickness*= 2 \n",
    "        n += 1\n",
    "        if folded_thickness > distance :\n",
    "            break\n",
    "    L = math.pi*thickness/6*(2**n + 4)*(2**n - 1)\n",
    "    return L\n",
    "\n",
    "distance_lst = [39.7362*(10**15),3776,38400000]\n",
    "target_lst = [\"恒星\",\"富士山\",\"月\"]\n",
    "length_lst = [paper_length(0.00008,i) for i in distance_lst]\n",
    "\n",
    "for i,target in enumerate(target_lst):\n",
    "    print(\"答え：　{}まで紙を折って到達するには、{}mの紙が必要\"\n",
    "          .format(target,length_lst[i]))"
   ]
  },
  {
   "cell_type": "code",
   "execution_count": null,
   "metadata": {},
   "outputs": [],
   "source": []
  }
 ],
 "metadata": {
  "kernelspec": {
   "display_name": "Python 3",
   "language": "python",
   "name": "python3"
  },
  "language_info": {
   "codemirror_mode": {
    "name": "ipython",
    "version": 3
   },
   "file_extension": ".py",
   "mimetype": "text/x-python",
   "name": "python",
   "nbconvert_exporter": "python",
   "pygments_lexer": "ipython3",
   "version": "3.6.4"
  }
 },
 "nbformat": 4,
 "nbformat_minor": 2
}
