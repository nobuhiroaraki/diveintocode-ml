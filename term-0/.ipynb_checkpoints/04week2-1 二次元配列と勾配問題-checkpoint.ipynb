{
 "cells": [
  {
   "cell_type": "markdown",
   "metadata": {},
   "source": [
    "# 2.二次元配列と勾配問題\n",
    "#### 機械学習においては関数の最小値を見つけることが重要になってきます。\n",
    "#### そのために使われるのが勾配降下法です。\n",
    "#### この課題では勾配降下法を理解する準備として、NumPyを用いて関数の勾配を考えていきます。\n",
    "\n"
   ]
  },
  {
   "cell_type": "markdown",
   "metadata": {},
   "source": [
    "## 【問題1】1次関数\n",
    "#### xが-50から50の範囲で次の式を考えます。\n",
    "#### y = 1/2x + 1\n",
    "#### -50から50まで0.1間隔のxを表すndarrayと、各要素に対するyを表すndarrayを作成してください。"
   ]
  },
  {
   "cell_type": "code",
   "execution_count": 1,
   "metadata": {},
   "outputs": [
    {
     "name": "stdout",
     "output_type": "stream",
     "text": [
      "答え\n",
      "x = [-50.  -49.9 -49.8 ...  49.8  49.9  50. ]\n",
      "y = [-24.   -23.95 -23.9  ...  25.9   25.95  26.  ]\n"
     ]
    }
   ],
   "source": [
    "import numpy as np\n",
    "import matplotlib.pyplot as plt\n",
    "\n",
    "x = np.arange(-50,50.1,0.1)#-50~50まで0.1ずつ\n",
    "y = 1/2*x + 1\n",
    "\n",
    "\n",
    "print(\"答え\")\n",
    "print(\"x = {}\".format(x))\n",
    "print(\"y = {}\".format(y))\n"
   ]
  },
  {
   "cell_type": "markdown",
   "metadata": {},
   "source": [
    "## 【問題2】配列の結合\n",
    "#### 問題1で作成したndarrayを結合し、(1001, 2)の形の配列にしてください。0列目にx、1列目にyが来るようにします。"
   ]
  },
  {
   "cell_type": "code",
   "execution_count": 2,
   "metadata": {},
   "outputs": [
    {
     "name": "stdout",
     "output_type": "stream",
     "text": [
      "答え\n",
      "xy_ndarrayのshapeは(1001, 2)\n",
      "[[-50.   -24.  ]\n",
      " [-49.9  -23.95]\n",
      " [-49.8  -23.9 ]\n",
      " ...\n",
      " [ 49.8   25.9 ]\n",
      " [ 49.9   25.95]\n",
      " [ 50.    26.  ]]\n"
     ]
    }
   ],
   "source": [
    "x_ndarray = x.reshape(1001,1)#多次元に変形\n",
    "y_ndarray = y.reshape(1001,1)\n",
    "xy_ndarray = np.hstack((x_ndarray,y_ndarray))#hstackで横方向に結合\n",
    "print(\"答え\")\n",
    "print(\"xy_ndarrayのshapeは{}\".format(xy_ndarray.shape))\n",
    "print(xy_ndarray)"
   ]
  },
  {
   "cell_type": "markdown",
   "metadata": {},
   "source": [
    "## 【問題3】勾配を求める\n",
    "#### 各x座標における勾配を求めます。ここで勾配はyの変化量をxの変化量で割ることで計算します。\n",
    "#### 《注意》\n",
    "#### ・厳密に各点における勾配を求めるには極限（微分）を利用する必要があります\n",
    "#### ・勾配はx座標の間隔を使うので、xの要素数に対して一つ少なくなります"
   ]
  },
  {
   "cell_type": "code",
   "execution_count": 3,
   "metadata": {},
   "outputs": [
    {
     "name": "stdout",
     "output_type": "stream",
     "text": [
      "答え\n",
      "gradのshapeは(1000, 1)\n"
     ]
    }
   ],
   "source": [
    "difference_x = x_ndarray[1:] - x_ndarray[:-1]#要素数を合わせるために[:-1]までに\n",
    "difference_y = y_ndarray[1:] - y_ndarray[:-1]\n",
    "\n",
    "grad = difference_y / difference_x\n",
    "print(\"答え\")\n",
    "print(\"gradのshapeは{}\".format(grad.shape))\n"
   ]
  },
  {
   "cell_type": "markdown",
   "metadata": {},
   "source": [
    "## 【問題4】グラフを描く\n",
    "#### 1次関数のグラフをMatplotlibを用いて描いてください。"
   ]
  },
  {
   "cell_type": "code",
   "execution_count": 4,
   "metadata": {},
   "outputs": [
    {
     "data": {
      "image/png": "[encoded data removed]",
      "text/plain": [
       "<matplotlib.figure.Figure at 0x10c5f8748>"
      ]
     },
     "metadata": {},
     "output_type": "display_data"
    }
   ],
   "source": [
    "%matplotlib inline\n",
    "plt.plot(x_ndarray,y_ndarray)\n",
    "plt.title(\"transitive of y\")\n",
    "plt.xlabel(\"x\")\n",
    "plt.ylabel(\"y\")\n",
    "plt.xticks(np.arange(-50,60,10))\n",
    "plt.yticks(np.arange(-24,30,5))\n",
    "plt.show()"
   ]
  },
  {
   "cell_type": "markdown",
   "metadata": {},
   "source": [
    "#### また、それとは別に横軸をx、縦軸を勾配としたグラフも描いてください。"
   ]
  },
  {
   "cell_type": "code",
   "execution_count": 5,
   "metadata": {},
   "outputs": [
    {
     "data": {
      "image/png": "[encoded data removed]",
      "text/plain": [
       "<matplotlib.figure.Figure at 0x10a760710>"
      ]
     },
     "metadata": {},
     "output_type": "display_data"
    }
   ],
   "source": [
    "%matplotlib inline\n",
    "plt.title(\"transitive of grad\")\n",
    "plt.xlabel(\"x\")\n",
    "plt.ylabel(\"grad\")\n",
    "plt.xticks(np.arange(-50,60,10))\n",
    "plt.plot(x_ndarray[1:,:],grad)#x_ndarrayの形は(1001,1)だが、gradが(1000,1)のため最初の一つ目を飛ばして表示\n",
    "plt.show()"
   ]
  },
  {
   "cell_type": "markdown",
   "metadata": {},
   "source": [
    "## 【問題5】Pythonの関数化\n",
    "#### 問題1から問題3までの範囲をまとめて行うPythonの関数を雛形を参考に作成してください。<br>そして、以下の3式の勾配を0.1間隔で求めてndarrayで出力してください。\n",
    "#### ・y=x²(−50≤x≤50)\n",
    "#### ・y=2x²+2ˣ(−50≤x≤50)\n",
    "#### ・y=sin(x(1/2))(0≤x≤50)\n",
    "\n",
    "#### また、問題4と同様にグラフを描いてください。<br>ndarrayに対して三角関数のsinの計算を行うには np.sin()を用います。"
   ]
  },
  {
   "cell_type": "code",
   "execution_count": 6,
   "metadata": {},
   "outputs": [],
   "source": [
    "def compute_gradient(function,x_range):\n",
    "    x = np.arange(x_range[0], x_range[1], x_range[2])  # xを定義\n",
    "    y = function\n",
    "\n",
    "    array_x = x.reshape(len(x), 1)  # 結合するために変形\n",
    "    array_y = y.reshape(len(y), 1)\n",
    "    array_xy = np.hstack((array_x, array_y))  # 横方向に結合\n",
    "\n",
    "    difference_x = array_x[1:] - array_x[:-1]  # 変化量の差を求める\n",
    "    difference_y = array_y[1:] - array_y[:-1]\n",
    "    gradient = difference_y / difference_x  # 勾配を求める\n",
    "\n",
    "    return array_x,array_y,array_xy,gradient\n",
    "\n",
    "#式に代入するためにarray_xを再定義\n",
    "x_range=(-50, 50.1, 0.1)\n",
    "x =  np.arange(x_range[0],x_range[1],x_range[2])\n",
    "array_x = x.reshape(len(x),1)\n",
    "\n",
    "#求めたい式\n",
    "function1 = array_x**2\n",
    "function2 = 2*(array_x)**2 + 2**array_x\n",
    "function3 = np.sin((1/2)*array_x)\n",
    "\n",
    "array_x,array_y,array_xy,gradient = compute_gradient(function3,x_range)"
   ]
  },
  {
   "cell_type": "markdown",
   "metadata": {},
   "source": [
    "### ①y=x²(−50≤x≤50)"
   ]
  },
  {
   "cell_type": "code",
   "execution_count": 7,
   "metadata": {},
   "outputs": [
    {
     "name": "stdout",
     "output_type": "stream",
     "text": [
      "[[ -50.   2500.  ]\n",
      " [ -49.9  2490.01]\n",
      " [ -49.8  2480.04]\n",
      " ...\n",
      " [  49.8  2480.04]\n",
      " [  49.9  2490.01]\n",
      " [  50.   2500.  ]]\n"
     ]
    },
    {
     "data": {
      "image/png": "[encoded data removed]",
      "text/plain": [
       "<matplotlib.figure.Figure at 0x115742550>"
      ]
     },
     "metadata": {},
     "output_type": "display_data"
    }
   ],
   "source": [
    "array_x,array_y,array_xy,gradient = compute_gradient(function1,x_range)\n",
    "print(array_xy)\n",
    "plt.plot(array_x,array_y)\n",
    "plt.title(\"transitive_y\")\n",
    "plt.xlabel(\"x\")\n",
    "plt.ylabel(\"y\")\n",
    "plt.xticks(np.arange(-50,60,10))\n",
    "plt.show()"
   ]
  },
  {
   "cell_type": "markdown",
   "metadata": {},
   "source": [
    "### ②y=2x²+2ˣ(−50≤x≤50)"
   ]
  },
  {
   "cell_type": "code",
   "execution_count": 8,
   "metadata": {},
   "outputs": [
    {
     "name": "stdout",
     "output_type": "stream",
     "text": [
      "[[-5.00000000e+01  5.00000000e+03]\n",
      " [-4.99000000e+01  4.98002000e+03]\n",
      " [-4.98000000e+01  4.96008000e+03]\n",
      " ...\n",
      " [ 4.98000000e+01  9.80152798e+14]\n",
      " [ 4.99000000e+01  1.05050176e+15]\n",
      " [ 5.00000000e+01  1.12589991e+15]]\n"
     ]
    },
    {
     "data": {
      "image/png": "[encoded data removed]",
      "text/plain": [
       "<matplotlib.figure.Figure at 0x1157ff2b0>"
      ]
     },
     "metadata": {},
     "output_type": "display_data"
    }
   ],
   "source": [
    "array_x,array_y,array_xy,gradient = compute_gradient(function2,x_range)\n",
    "print(array_xy)\n",
    "plt.plot(array_x,array_y)\n",
    "plt.title(\"transitive_y\")\n",
    "plt.xlabel(\"x\")\n",
    "plt.ylabel(\"y\")\n",
    "plt.xticks(np.arange(-50,60,10))\n",
    "plt.show()"
   ]
  },
  {
   "cell_type": "markdown",
   "metadata": {},
   "source": [
    "### ③y=sin(x(1/2))(0≤x≤50)"
   ]
  },
  {
   "cell_type": "code",
   "execution_count": 9,
   "metadata": {},
   "outputs": [
    {
     "name": "stdout",
     "output_type": "stream",
     "text": [
      "[[ 7.10542736e-13  3.55271368e-13]\n",
      " [ 1.00000000e-01  4.99791693e-02]\n",
      " [ 2.00000000e-01  9.98334166e-02]\n",
      " ...\n",
      " [ 4.98000000e+01 -2.30645706e-01]\n",
      " [ 4.99000000e+01 -1.81725838e-01]\n",
      " [ 5.00000000e+01 -1.32351750e-01]]\n"
     ]
    },
    {
     "data": {
      "image/png": "[encoded data removed]",
      "text/plain": [
       "<matplotlib.figure.Figure at 0x1158e1b38>"
      ]
     },
     "metadata": {},
     "output_type": "display_data"
    }
   ],
   "source": [
    "array_x,array_y,array_xy,gradient = compute_gradient(function3,x_range)\n",
    "print(array_xy[500:])\n",
    "plt.plot(array_x[500:],array_y[500:])\n",
    "plt.title(\"transitive_y\")\n",
    "plt.xlabel(\"x\")\n",
    "plt.ylabel(\"y\")\n",
    "plt.show()"
   ]
  },
  {
   "cell_type": "markdown",
   "metadata": {},
   "source": [
    "## 【問題6】最小値を求める"
   ]
  },
  {
   "cell_type": "markdown",
   "metadata": {},
   "source": [
    "#### 問題5で扱った関数のyの最小値を求めます。xの範囲も問題5と同様とします。\n",
    "#### 今回は勾配降下法ではなく、ndarrayのminメソッド、argminメソッドを用いてください。\n",
    "#### minメソッドは最小値を、argminメソッドは最小値のインデックスを取得することができます。\n",
    "#### また、最小のyをとる前後の勾配を表示してください。"
   ]
  },
  {
   "cell_type": "code",
   "execution_count": 10,
   "metadata": {
    "scrolled": true
   },
   "outputs": [
    {
     "name": "stdout",
     "output_type": "stream",
     "text": [
      "yの最小値は5.048709793414476e-25\n",
      "最小値のインデックスは500\n",
      "最小値の１つ前の勾配は[-0.1]、１つ後の勾配は[0.3]\n"
     ]
    }
   ],
   "source": [
    "#function1\n",
    "array_x,array_y,array_xy,gradient = compute_gradient(function1,x_range)\n",
    "min_y = array_y.min()\n",
    "argmin_y = array_y.argmin()\n",
    "print(\"yの最小値は{}\".format(min_y))\n",
    "print(\"最小値のインデックスは{}\".format(argmin_y))\n",
    "print(\"最小値の１つ前の勾配は{}、１つ後の勾配は{}\".format(gradient[argmin_y - 1],gradient[argmin_y + 1]))"
   ]
  },
  {
   "cell_type": "code",
   "execution_count": 11,
   "metadata": {},
   "outputs": [
    {
     "name": "stdout",
     "output_type": "stream",
     "text": [
      "yの最小値は0.9505505632959851\n",
      "最小値のインデックスは498\n",
      "最小値の１つ前の勾配は[-0.41701833]、１つ後の勾配は[0.46967008]\n"
     ]
    }
   ],
   "source": [
    "#function2\n",
    "array_x,array_y,array_xy,gradient = compute_gradient(function2,x_range)\n",
    "min_y = array_y.min()\n",
    "argmin_y = array_y.argmin()\n",
    "print(\"yの最小値は{}\".format(min_y))\n",
    "print(\"最小値のインデックスは{}\".format(argmin_y))\n",
    "print(\"最小値の１つ前の勾配は{}、１つ後の勾配は{}\".format(gradient[argmin_y - 1],gradient[argmin_y + 1]))"
   ]
  },
  {
   "cell_type": "code",
   "execution_count": 12,
   "metadata": {},
   "outputs": [
    {
     "name": "stdout",
     "output_type": "stream",
     "text": [
      "yの最小値は-0.9999920733059178\n",
      "最小値のインデックスは343\n",
      "最小値の１つ前の勾配は[-0.01050731]、１つ後の勾配は[0.03944566]\n"
     ]
    }
   ],
   "source": [
    "#function3\n",
    "array_x,array_y,array_xy,gradient = compute_gradient(function3,x_range)\n",
    "min_y = array_y.min()\n",
    "argmin_y = array_y.argmin()\n",
    "print(\"yの最小値は{}\".format(min_y))\n",
    "print(\"最小値のインデックスは{}\".format(argmin_y))\n",
    "print(\"最小値の１つ前の勾配は{}、１つ後の勾配は{}\".format(gradient[argmin_y - 1],gradient[argmin_y + 1]))"
   ]
  }
 ],
 "metadata": {
  "kernelspec": {
   "display_name": "Python 3",
   "language": "python",
   "name": "python3"
  },
  "language_info": {
   "codemirror_mode": {
    "name": "ipython",
    "version": 3
   },
   "file_extension": ".py",
   "mimetype": "text/x-python",
   "name": "python",
   "nbconvert_exporter": "python",
   "pygments_lexer": "ipython3",
   "version": "3.6.4"
  }
 },
 "nbformat": 4,
 "nbformat_minor": 2
}
