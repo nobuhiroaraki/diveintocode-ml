{
 "cells": [
  {
   "cell_type": "markdown",
   "metadata": {},
   "source": [
    "## 2.行列積\n",
    "### 以下のような行列A、Bを考えます。\n",
    "\n",
    "### A =<br>[-1  2  3]<br> [4  -5  6]<br>[7   8 -9]<br>B=<br>[0  2  1]<br>[0  2  -8]<br>[2  9  -1]\n",
    "### NumPyで表すと次のようになります。"
   ]
  },
  {
   "cell_type": "code",
   "execution_count": 1,
   "metadata": {},
   "outputs": [],
   "source": [
    "import numpy as np\n",
    "a_ndarray = np.array([[-1, 2, 3], [4, -5, 6], [7, 8, -9]])\n",
    "b_ndarray = np.array([[0, 2, 1], [0, 2, -8], [2, 9, -1]])"
   ]
  },
  {
   "cell_type": "markdown",
   "metadata": {},
   "source": [
    "# 【問題1】行列積を手計算する\n",
    "### AとBの行列積を手計算で解いてください。計算過程もマークダウンテキストを用いて説明してください。"
   ]
  },
  {
   "cell_type": "markdown",
   "metadata": {},
   "source": [
    "1行1列目:(-1×0)+(2×0)+(3×2)  1行2列目:(-1×2)+(2×2)+(3×9)  1行３列目:(-1×1)+(2×(-8))+(3×(-1))<br>\n",
    "2行1列目:(4×0)+(-5×0)+(6×2)  2行2列目:(4×2)+(-5×2)+(6×9)   2行３列目:(4×1)+(-5×(-8))+(6×(-1))<br>\n",
    "3行1列目:(7×0)+(8×0)+(-9×2)  3行2列目:(7×2)+(8×2)+(-9×9)   3行３列目:(7×1)+(8×(-8))+(-9×(-1))\n",
    "\n",
    "### 答え：<br>[ 6    29   -20]<br>[12 52  38]<br>[-18-51-48]"
   ]
  },
  {
   "cell_type": "markdown",
   "metadata": {},
   "source": [
    "# 【問題2】NumPyの関数による計算\n",
    "### この行列積はNumPyのnp.matmul()やnp.dot()、または@演算子を使うことで簡単に計算できます。<br>これらを使い行列積を計算してください。\n",
    "### 《3種類の違い》<br>np.matmul()とnp.dot()は3次元以上の配列で挙動が変わります。@演算子はnp.matmul()と同じ働きをします。<br>今回のような2次元配列の行列積ではnp.matmul()や@演算子が公式に推奨されています。<br>以下はnp.dot()の説明からの引用です。<br>If both a and b are 2-D arrays, it is matrix multiplication, but using matmul or a @ b is preferred."
   ]
  },
  {
   "cell_type": "markdown",
   "metadata": {},
   "source": [
    "## 〜np.matmul()を用いた場合〜"
   ]
  },
  {
   "cell_type": "code",
   "execution_count": 2,
   "metadata": {},
   "outputs": [
    {
     "name": "stdout",
     "output_type": "stream",
     "text": [
      "[[  6  29 -20]\n",
      " [ 12  52  38]\n",
      " [-18 -51 -48]]\n"
     ]
    }
   ],
   "source": [
    "print(np.matmul(a_ndarray, b_ndarray))"
   ]
  },
  {
   "cell_type": "markdown",
   "metadata": {},
   "source": [
    "## 〜np.dot()を用いた場合〜"
   ]
  },
  {
   "cell_type": "code",
   "execution_count": 3,
   "metadata": {},
   "outputs": [
    {
     "name": "stdout",
     "output_type": "stream",
     "text": [
      "[[  6  29 -20]\n",
      " [ 12  52  38]\n",
      " [-18 -51 -48]]\n"
     ]
    }
   ],
   "source": [
    "print(np.dot(a_ndarray,b_ndarray))"
   ]
  },
  {
   "cell_type": "markdown",
   "metadata": {},
   "source": [
    "## 〜@演算子を用いた場合〜"
   ]
  },
  {
   "cell_type": "code",
   "execution_count": 4,
   "metadata": {},
   "outputs": [
    {
     "name": "stdout",
     "output_type": "stream",
     "text": [
      "[[  6  29 -20]\n",
      " [ 12  52  38]\n",
      " [-18 -51 -48]]\n"
     ]
    }
   ],
   "source": [
    "print(a_ndarray @ b_ndarray)"
   ]
  },
  {
   "cell_type": "markdown",
   "metadata": {},
   "source": [
    "## 3.行列積のスクラッチ実装\n",
    "### np.matmul()やnp.dot()、または@演算子を使わずに、<br>手計算で行った計算過程をNumPyによるスクラッチ実装で再現していきましょう。<br>これにより、行列積の計算に対する理解を深めます。<br>ここで考えるのは行列AとBのような次元が2の配列に限定します。"
   ]
  },
  {
   "cell_type": "markdown",
   "metadata": {},
   "source": [
    "# 【問題3】ある要素の計算を実装\n",
    "### 手計算をする際はまず行列Aの0行目と行列Bの0列目に注目し、以下の計算を行ったかと思います。\n",
    "#### ・行列Aの(0,0)の要素a0,0と行列Bの(0,0)の要素 b0,0を掛け合わせる<br>・行列Aの(0,1)の要素 a0,1と行列Bの(1,0)の要素b1,0を掛け合わせる<br>・行列Aの(0,2)の要素a0,2と行列Bの(2,0)の要素 b2,0を掛け合わせる<br>・それらの値を全て足し合わせる\n",
    "### この計算をnp.matmul()やnp.dot()、または@演算子を使わずに行うコードを書いてください。"
   ]
  },
  {
   "cell_type": "code",
   "execution_count": 5,
   "metadata": {},
   "outputs": [
    {
     "name": "stdout",
     "output_type": "stream",
     "text": [
      "[[  6  29 -20]\n",
      " [ 12  52  38]\n",
      " [-18 -51 -48]]\n"
     ]
    }
   ],
   "source": [
    "result_lst = []\n",
    "for i in range(3):\n",
    "    lines_lst = []# 3行分のリストを作成\n",
    "    for j in range(3):\n",
    "        total = 0\n",
    "        for k in range(3):\n",
    "            total += a_ndarray[i][k] * b_ndarray[k][j]#x行y列の計算で掛けたものを足していく(i,j,kは0,0,0/0,0,1/0,0,2と進んでいく)\n",
    "        lines_lst.append(total)#前行で出したx行y列目の合計をリストに追加する\n",
    "    result_lst.append(lines_lst)#一つのリスト に入れる(2次元化)\n",
    "    result_ndarray = np.array(result_lst)#リストをarrayに変換\n",
    "\n",
    "print(result_ndarray)#3行を出力"
   ]
  },
  {
   "cell_type": "markdown",
   "metadata": {},
   "source": [
    "# 【問題4】行列積を行う関数の作成\n",
    "### 問題3のコードを拡張し、行列積のスクラッチ実装を完成させてください。<br>行列AとBを引数に受け取り、行列積を返す関数としてください。\n",
    "### 行列積を計算する場合は、問題3の計算を異なる行や列に対して繰り返していくことになります。<br>for文を使い、ndarrayのインデックスを動かしていくことで、合計9つの要素が計算できます。<br>インデックス iや j を1増やすと、次の行や列に移ることができます。\n",
    "\n"
   ]
  },
  {
   "cell_type": "code",
   "execution_count": 6,
   "metadata": {},
   "outputs": [
    {
     "name": "stdout",
     "output_type": "stream",
     "text": [
      "[[  6  29 -20]\n",
      " [ 12  52  38]\n",
      " [-18 -51 -48]]\n"
     ]
    }
   ],
   "source": [
    "def matrix_product(a,b):#a,bの行列積を求める関数\n",
    "    num = len(a)\n",
    "    result_lst = []\n",
    "    for i in range(num):\n",
    "        lines_lst = []\n",
    "        for j in range(num):\n",
    "            total = 0\n",
    "            for k in range(num):\n",
    "                total += a[i][k] * b[k][j]\n",
    "            lines_lst.append(total)\n",
    "        result_lst.append(lines_lst)\n",
    "    result_ndarray = np.array(result_lst)\n",
    "\n",
    "    return result_ndarray\n",
    "\n",
    "result = matrix_product(a_ndarray,b_ndarray)#積を求めたい行列a、b\n",
    "\n",
    "print(result)"
   ]
  },
  {
   "cell_type": "markdown",
   "metadata": {},
   "source": [
    "## 4.行列積が定義されない組み合わせの行列\n",
    "### 次に以下のような例を考えます。\n",
    "### D =<br>[-1  2  3]<br> [4  -5  6]<br>E=<br>[-9  8  7]<br>[6  -5  4]"
   ]
  },
  {
   "cell_type": "code",
   "execution_count": 7,
   "metadata": {},
   "outputs": [],
   "source": [
    "d_ndarray = np.array([[-1, 2, 3], [4, -5, 6]])\n",
    "e_ndarray = np.array([[-9, 8, 7], [6, -5, 4]])"
   ]
  },
  {
   "cell_type": "markdown",
   "metadata": {},
   "source": [
    "### 行列積DEはDの列数とEの行数が等しい場合に定義されていますから、この例では計算ができません。\n",
    "### ※aの列数とbの行数が等しくないと行列積は求められない"
   ]
  },
  {
   "cell_type": "markdown",
   "metadata": {},
   "source": [
    "# 【問題5】計算が定義されない入力を判定する\n",
    "### 問題4で作成した関数は、実装方法によってはこのDとEの配列を入力しても動いてしまう可能性があります。<br>この場合、不適切な計算が行われることになります。<br>また、途中でエラーになる場合でも、なぜエラーになったかが直接的には分かりづらいメッセージが表示されます。\n",
    "### if文などによってこれを防ぎ、入力される形に問題があることをprint()を使い表示するコードを書き加えてください。"
   ]
  },
  {
   "cell_type": "code",
   "execution_count": 13,
   "metadata": {},
   "outputs": [
    {
     "name": "stdout",
     "output_type": "stream",
     "text": [
      "行列aの列数と行列bの行数が等しくないため、行列積を求めることができません\n"
     ]
    }
   ],
   "source": [
    "def matrix_product(a,b):#a,bの行列積を求める関数\n",
    "    num = len(a)\n",
    "    result_lst = []\n",
    "    for i in range(num):\n",
    "        lines_lst = []\n",
    "        for j in range(num):\n",
    "            total = 0\n",
    "            for k in range(num):\n",
    "                total += a[i][k] * b[k][j]\n",
    "            lines_lst.append(total)\n",
    "        result_lst.append(lines_lst)\n",
    "    result_ndarray = np.array(result_lst)\n",
    "    \n",
    "    column = np.size(a, axis = 1)#行の要素数=列数\n",
    "    line = np.size(b,axis = 0)#列の要素数=行数\n",
    "    \n",
    "    return result_ndarray,column,line\n",
    "\n",
    "result,column,line =  matrix_product(d_ndarray,e_ndarray)#積を求めたい行列a、b\n",
    "\n",
    "if column == line:\n",
    "    print(result)\n",
    "else:\n",
    "    print(\"行列aの列数と行列bの行数が等しくないため、行列積を求めることができません\")"
   ]
  },
  {
   "cell_type": "markdown",
   "metadata": {},
   "source": [
    "# 【問題6】転置\n",
    "### 片方の行列を転置することで、行列積が計算できるようになります。\n",
    "### np.transpose()や.Tアトリビュートを用いて転置し、行列積を計算してください。"
   ]
  },
  {
   "cell_type": "markdown",
   "metadata": {},
   "source": [
    "## 〜np.transpose()を用いた場合〜"
   ]
  },
  {
   "cell_type": "code",
   "execution_count": 24,
   "metadata": {},
   "outputs": [
    {
     "name": "stdout",
     "output_type": "stream",
     "text": [
      "[[ 33 -28   9]\n",
      " [-48  41  -6]\n",
      " [  9  -6  45]]\n"
     ]
    }
   ],
   "source": [
    "trans_d_ndarray = np.transpose(d_ndarray,axes=[1,0])\n",
    "print(trans_d_ndarray @ e_ndarray)"
   ]
  },
  {
   "cell_type": "markdown",
   "metadata": {},
   "source": [
    "## 〜.Tアトリビュートを用いた場合〜"
   ]
  },
  {
   "cell_type": "code",
   "execution_count": 23,
   "metadata": {},
   "outputs": [
    {
     "name": "stdout",
     "output_type": "stream",
     "text": [
      "[[ 33 -28   9]\n",
      " [-48  41  -6]\n",
      " [  9  -6  45]]\n"
     ]
    }
   ],
   "source": [
    "d_ndarray_T = d_ndarray.T\n",
    "print(d_ndarray_T @ e_ndarray)"
   ]
  }
 ],
 "metadata": {
  "kernelspec": {
   "display_name": "Python 3",
   "language": "python",
   "name": "python3"
  },
  "language_info": {
   "codemirror_mode": {
    "name": "ipython",
    "version": 3
   },
   "file_extension": ".py",
   "mimetype": "text/x-python",
   "name": "python",
   "nbconvert_exporter": "python",
   "pygments_lexer": "ipython3",
   "version": "3.6.4"
  }
 },
 "nbformat": 4,
 "nbformat_minor": 2
}
