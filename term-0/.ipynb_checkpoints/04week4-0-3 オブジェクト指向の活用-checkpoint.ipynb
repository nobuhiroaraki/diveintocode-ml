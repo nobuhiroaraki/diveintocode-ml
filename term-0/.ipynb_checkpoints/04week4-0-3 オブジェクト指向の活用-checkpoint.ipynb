{
 "cells": [
  {
   "cell_type": "markdown",
   "metadata": {},
   "source": [
    "# 【問題1】これまで利用してきたクラスの列挙"
   ]
  },
  {
   "cell_type": "markdown",
   "metadata": {},
   "source": [
    "\n",
    "* pandas➡︎DataFrame/Series\n",
    "* matplotlib➡︎Pyplot/Legend\n",
    "* scikit-learn➡︎KNeighborsClassifier/DecisionTreeRegressor"
   ]
  },
  {
   "cell_type": "markdown",
   "metadata": {},
   "source": [
    "# 【問題2】これまで利用してきたメソッドやインスタンス変数の列挙"
   ]
  },
  {
   "cell_type": "markdown",
   "metadata": {},
   "source": [
    "* メソッド➡︎.reshape()/.isnull()/.append()/.sort()/.info()\n",
    "* インスタンス➡︎.columns/.index/.data/.values/.T"
   ]
  },
  {
   "cell_type": "markdown",
   "metadata": {},
   "source": [
    "# 【問題3】標準化クラスをスクラッチで作成"
   ]
  },
  {
   "cell_type": "code",
   "execution_count": 1,
   "metadata": {},
   "outputs": [],
   "source": [
    "#標準化クラスを作成\n",
    "\n",
    "class ScratchStandardScaler():\n",
    "    \"\"\"\n",
    "    標準化のためのクラス\n",
    "\n",
    "    Attributes\n",
    "    ----------\n",
    "    mean_ : 次の形のndarray, shape(n_features,)\n",
    "        平均\n",
    "    var_ : 次の形のndarray, shape(n_features,)\n",
    "        分散\n",
    "    \"\"\"\n",
    "    def fit(self, X):\n",
    "        \"\"\"\n",
    "        標準化のために平均と標準偏差を計算する。\n",
    "\n",
    "        Parameters\n",
    "        ----------\n",
    "        X : 次の形のndarray, shape (n_samples, n_features)\n",
    "            訓練データ\n",
    "        \"\"\"\n",
    "        self.mean_ = np.mean(X)\n",
    "        self.var_ = np.var(X)\n",
    "        pass\n",
    "   \n",
    "\n",
    "    def transform(self, X):\n",
    "        \"\"\"\n",
    "        fitで求めた値を使い標準化を行う。\n",
    "\n",
    "        Parameters\n",
    "        ----------\n",
    "        X : 次の形のndarray, shape (n_samples, n_features)\n",
    "            特徴量\n",
    "\n",
    "        Returns\n",
    "        ----------\n",
    "        X_scaled : 次の形のndarray, shape (n_samples, n_features)\n",
    "            標準化された特緒量\n",
    "        \"\"\"\n",
    "        X_scaled = X - self.mean_/self.var_**(1/2)#(元のデータ - 平均) / 標準偏差(※分散の1/2乗)\n",
    "        pass\n",
    "        return X_scaled"
   ]
  },
  {
   "cell_type": "code",
   "execution_count": 2,
   "metadata": {},
   "outputs": [
    {
     "name": "stdout",
     "output_type": "stream",
     "text": [
      "平均 : 2.46\n",
      "分散 : 3.1744\n",
      "[[ 3.71928424  2.11928424  0.01928424 -1.18071576]\n",
      " [ 3.51928424  1.61928424  0.01928424 -1.18071576]\n",
      " [ 3.31928424  1.81928424 -0.08071576 -1.18071576]\n",
      " [ 3.21928424  1.71928424  0.11928424 -1.18071576]\n",
      " [ 3.61928424  2.21928424  0.01928424 -1.18071576]\n",
      " [ 4.01928424  2.51928424  0.31928424 -0.98071576]\n",
      " [ 3.21928424  2.01928424  0.01928424 -1.08071576]\n",
      " [ 3.61928424  2.01928424  0.11928424 -1.18071576]\n",
      " [ 3.01928424  1.51928424  0.01928424 -1.18071576]\n",
      " [ 3.51928424  1.71928424  0.11928424 -1.28071576]]\n"
     ]
    }
   ],
   "source": [
    "#実行するコード\n",
    "\n",
    "import numpy as np\n",
    "from sklearn.datasets import load_iris\n",
    "data = load_iris()\n",
    "X = data.data[:10]\n",
    "scratch_scaler = ScratchStandardScaler()\n",
    "scratch_scaler.fit(X)\n",
    "print(\"平均 : {}\".format(scratch_scaler.mean_))\n",
    "print(\"分散 : {}\".format(scratch_scaler.var_))\n",
    "X_std = scratch_scaler.transform(X)\n",
    "print(X_std)"
   ]
  },
  {
   "cell_type": "markdown",
   "metadata": {},
   "source": [
    "# 【問題4】 四則演算を行うクラスの作成"
   ]
  },
  {
   "cell_type": "code",
   "execution_count": 36,
   "metadata": {},
   "outputs": [],
   "source": [
    "class ExampleClass():\n",
    "    \"\"\"\n",
    "    説明用の簡単なクラス\n",
    "\n",
    "    Parameters\n",
    "    ----------\n",
    "    value : float or int\n",
    "        初期値\n",
    "\n",
    "    Attributes\n",
    "    ----------\n",
    "    value : float or int\n",
    "        計算結果\n",
    "    \"\"\"\n",
    "    def __init__(self, value):\n",
    "        self.value = value\n",
    "        print(\"初期値{}が設定されました\".format(self.value))\n",
    "    \n",
    "    def add(self, value2):\n",
    "        \"\"\"\n",
    "        受け取った引数をself.valueに加える\n",
    "        \"\"\"\n",
    "        if type(value2) != int and type(value2) != float:\n",
    "            print(\"数値以外が入力されたため計算できません。valueは以下から変わりません\")\n",
    "        else:\n",
    "            self.value += value2\n",
    "       \n",
    "    def sub(self,value3):\n",
    "        \"\"\"\n",
    "        受け取った引数を、self.valueから引く\n",
    "        \"\"\"\n",
    "        if type(value3) != int and type(value3) != float:\n",
    "            print(\"数値以外が入力されたため計算できません。valueは以下から変わりません\")\n",
    "        else:\n",
    "            self.value -= value3\n",
    "    \n",
    "    def multi(self,value4):\n",
    "        \"\"\"\n",
    "        受け取った引数を、self.valueにかける\n",
    "        \"\"\"\n",
    "        if type(value4) != int and type(value4) != float:\n",
    "            print(\"数値以外が入力されたため計算できません。valueは以下から変わりません\")\n",
    "        else:\n",
    "            self.value *= value4\n",
    "       \n",
    "        \n",
    "    def divi(self,value5):\n",
    "        \"\"\"\n",
    "        受け取った引数でself.valueを割る\n",
    "        \"\"\"\n",
    "        if type(value5) != int and type(value5) != float:\n",
    "            print(\"数値以外が入力されたため計算できません。valueは以下から変わりません\")\n",
    "        else:\n",
    "            self.value /= value5    \n",
    "\n"
   ]
  },
  {
   "cell_type": "code",
   "execution_count": 37,
   "metadata": {},
   "outputs": [
    {
     "name": "stdout",
     "output_type": "stream",
     "text": [
      "初期値5が設定されました\n",
      "value : 8\n",
      "value : 6\n",
      "value : 24\n",
      "value : 1.0\n",
      "数値以外が入力されたため計算できません。valueは以下から変わりません\n",
      "value : 1.0\n",
      "数値以外が入力されたため計算できません。valueは以下から変わりません\n",
      "value : 1.0\n",
      "数値以外が入力されたため計算できません。valueは以下から変わりません\n",
      "value : 1.0\n",
      "数値以外が入力されたため計算できません。valueは以下から変わりません\n",
      "value : 1.0\n"
     ]
    }
   ],
   "source": [
    "example = ExampleClass(5)\n",
    "\n",
    "example.add(3)\n",
    "print(\"value : {}\".format(example.value))\n",
    "\n",
    "example.sub(2)\n",
    "print(\"value : {}\".format(example.value))\n",
    "\n",
    "example.multi(4)\n",
    "print(\"value : {}\".format(example.value))\n",
    "\n",
    "example.divi(24)\n",
    "print(\"value : {}\".format(example.value))\n",
    "\n",
    "#エラー例\n",
    "\n",
    "example.add(\"3\")\n",
    "print(\"value : {}\".format(example.value))\n",
    "\n",
    "example.sub(\"2\")\n",
    "print(\"value : {}\".format(example.value))\n",
    "\n",
    "example.multi(\"4\")\n",
    "print(\"value : {}\".format(example.value))\n",
    "\n",
    "example.divi(\"24\")\n",
    "print(\"value : {}\".format(example.value))\n"
   ]
  }
 ],
 "metadata": {
  "kernelspec": {
   "display_name": "Python 3",
   "language": "python",
   "name": "python3"
  },
  "language_info": {
   "codemirror_mode": {
    "name": "ipython",
    "version": 3
   },
   "file_extension": ".py",
   "mimetype": "text/x-python",
   "name": "python",
   "nbconvert_exporter": "python",
   "pygments_lexer": "ipython3",
   "version": "3.6.10"
  }
 },
 "nbformat": 4,
 "nbformat_minor": 4
}
