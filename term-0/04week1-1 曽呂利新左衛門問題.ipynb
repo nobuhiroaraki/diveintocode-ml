{
 "cells": [
  {
   "cell_type": "markdown",
   "metadata": {},
   "source": [
    "【問題1】100日目の米粒の数\n",
    "100日目には合計で米粒をいくつもらっているのかを計算するコードを作成し、答えを出力してください。また、1日目から100日目までの「その日にもらう米の数」と「その日までに累計で貰う米の数」の推移を折れ線グラフで表現してください。（縦軸が米の数、横軸が日数）"
   ]
  },
  {
   "cell_type": "code",
   "execution_count": 9,
   "metadata": {},
   "outputs": [
    {
     "name": "stdout",
     "output_type": "stream",
     "text": [
      "答え：100日目には1267650600228229401496703205375粒の米をもらっている\n"
     ]
    },
    {
     "data": {
      "image/png": "[encoded data removed]",
      "text/plain": [
       "<matplotlib.figure.Figure at 0x10f00d8d0>"
      ]
     },
     "metadata": {},
     "output_type": "display_data"
    }
   ],
   "source": [
    "day_rice_lst = []\n",
    "total_rice_lst = []\n",
    "rice = 1\n",
    "\n",
    "for i in range(100):\n",
    "    day_rice = rice*2**i\n",
    "    day_rice_lst.append(day_rice)\n",
    "    total_rice_lst.append(sum(day_rice_lst))\n",
    "\n",
    "print(\"答え：100日目には{}粒の米をもらっている\".format(total_rice_lst[-1]))\n",
    "\n",
    "#グラフを作成\n",
    "import matplotlib.pyplot as plt\n",
    "%matplotlib inline\n",
    "plt.title(\"day & total of rice\")\n",
    "plt.xlabel(\"days\")\n",
    "plt.ylabel(\"total\")\n",
    "plt.plot(day_rice_lst,color=\"red\")\n",
    "plt.plot(total_rice_lst,color=\"blue\")\n",
    "plt.show()\n"
   ]
  },
  {
   "cell_type": "markdown",
   "metadata": {},
   "source": [
    "【問題2】100日目以外の米粒の数\n",
    "この逸話は30日だったり81日だったりと日数が曖昧です。どの話にも対応できるように日数を引数とした 関数 を作成しましょう。関数を作成した上で、コースを受講する日数の間でいくつ米粒をもらえるかを答えてください。前の問題同様に折れ線グラフも出力してください。\n",
    "以下の雛形には関数としての枠組みだけではなく、引数や返り値についてのコメントも記載してあります。参考にして、自分なりにも分かりやすくコメントを書き換えてください。"
   ]
  },
  {
   "cell_type": "code",
   "execution_count": 10,
   "metadata": {},
   "outputs": [
    {
     "name": "stdout",
     "output_type": "stream",
     "text": [
      "答え：DICMLコース4月期の受講期間122日の間に貰える米の量は、合計5316911983139663491615228241121378303粒\n"
     ]
    },
    {
     "data": {
      "image/png": "[encoded data removed]",
      "text/plain": [
       "<matplotlib.figure.Figure at 0x10f0d3fd0>"
      ]
     },
     "metadata": {},
     "output_type": "display_data"
    }
   ],
   "source": [
    "#検証したい日数\n",
    "days = 122\n",
    "\n",
    "def compute_sorori_shinzaemon(days):\n",
    "    list_n_grains = []\n",
    "    list_total_grains = []\n",
    "    rice = 1\n",
    "\n",
    "    for i in range(days):\n",
    "        day_rice = rice*2**i\n",
    "        list_n_grains.append(day_rice)\n",
    "        list_total_grains.append(sum(list_n_grains))\n",
    "    \n",
    "    return list_n_grains, list_total_grains\n",
    "\n",
    "list_n_grains, list_total_grains = compute_sorori_shinzaemon(days)\n",
    "print(\"答え：DICMLコース4月期の受講期間{}日の間に貰える米の量は、合計{}粒\"\n",
    "      .format(days,list_total_grains[-1]))\n",
    "\n",
    "#グラフを作成\n",
    "import matplotlib.pyplot as plt\n",
    "%matplotlib inline\n",
    "plt.title(\"day & total of rice\")\n",
    "plt.xlabel(\"days\")\n",
    "plt.ylabel(\"total\")\n",
    "#指定した日までに貰うそれぞれの米の量は赤色のグラフ\n",
    "plt.plot(list_n_grains,color=\"red\")\n",
    "#指定した日までに貰う合計の米の量は青色のグラフ\n",
    "plt.plot(list_total_grains,color=\"blue\")\n",
    "plt.show()"
   ]
  },
  {
   "cell_type": "markdown",
   "metadata": {},
   "source": [
    "【問題3】何人が何日生活できる米か\n",
    "この米があれば何人が何日生活できるか計算する関数を作成してください。コースを受講する期間に貰える米粒で、このクラスにいる人数であれば、何日間生活できるかを出力してみましょう。\n",
    "関数の最低限の入力は 米粒の数(int) と 人数(int) 、出力は 生活できる日数(int) です。関数名やコメントなどは分かりやすく考えて作成してください。\n",
    "ここでは1日に必要な米粒の数は提示しません。自分なりに調べて、計算式に落とし込んでください。どう調べ、何を根拠にしたかもコメントを残しておいてください。"
   ]
  },
  {
   "cell_type": "code",
   "execution_count": 11,
   "metadata": {},
   "outputs": [
    {
     "name": "stdout",
     "output_type": "stream",
     "text": [
      "答え：13人が1.2584407060685594e+32日生活できる米の量\n"
     ]
    }
   ],
   "source": [
    "def survive(lowest_rice,students):#１日に最低限必要な米粒の数,受講生の人数\n",
    "    result = list_total_grains[-1] / lowest_rice/students\n",
    "    \n",
    "    return result\n",
    "\n",
    "answer = survive(3250,13)\n",
    "#１日に最低限必要な米の量はおおよそ１５０g(1合)　　　　※https://www.komenet.jp/sedai02/95.html\n",
    "#150g(1合)の米はおおよそ3250粒　　　　※https://www.komenet.jp/_qa/index.html\n",
    "\n",
    "print(\"答え：{}人が{}日生活できる米の量\".format(students,answer))"
   ]
  },
  {
   "cell_type": "code",
   "execution_count": null,
   "metadata": {},
   "outputs": [],
   "source": []
  }
 ],
 "metadata": {
  "kernelspec": {
   "display_name": "Python 3",
   "language": "python",
   "name": "python3"
  },
  "language_info": {
   "codemirror_mode": {
    "name": "ipython",
    "version": 3
   },
   "file_extension": ".py",
   "mimetype": "text/x-python",
   "name": "python",
   "nbconvert_exporter": "python",
   "pygments_lexer": "ipython3",
   "version": "3.6.10"
  }
 },
 "nbformat": 4,
 "nbformat_minor": 4
}
