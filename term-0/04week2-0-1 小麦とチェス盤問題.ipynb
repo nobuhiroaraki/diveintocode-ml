{
 "cells": [
  {
   "cell_type": "markdown",
   "metadata": {},
   "source": [
    "# 【概要・サンプルコード】 \n",
    "#### 8×8マスのチェス盤の上に、小麦の粒を1, 2, 4と順番に置いていくと最終的な小麦の数はどのようになるかという問題です。<br>まずは4マスの板に小麦の粒を並べていくことを考えます。配列（リスト）の1つの要素を1つのマスに見立てています。<br>Pythonのリストとfor文を使い次のように作ることができます。"
   ]
  },
  {
   "cell_type": "code",
   "execution_count": 1,
   "metadata": {},
   "outputs": [],
   "source": [
    "#リスト作成\n",
    "n_squares = 4\n",
    "small_board_list = [1]\n",
    "for i in range(n_squares -1):\n",
    "    small_board_list.append(2*small_board_list[-1])\n",
    "print((\"答え： 4マスのいたに小麦を並べる(リスト) : {}\".format(small_board_list)))"
   ]
  },
  {
   "cell_type": "markdown",
   "metadata": {},
   "source": [
    "#### このリストにnp.array()を使うことで、ndarrayを作成することができます。"
   ]
  },
  {
   "cell_type": "code",
   "execution_count": 2,
   "metadata": {},
   "outputs": [
    {
     "name": "stdout",
     "output_type": "stream",
     "text": [
      "答え： 4マスの板に小麦を並べる（ndarray）：[1 2 4 8]\n"
     ]
    }
   ],
   "source": [
    "#配列作成\n",
    "import numpy as np\n",
    "small_board_ndarray = np.array(small_board_list)\n",
    "print(\"答え： 4マスの板に小麦を並べる（ndarray）：{}\".format(small_board_ndarray))"
   ]
  },
  {
   "cell_type": "markdown",
   "metadata": {},
   "source": [
    "# 【問題1】2×2マスのチェス盤の小麦の数  \n",
    "#### 2×2マスのチェス盤をndarrayによって表現し、各マスの小麦の数を計算してください。<br>左上のマスに小麦を1つ置いた後、その右が2つ、左下が4つ、右下が8つという風に進みます。<br>サンプルコードで作成したndarrayのshapeの変形を行ってください。\n",
    "\n"
   ]
  },
  {
   "cell_type": "code",
   "execution_count": 3,
   "metadata": {},
   "outputs": [
    {
     "name": "stdout",
     "output_type": "stream",
     "text": [
      "答え:\n",
      "[[1 2]\n",
      " [4 8]]\n"
     ]
    }
   ],
   "source": [
    "reshp_ndarray = small_board_ndarray.reshape(2,2)\n",
    "print(\"答え:\")\n",
    "print(reshp_ndarray)"
   ]
  },
  {
   "cell_type": "markdown",
   "metadata": {},
   "source": [
    "# 【問題2】n×mマスへの拡張 \n",
    "#### n×mマスのチェス盤の小麦の数を記したndarrayを返す関数を作成してください。そしてこの関数を使い8×8マスのチェス盤の小麦の数を求めてください。"
   ]
  },
  {
   "cell_type": "code",
   "execution_count": 4,
   "metadata": {
    "scrolled": false
   },
   "outputs": [
    {
     "name": "stdout",
     "output_type": "stream",
     "text": [
      "答え： [[1.00000000e+00 2.00000000e+00 4.00000000e+00 8.00000000e+00\n",
      "  1.60000000e+01 3.20000000e+01 6.40000000e+01 1.28000000e+02]\n",
      " [2.56000000e+02 5.12000000e+02 1.02400000e+03 2.04800000e+03\n",
      "  4.09600000e+03 8.19200000e+03 1.63840000e+04 3.27680000e+04]\n",
      " [6.55360000e+04 1.31072000e+05 2.62144000e+05 5.24288000e+05\n",
      "  1.04857600e+06 2.09715200e+06 4.19430400e+06 8.38860800e+06]\n",
      " [1.67772160e+07 3.35544320e+07 6.71088640e+07 1.34217728e+08\n",
      "  2.68435456e+08 5.36870912e+08 1.07374182e+09 2.14748365e+09]\n",
      " [4.29496730e+09 8.58993459e+09 1.71798692e+10 3.43597384e+10\n",
      "  6.87194767e+10 1.37438953e+11 2.74877907e+11 5.49755814e+11]\n",
      " [1.09951163e+12 2.19902326e+12 4.39804651e+12 8.79609302e+12\n",
      "  1.75921860e+13 3.51843721e+13 7.03687442e+13 1.40737488e+14]\n",
      " [2.81474977e+14 5.62949953e+14 1.12589991e+15 2.25179981e+15\n",
      "  4.50359963e+15 9.00719925e+15 1.80143985e+16 3.60287970e+16]\n",
      " [7.20575940e+16 1.44115188e+17 2.88230376e+17 5.76460752e+17\n",
      "  1.15292150e+18 2.30584301e+18 4.61168602e+18 9.22337204e+18]]\n"
     ]
    }
   ],
   "source": [
    "def grains_num(n,m):\n",
    "    square_nums = n*m\n",
    "    boad_lst = [1]\n",
    "    for i in range(square_nums - 1):\n",
    "        boad_lst.append(boad_lst[-1]*2)\n",
    "    boad_ndarray = np.array(boad_lst)\n",
    "    boad_ndarray = boad_ndarray.reshape(n,m)\n",
    "\n",
    "    return boad_ndarray\n",
    "result = grains_num(8,8)\n",
    "\n",
    "print(\"答え： {}\".format(result))"
   ]
  },
  {
   "cell_type": "markdown",
   "metadata": {},
   "source": [
    "# 【問題3】小麦の数の合計 n×mマスへの拡張 \n",
    "#### 8×8マスのチェス盤の小麦の数の合計を求めてください。また、各列の平均を求め、それを棒グラフで可視化してください。\n",
    "\n"
   ]
  },
  {
   "cell_type": "code",
   "execution_count": 15,
   "metadata": {},
   "outputs": [
    {
     "name": "stdout",
     "output_type": "stream",
     "text": [
      "答え： 8*8マスの盤上にある小麦の合計は18446744073709551615\n"
     ]
    },
    {
     "data": {
      "image/png": "[encoded data removed]",
      "text/plain": [
       "<matplotlib.figure.Figure at 0x113c01438>"
      ]
     },
     "metadata": {},
     "output_type": "display_data"
    }
   ],
   "source": [
    "def total_grains(m,n):#m*nのチェス盤上にある小麦の粒の合計を求める関数\n",
    "    total_lst = [1]\n",
    "    for i in range(m*n - 1):\n",
    "        total_lst.append(2*total_lst[-1])\n",
    "    total = sum(total_lst)\n",
    "    \n",
    "    return total,total_lst\n",
    "\n",
    "total,total_lst = total_grains(8,8)#マスの数を変える時変更する\n",
    "print(\"答え： 8*8マスの盤上にある小麦の合計は{}\".format(total))\n",
    "\n",
    "#ndarrayに変換\n",
    "total_ndarray = np.array(total_lst)\n",
    "\n",
    "#8*8に変形\n",
    "reshp_ndarray = total_ndarray.reshape(8,8)#マスの数を変える時変更する\n",
    "\n",
    "#各列の平均を求める\n",
    "ave_ndarray = reshp_ndarray.mean(axis=0)\n",
    "\n",
    "#グラフ化する\n",
    "import matplotlib.pyplot as plt\n",
    "%matplotlib inline\n",
    "plt.xlabel(\"column\")\n",
    "plt.ylabel(\"number\")\n",
    "plt.title(\"number in each column\")\n",
    "plt.bar(np.array([1, 2, 3,4,5,6,7,8]),ave_ndarray)#bar(a,b) aがx軸　　bがy軸\n",
    "plt.show()"
   ]
  },
  {
   "cell_type": "markdown",
   "metadata": {},
   "source": [
    "# 【問題4】小麦の数のヒートマップ \n",
    "#### 8×8マスのチェス盤の小麦の数をヒートマップとして可視化してください。"
   ]
  },
  {
   "cell_type": "code",
   "execution_count": 6,
   "metadata": {},
   "outputs": [
    {
     "data": {
      "image/png": "[encoded data removed]",
      "text/plain": [
       "<matplotlib.figure.Figure at 0x109f3d8d0>"
      ]
     },
     "metadata": {},
     "output_type": "display_data"
    }
   ],
   "source": [
    "plt.xlabel(\"column\")\n",
    "plt.ylabel(\"row\")\n",
    "plt.title(\"heatmap (purple < yellow)\")\n",
    "plt.pcolor(reshp_ndarray)\n",
    "plt.show()"
   ]
  },
  {
   "cell_type": "markdown",
   "metadata": {},
   "source": [
    "# 【問題5】後半は前半の何倍か \n",
    "#### アメリカの発明家レイ・カーツワイルはこの逸話を引用し、「チェス盤の後半」というフレーズを作りました。<br>技術の進歩ははじめの内は社会に対して目立った影響が感じられなくとも、倍に倍にと進んでいくとチェス盤の後半にさしかかったころから、<br>急激な変化を起こすということを伝えています。\n",
    "#### チェス盤の後半にある小麦の数は前半にある小麦の数の何倍かを求めてください。前半とは配列の0から3行目、後半は4から7行目です。"
   ]
  },
  {
   "cell_type": "code",
   "execution_count": 7,
   "metadata": {},
   "outputs": [
    {
     "name": "stdout",
     "output_type": "stream",
     "text": [
      "答え： チェスの後半にある小麦の数は、前半にある小麦の4294967296倍\n"
     ]
    }
   ],
   "source": [
    "first_half = reshp_ndarray[0:4,:]\n",
    "first_half_total = 0\n",
    "for i in range(4):\n",
    "    first_half_total += sum(first_half[i])#配列の中は[[a][b]]の状態のため、a,bそれぞれの合計をsumで求めてfor文で合算する。\n",
    "\n",
    "second_half = reshp_ndarray[4:8,:]\n",
    "second_half_total = 0\n",
    "for i in range(4):\n",
    "    second_half_total += sum(second_half[i])\n",
    "\n",
    "result = int(second_half_total//first_half_total)\n",
    "print(\"答え： チェスの後半にある小麦の数は、前半にある小麦の{}倍\".format(result))"
   ]
  },
  {
   "cell_type": "markdown",
   "metadata": {},
   "source": [
    "# ~他の計算方法~ \n",
    "#### はじめのサンプルコードではPythonのリストとfor文を使っていましたが、他の方法も考えられます。<br>ndarrayのnp.append()とfor文を使うと次のように作ることができます。\n",
    "### ①np.append()"
   ]
  },
  {
   "cell_type": "code",
   "execution_count": 8,
   "metadata": {},
   "outputs": [
    {
     "name": "stdout",
     "output_type": "stream",
     "text": [
      "4マスの板に小麦を並べる（ndarray）：[1 2 4 8]\n"
     ]
    }
   ],
   "source": [
    "n_squares = 4\n",
    "small_board_ndarray = np.array([1])\n",
    "for _ in range(n_squares - 1):\n",
    "    small_board_ndarray = np.append(small_board_ndarray, 2*small_board_ndarray[-1])#ndarrayにappendするときの書き方\n",
    "print(\"4マスの板に小麦を並べる（ndarray）：{}\".format(small_board_ndarray))"
   ]
  },
  {
   "cell_type": "markdown",
   "metadata": {},
   "source": [
    "### ②ブロードキャスト"
   ]
  },
  {
   "cell_type": "code",
   "execution_count": 9,
   "metadata": {},
   "outputs": [
    {
     "name": "stdout",
     "output_type": "stream",
     "text": [
      "4マスの板に小麦を並べる（ndarray）：[1 2 4 8]\n"
     ]
    }
   ],
   "source": [
    "n_squares = 4\n",
    "indices_of_squares = np.arange(n_squares)\n",
    "small_board_ndarray = 2**indices_of_squares\n",
    "print(\"4マスの板に小麦を並べる（ndarray）：{}\".format(small_board_ndarray))"
   ]
  },
  {
   "cell_type": "markdown",
   "metadata": {},
   "source": [
    "# 【問題6】他の計算方法によるn×mマスへの拡張 \n",
    "#### 問題2と同様の「n×mマスのチェス盤の小麦の数を記したndarrayを返す関数」を、np.append()を使ったものと、<br>ブロードキャストを使ったもので新たに作成してください。それらの関数を使い8×8マスのチェス盤の小麦の数を再び求めてください。"
   ]
  },
  {
   "cell_type": "markdown",
   "metadata": {},
   "source": [
    "### ①np.append()を用いた場合"
   ]
  },
  {
   "cell_type": "code",
   "execution_count": 10,
   "metadata": {},
   "outputs": [
    {
     "name": "stdout",
     "output_type": "stream",
     "text": [
      "[1.00000000e+00 2.00000000e+00 4.00000000e+00 8.00000000e+00\n",
      " 1.60000000e+01 3.20000000e+01 6.40000000e+01 1.28000000e+02\n",
      " 2.56000000e+02 5.12000000e+02 1.02400000e+03 2.04800000e+03\n",
      " 4.09600000e+03 8.19200000e+03 1.63840000e+04 3.27680000e+04\n",
      " 6.55360000e+04 1.31072000e+05 2.62144000e+05 5.24288000e+05\n",
      " 1.04857600e+06 2.09715200e+06 4.19430400e+06 8.38860800e+06\n",
      " 1.67772160e+07 3.35544320e+07 6.71088640e+07 1.34217728e+08\n",
      " 2.68435456e+08 5.36870912e+08 1.07374182e+09 2.14748365e+09\n",
      " 4.29496730e+09 8.58993459e+09 1.71798692e+10 3.43597384e+10\n",
      " 6.87194767e+10 1.37438953e+11 2.74877907e+11 5.49755814e+11\n",
      " 1.09951163e+12 2.19902326e+12 4.39804651e+12 8.79609302e+12\n",
      " 1.75921860e+13 3.51843721e+13 7.03687442e+13 1.40737488e+14\n",
      " 2.81474977e+14 5.62949953e+14 1.12589991e+15 2.25179981e+15\n",
      " 4.50359963e+15 9.00719925e+15 1.80143985e+16 3.60287970e+16\n",
      " 7.20575940e+16 1.44115188e+17 2.88230376e+17 5.76460752e+17\n",
      " 1.15292150e+18 2.30584301e+18 4.61168602e+18 9.22337204e+18]\n"
     ]
    }
   ],
   "source": [
    "def append_ndarray(m,n):\n",
    "    squares = m*n\n",
    "    n_grains_ndarray = np.array([1]).astype(np.uint64)\n",
    "    for i in range(squares - 1):\n",
    "        n_grains_ndarray = np.append(n_grains_ndarray,2*n_grains_ndarray[-1])\n",
    "    \n",
    "    return n_grains_ndarray\n",
    "\n",
    "result1 = append_ndarray(8,8)\n",
    "print(result1)"
   ]
  },
  {
   "cell_type": "markdown",
   "metadata": {},
   "source": [
    "### ②ブロードキャストを用いた場合"
   ]
  },
  {
   "cell_type": "code",
   "execution_count": 11,
   "metadata": {},
   "outputs": [
    {
     "name": "stdout",
     "output_type": "stream",
     "text": [
      "[                  1                   2                   4\n",
      "                   8                  16                  32\n",
      "                  64                 128                 256\n",
      "                 512                1024                2048\n",
      "                4096                8192               16384\n",
      "               32768               65536              131072\n",
      "              262144              524288             1048576\n",
      "             2097152             4194304             8388608\n",
      "            16777216            33554432            67108864\n",
      "           134217728           268435456           536870912\n",
      "          1073741824          2147483648          4294967296\n",
      "          8589934592         17179869184         34359738368\n",
      "         68719476736        137438953472        274877906944\n",
      "        549755813888       1099511627776       2199023255552\n",
      "       4398046511104       8796093022208      17592186044416\n",
      "      35184372088832      70368744177664     140737488355328\n",
      "     281474976710656     562949953421312    1125899906842624\n",
      "    2251799813685248    4503599627370496    9007199254740992\n",
      "   18014398509481984   36028797018963968   72057594037927936\n",
      "  144115188075855872  288230376151711744  576460752303423488\n",
      " 1152921504606846976 2305843009213693952 4611686018427387904\n",
      " 9223372036854775808]\n"
     ]
    }
   ],
   "source": [
    "def broadcast(m,n):\n",
    "    num_square = m*n\n",
    "    indices_square = np.arange(num_square).astype(np.uint64)\n",
    "    boads_ndarray = 2**indices_square\n",
    "    return boads_ndarray\n",
    "\n",
    "result2 = broadcast(8,8)\n",
    "print(result2)"
   ]
  },
  {
   "cell_type": "markdown",
   "metadata": {},
   "source": [
    "#  【問題7】計算時間の比較 \n",
    "#### 3種類の方法を見てきました。それぞれの計算時間をJupyter Notebookの%%timeitを用いて計測し、比較と考察を行ってください。    <br>%%timeitはセル内のコードを複数回実行し、その平均実行時間を出力する働きをします。\n",
    "#### 《%%timeitの例》\n",
    "```python : sample code\n",
    "%%timeit\n",
    "a = np.array([1, 2, 3])\n",
    "b = np.array([1, 2, 3])\n",
    "c = a + b\n",
    "```\n",
    "### ※1000ns = 1µs\n"
   ]
  },
  {
   "cell_type": "markdown",
   "metadata": {},
   "source": [
    "## ①for文を使った場合"
   ]
  },
  {
   "cell_type": "code",
   "execution_count": 12,
   "metadata": {},
   "outputs": [
    {
     "name": "stdout",
     "output_type": "stream",
     "text": [
      "172 µs ± 3.04 µs per loop (mean ± std. dev. of 7 runs, 10000 loops each)\n"
     ]
    }
   ],
   "source": [
    "%%timeit\n",
    "def grain_ndarray(m,n):\n",
    "    board_lst = [1]    \n",
    "    for i in range(m*n - 1):\n",
    "        board_lst.append(2*board_lst[-1])\n",
    "        board_ndarray = np.array(board_lst)            \n",
    "    return board_ndarray\n",
    "result_ndarray = grain_ndarray(8,8)"
   ]
  },
  {
   "cell_type": "markdown",
   "metadata": {},
   "source": [
    "## ②np.append()を使った場合"
   ]
  },
  {
   "cell_type": "code",
   "execution_count": 13,
   "metadata": {},
   "outputs": [
    {
     "name": "stdout",
     "output_type": "stream",
     "text": [
      "247 µs ± 7.2 µs per loop (mean ± std. dev. of 7 runs, 1000 loops each)\n"
     ]
    }
   ],
   "source": [
    "%%timeit\n",
    "def append_ndarray(m,n):\n",
    "    squares = m*n\n",
    "    n_grains_ndarray = np.array([1]).astype(np.uint64)\n",
    "    for i in range(squares - 1):\n",
    "        n_grains_ndarray = np.append(n_grains_ndarray,2*n_grains_ndarray[-1])   \n",
    "    return n_grains_ndarray\n",
    "result1 = append_ndarray(8,8)"
   ]
  },
  {
   "cell_type": "markdown",
   "metadata": {},
   "source": [
    "## ③ブロードキャストを使った場合"
   ]
  },
  {
   "cell_type": "code",
   "execution_count": 14,
   "metadata": {},
   "outputs": [
    {
     "name": "stdout",
     "output_type": "stream",
     "text": [
      "2.64 µs ± 44.7 ns per loop (mean ± std. dev. of 7 runs, 100000 loops each)\n"
     ]
    }
   ],
   "source": [
    "%%timeit\n",
    "def broadcast(m,n):\n",
    "    num_square = m*n\n",
    "    indices_square = np.arange(num_square).astype(np.uint64)\n",
    "    boads_ndarray = 2**indices_square\n",
    "    return boads_ndarray\n",
    "result2 = broadcast(8,8)"
   ]
  },
  {
   "cell_type": "markdown",
   "metadata": {},
   "source": [
    "## 考察\n",
    "\n",
    "#### 結果：ブロードキャストを使った場合が他の二つに比べて計算速度が速かった。\n",
    "#### 考察：for文はもちろんnp.append()を使った場合に共通するのはforによる繰り返しをしている点。<br>しかしブロードキャストにはそういった繰り返し処理が用いられておらず、そうした繰り返し処理の有無が今回の結果に関係していると考えられる。"
   ]
  }
 ],
 "metadata": {
  "kernelspec": {
   "display_name": "Python 3",
   "language": "python",
   "name": "python3"
  },
  "language_info": {
   "codemirror_mode": {
    "name": "ipython",
    "version": 3
   },
   "file_extension": ".py",
   "mimetype": "text/x-python",
   "name": "python",
   "nbconvert_exporter": "python",
   "pygments_lexer": "ipython3",
   "version": "3.6.4"
  }
 },
 "nbformat": 4,
 "nbformat_minor": 2
}
