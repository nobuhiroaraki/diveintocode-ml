{
 "cells": [
  {
   "cell_type": "code",
   "execution_count": 1,
   "metadata": {},
   "outputs": [
    {
     "ename": "ModuleNotFoundError",
     "evalue": "No module named 'livelossplot'",
     "output_type": "error",
     "traceback": [
      "\u001b[0;31m---------------------------------------------------------------------------\u001b[0m",
      "\u001b[0;31mModuleNotFoundError\u001b[0m                       Traceback (most recent call last)",
      "\u001b[0;32m<ipython-input-1-488f31c7437e>\u001b[0m in \u001b[0;36m<module>\u001b[0;34m\u001b[0m\n\u001b[1;32m      5\u001b[0m \u001b[0;32mimport\u001b[0m \u001b[0mmatplotlib\u001b[0m\u001b[0;34m.\u001b[0m\u001b[0mpyplot\u001b[0m \u001b[0;32mas\u001b[0m \u001b[0mplt\u001b[0m\u001b[0;34m\u001b[0m\u001b[0;34m\u001b[0m\u001b[0m\n\u001b[1;32m      6\u001b[0m \u001b[0mget_ipython\u001b[0m\u001b[0;34m(\u001b[0m\u001b[0;34m)\u001b[0m\u001b[0;34m.\u001b[0m\u001b[0mrun_line_magic\u001b[0m\u001b[0;34m(\u001b[0m\u001b[0;34m'matplotlib'\u001b[0m\u001b[0;34m,\u001b[0m \u001b[0;34m'inline'\u001b[0m\u001b[0;34m)\u001b[0m\u001b[0;34m\u001b[0m\u001b[0;34m\u001b[0m\u001b[0m\n\u001b[0;32m----> 7\u001b[0;31m \u001b[0;32mfrom\u001b[0m \u001b[0mlivelossplot\u001b[0m \u001b[0;32mimport\u001b[0m \u001b[0mPlotLossesKeras\u001b[0m\u001b[0;34m\u001b[0m\u001b[0;34m\u001b[0m\u001b[0m\n\u001b[0m\u001b[1;32m      8\u001b[0m \u001b[0;32mfrom\u001b[0m \u001b[0mkeras\u001b[0m\u001b[0;34m.\u001b[0m\u001b[0mcallbacks\u001b[0m \u001b[0;32mimport\u001b[0m \u001b[0mModelCheckpoint\u001b[0m\u001b[0;34m\u001b[0m\u001b[0;34m\u001b[0m\u001b[0m\n",
      "\u001b[0;31mModuleNotFoundError\u001b[0m: No module named 'livelossplot'"
     ]
    }
   ],
   "source": [
    "import numpy as np\n",
    "import pandas as pd\n",
    "from sklearn.model_selection import train_test_split\n",
    "import tensorflow as tf\n",
    "import matplotlib.pyplot as plt\n",
    "%matplotlib inline\n",
    "from livelossplot import PlotLossesKeras\n",
    "from keras.callbacks import ModelCheckpoint"
   ]
  },
  {
   "cell_type": "markdown",
   "metadata": {},
   "source": [
    "# 2.公式Example\n",
    "\n",
    "深層学習フレームワークには公式に様々なモデルのExampleコードが公開されています。"
   ]
  },
  {
   "cell_type": "markdown",
   "metadata": {},
   "source": [
    "# 【問題1】公式チュートリアルモデルを分担して実行\n",
    "TensorFLowの公式チュートリアルモデルを分担して実行してください。\n",
    "\n",
    "\n",
    "以下の中から1人ひとつ選び実行し、その結果を簡単に発表してください。\n",
    "\n",
    "\n",
    "https://www.tensorflow.org/tutorials"
   ]
  },
  {
   "cell_type": "markdown",
   "metadata": {},
   "source": [
    "## kerasによるMLの基本➡︎前処理されたテキストによるテキスト分類➡︎映画レビューのテキスト分類\n",
    "\n",
    "ここでは、映画のレビューをそのテキストを使って肯定的か否定的かに分類します。これは、二値分類あるいは2クラス分類という問題の例であり、機械学習において重要でいろいろな応用が可能なものです。\n",
    "\n",
    "ここでは、Internet Movie Databaseから抽出した50,000件の映画レビューを含む、 IMDB dataset を使います。レビューは訓練用とテスト用に25,000件ずつに分割されています。訓練用とテスト用のデータは均衡しています。言い換えると、それぞれが同数の肯定的及び否定的なレビューを含んでいます。\n",
    "\n",
    "ここでは、TensorFlowを使ってモデルを構築・訓練するためのハイレベルなAPIである tf.kerasを使用します。tf.kerasを使ったもう少し高度なテキスト分類のチュートリアルについては、 MLCC Text Classification Guideを参照してください。"
   ]
  },
  {
   "cell_type": "code",
   "execution_count": 2,
   "metadata": {},
   "outputs": [
    {
     "name": "stdout",
     "output_type": "stream",
     "text": [
      "1.15.0\n"
     ]
    }
   ],
   "source": [
    "from __future__ import absolute_import, division, print_function, unicode_literals\n",
    "\n",
    "import tensorflow as tf\n",
    "from tensorflow import keras\n",
    "\n",
    "import numpy as np\n",
    "\n",
    "print(tf.__version__)"
   ]
  },
  {
   "cell_type": "markdown",
   "metadata": {},
   "source": [
    "# IMDB datasetのダウンロード\n",
    "IMDBデータセットは、TensorFlowにパッケージ化されています。それは前処理済みのものであり、（単語の連なりである）レビューが、整数の配列に変換されています。そこでは整数が辞書中の特定の単語を表します。\n",
    "\n",
    "次のコードは、IMDBデータセットをあなたのパソコンにダウンロードします。（すでにダウンロードしていれば、キャッシュされたコピーを使用します）"
   ]
  },
  {
   "cell_type": "code",
   "execution_count": 4,
   "metadata": {},
   "outputs": [],
   "source": [
    "imdb = keras.datasets.imdb\n",
    "\n",
    "(train_data, train_labels), (test_data, test_labels) = imdb.load_data(num_words=10000)"
   ]
  },
  {
   "cell_type": "markdown",
   "metadata": {},
   "source": [
    "num_words=10000という引数は、訓練データ中に出てくる単語のうち、最も頻繁に出現する10,000個を保持するためのものです。データサイズを管理可能にするため、稀にしか出現しない単語は破棄されます。"
   ]
  },
  {
   "cell_type": "code",
   "execution_count": 5,
   "metadata": {},
   "outputs": [
    {
     "name": "stdout",
     "output_type": "stream",
     "text": [
      "Training entries: 25000, labels: 25000\n"
     ]
    }
   ],
   "source": [
    "print(\"Training entries: {}, labels: {}\".format(len(train_data), len(train_labels)))"
   ]
  },
  {
   "cell_type": "markdown",
   "metadata": {},
   "source": [
    "レビューのテキストは複数の整数に変換されており、それぞれの整数が辞書の中の特定の単語を表します。最初のレビューがどのようなものか見てみましょう。"
   ]
  },
  {
   "cell_type": "code",
   "execution_count": 6,
   "metadata": {},
   "outputs": [
    {
     "name": "stdout",
     "output_type": "stream",
     "text": [
      "[1, 14, 22, 16, 43, 530, 973, 1622, 1385, 65, 458, 4468, 66, 3941, 4, 173, 36, 256, 5, 25, 100, 43, 838, 112, 50, 670, 2, 9, 35, 480, 284, 5, 150, 4, 172, 112, 167, 2, 336, 385, 39, 4, 172, 4536, 1111, 17, 546, 38, 13, 447, 4, 192, 50, 16, 6, 147, 2025, 19, 14, 22, 4, 1920, 4613, 469, 4, 22, 71, 87, 12, 16, 43, 530, 38, 76, 15, 13, 1247, 4, 22, 17, 515, 17, 12, 16, 626, 18, 2, 5, 62, 386, 12, 8, 316, 8, 106, 5, 4, 2223, 5244, 16, 480, 66, 3785, 33, 4, 130, 12, 16, 38, 619, 5, 25, 124, 51, 36, 135, 48, 25, 1415, 33, 6, 22, 12, 215, 28, 77, 52, 5, 14, 407, 16, 82, 2, 8, 4, 107, 117, 5952, 15, 256, 4, 2, 7, 3766, 5, 723, 36, 71, 43, 530, 476, 26, 400, 317, 46, 7, 4, 2, 1029, 13, 104, 88, 4, 381, 15, 297, 98, 32, 2071, 56, 26, 141, 6, 194, 7486, 18, 4, 226, 22, 21, 134, 476, 26, 480, 5, 144, 30, 5535, 18, 51, 36, 28, 224, 92, 25, 104, 4, 226, 65, 16, 38, 1334, 88, 12, 16, 283, 5, 16, 4472, 113, 103, 32, 15, 16, 5345, 19, 178, 32]\n"
     ]
    }
   ],
   "source": [
    "print(train_data[0])"
   ]
  },
  {
   "cell_type": "code",
   "execution_count": 7,
   "metadata": {},
   "outputs": [
    {
     "data": {
      "text/plain": [
       "(218, 189)"
      ]
     },
     "execution_count": 7,
     "metadata": {},
     "output_type": "execute_result"
    }
   ],
   "source": [
    "len(train_data[0]), len(train_data[1])"
   ]
  },
  {
   "cell_type": "code",
   "execution_count": 8,
   "metadata": {},
   "outputs": [
    {
     "data": {
      "text/plain": [
       "array([1, 0, 0, ..., 0, 1, 0])"
      ]
     },
     "execution_count": 8,
     "metadata": {},
     "output_type": "execute_result"
    }
   ],
   "source": [
    "train_labels"
   ]
  },
  {
   "cell_type": "markdown",
   "metadata": {},
   "source": [
    "# 整数を単語に戻してみる\n",
    "整数をテキストに戻す方法を知っていると便利です。整数を文字列にマッピングする辞書オブジェクトを検索するためのヘルパー関数を定義します。"
   ]
  },
  {
   "cell_type": "code",
   "execution_count": 9,
   "metadata": {},
   "outputs": [],
   "source": [
    "# 単語を整数にマッピングする辞書\n",
    "word_index = imdb.get_word_index()\n",
    "\n",
    "# インデックスの最初の方は予約済み\n",
    "word_index = {k:(v+3) for k,v in word_index.items()} \n",
    "word_index[\"<PAD>\"] = 0\n",
    "word_index[\"<START>\"] = 1\n",
    "word_index[\"<UNK>\"] = 2  # unknown\n",
    "word_index[\"<UNUSED>\"] = 3\n",
    "\n",
    "reverse_word_index = dict([(value, key) for (key, value) in word_index.items()])\n",
    "\n",
    "def decode_review(text):\n",
    "    return ' '.join([reverse_word_index.get(i, '?') for i in text])"
   ]
  },
  {
   "cell_type": "markdown",
   "metadata": {},
   "source": [
    "decode_reviewを使うと、最初のレビューのテキストを表示できます。"
   ]
  },
  {
   "cell_type": "code",
   "execution_count": 10,
   "metadata": {},
   "outputs": [
    {
     "name": "stdout",
     "output_type": "stream",
     "text": [
      "[1, 14, 22, 16, 43, 530, 973, 1622, 1385, 65, 458, 4468, 66, 3941, 4, 173, 36, 256, 5, 25, 100, 43, 838, 112, 50, 670, 2, 9, 35, 480, 284, 5, 150, 4, 172, 112, 167, 2, 336, 385, 39, 4, 172, 4536, 1111, 17, 546, 38, 13, 447, 4, 192, 50, 16, 6, 147, 2025, 19, 14, 22, 4, 1920, 4613, 469, 4, 22, 71, 87, 12, 16, 43, 530, 38, 76, 15, 13, 1247, 4, 22, 17, 515, 17, 12, 16, 626, 18, 2, 5, 62, 386, 12, 8, 316, 8, 106, 5, 4, 2223, 5244, 16, 480, 66, 3785, 33, 4, 130, 12, 16, 38, 619, 5, 25, 124, 51, 36, 135, 48, 25, 1415, 33, 6, 22, 12, 215, 28, 77, 52, 5, 14, 407, 16, 82, 2, 8, 4, 107, 117, 5952, 15, 256, 4, 2, 7, 3766, 5, 723, 36, 71, 43, 530, 476, 26, 400, 317, 46, 7, 4, 2, 1029, 13, 104, 88, 4, 381, 15, 297, 98, 32, 2071, 56, 26, 141, 6, 194, 7486, 18, 4, 226, 22, 21, 134, 476, 26, 480, 5, 144, 30, 5535, 18, 51, 36, 28, 224, 92, 25, 104, 4, 226, 65, 16, 38, 1334, 88, 12, 16, 283, 5, 16, 4472, 113, 103, 32, 15, 16, 5345, 19, 178, 32]\n"
     ]
    }
   ],
   "source": [
    "print(train_data[0])"
   ]
  },
  {
   "cell_type": "code",
   "execution_count": 11,
   "metadata": {},
   "outputs": [
    {
     "data": {
      "text/plain": [
       "\"<START> this film was just brilliant casting location scenery story direction everyone's really suited the part they played and you could just imagine being there robert <UNK> is an amazing actor and now the same being director <UNK> father came from the same scottish island as myself so i loved the fact there was a real connection with this film the witty remarks throughout the film were great it was just brilliant so much that i bought the film as soon as it was released for <UNK> and would recommend it to everyone to watch and the fly fishing was amazing really cried at the end it was so sad and you know what they say if you cry at a film it must have been good and this definitely was also <UNK> to the two little boy's that played the <UNK> of norman and paul they were just brilliant children are often left out of the <UNK> list i think because the stars that play them all grown up are such a big profile for the whole film but these children are amazing and should be praised for what they have done don't you think the whole story was so lovely because it was true and was someone's life after all that was shared with us all\""
      ]
     },
     "execution_count": 11,
     "metadata": {},
     "output_type": "execute_result"
    }
   ],
   "source": [
    "decode_review(train_data[0])"
   ]
  },
  {
   "cell_type": "code",
   "execution_count": 12,
   "metadata": {},
   "outputs": [
    {
     "data": {
      "text/plain": [
       "1"
      ]
     },
     "execution_count": 12,
     "metadata": {},
     "output_type": "execute_result"
    }
   ],
   "source": [
    "train_labels[0]"
   ]
  },
  {
   "cell_type": "markdown",
   "metadata": {},
   "source": [
    "# データの準備\n",
    "レビュー（整数の配列）は、ニューラルネットワークに投入する前に、テンソルに変換する必要があります。これには2つ方法があります。\n",
    "\n",
    "配列をワンホット（one-hot）エンコーディングと同じように、単語の出現を表す0と1のベクトルに変換します。\n",
    "\n",
    "例えば、[3, 5]という配列は、インデックス3と5を除いてすべてゼロの10,000次元のベクトルになります。\n",
    "\n",
    "そして、これをネットワークの最初の層、すなわち、浮動小数点のベクトルデータを扱うことができるDense（全結合）層とします。ただし、これは単語数×レビュー数の行列が必要なメモリ集約的な方法です。\n",
    "\n",
    "もう一つの方法では、配列をパディングによって同じ長さに揃え、サンプル数 * 長さの最大値の形の整数テンソルにします。\n",
    "\n",
    "そして、この形式を扱うことができるEmbedding（埋め込み）層をネットワークの最初の層にします。このチュートリアルでは、後者を採用することにします。\n",
    "\n",
    "映画レビューは同じ長さでなければならないので、長さを標準化する pad_sequences 関数を使うことにします。"
   ]
  },
  {
   "cell_type": "code",
   "execution_count": 13,
   "metadata": {},
   "outputs": [],
   "source": [
    "train_data = keras.preprocessing.sequence.pad_sequences(train_data,#パディング （文章の長さを合わせる\n",
    "                                                        value=word_index[\"<PAD>\"],#value: 浮動小数点数．パディングする値(今回は最初に０と指定している)\n",
    "                                                        padding='post',#padding: 文字列，'pre'または'post'．各シーケンスの前後どちらを埋めるか．\n",
    "                                                        maxlen=256)#最大の単語数\n",
    "\n",
    "test_data = keras.preprocessing.sequence.pad_sequences(test_data,\n",
    "                                                       value=word_index[\"<PAD>\"],\n",
    "                                                       padding='post',\n",
    "                                                       maxlen=256)"
   ]
  },
  {
   "cell_type": "markdown",
   "metadata": {},
   "source": [
    "サンプルの長さを見てみましょう。"
   ]
  },
  {
   "cell_type": "code",
   "execution_count": 14,
   "metadata": {},
   "outputs": [
    {
     "data": {
      "text/plain": [
       "(256, 256)"
      ]
     },
     "execution_count": 14,
     "metadata": {},
     "output_type": "execute_result"
    }
   ],
   "source": [
    "len(train_data[0]), len(train_data[1])"
   ]
  },
  {
   "cell_type": "markdown",
   "metadata": {},
   "source": [
    "次に、パディング済みの最初のサンプルを確認します。"
   ]
  },
  {
   "cell_type": "code",
   "execution_count": 15,
   "metadata": {},
   "outputs": [
    {
     "name": "stdout",
     "output_type": "stream",
     "text": [
      "[   1   14   22   16   43  530  973 1622 1385   65  458 4468   66 3941\n",
      "    4  173   36  256    5   25  100   43  838  112   50  670    2    9\n",
      "   35  480  284    5  150    4  172  112  167    2  336  385   39    4\n",
      "  172 4536 1111   17  546   38   13  447    4  192   50   16    6  147\n",
      " 2025   19   14   22    4 1920 4613  469    4   22   71   87   12   16\n",
      "   43  530   38   76   15   13 1247    4   22   17  515   17   12   16\n",
      "  626   18    2    5   62  386   12    8  316    8  106    5    4 2223\n",
      " 5244   16  480   66 3785   33    4  130   12   16   38  619    5   25\n",
      "  124   51   36  135   48   25 1415   33    6   22   12  215   28   77\n",
      "   52    5   14  407   16   82    2    8    4  107  117 5952   15  256\n",
      "    4    2    7 3766    5  723   36   71   43  530  476   26  400  317\n",
      "   46    7    4    2 1029   13  104   88    4  381   15  297   98   32\n",
      " 2071   56   26  141    6  194 7486   18    4  226   22   21  134  476\n",
      "   26  480    5  144   30 5535   18   51   36   28  224   92   25  104\n",
      "    4  226   65   16   38 1334   88   12   16  283    5   16 4472  113\n",
      "  103   32   15   16 5345   19  178   32    0    0    0    0    0    0\n",
      "    0    0    0    0    0    0    0    0    0    0    0    0    0    0\n",
      "    0    0    0    0    0    0    0    0    0    0    0    0    0    0\n",
      "    0    0    0    0]\n",
      "(256,)\n"
     ]
    }
   ],
   "source": [
    "print(train_data[0])\n",
    "print(train_data[0].shape)"
   ]
  },
  {
   "cell_type": "code",
   "execution_count": 16,
   "metadata": {},
   "outputs": [
    {
     "name": "stdout",
     "output_type": "stream",
     "text": [
      "[   1   14   47    8   30   31    7    4  249  108    7    4 5974   54\n",
      "   61  369   13   71  149   14   22  112    4 2401  311   12   16 3711\n",
      "   33   75   43 1829  296    4   86  320   35  534   19  263 4821 1301\n",
      "    4 1873   33   89   78   12   66   16    4  360    7    4   58  316\n",
      "  334   11    4 1716   43  645  662    8  257   85 1200   42 1228 2578\n",
      "   83   68 3912   15   36  165 1539  278   36   69    2  780    8  106\n",
      "   14 6905 1338   18    6   22   12  215   28  610   40    6   87  326\n",
      "   23 2300   21   23   22   12  272   40   57   31   11    4   22   47\n",
      "    6 2307   51    9  170   23  595  116  595 1352   13  191   79  638\n",
      "   89    2   14    9    8  106  607  624   35  534    6  227    7  129\n",
      "  113    0    0    0    0    0    0    0    0    0    0    0    0    0\n",
      "    0    0    0    0    0    0    0    0    0    0    0    0    0    0\n",
      "    0    0    0    0    0    0    0    0    0    0    0    0    0    0\n",
      "    0    0    0    0    0    0    0    0    0    0    0    0    0    0\n",
      "    0    0    0    0    0    0    0    0    0    0    0    0    0    0\n",
      "    0    0    0    0    0    0    0    0    0    0    0    0    0    0\n",
      "    0    0    0    0    0    0    0    0    0    0    0    0    0    0\n",
      "    0    0    0    0    0    0    0    0    0    0    0    0    0    0\n",
      "    0    0    0    0]\n",
      "(256,)\n"
     ]
    }
   ],
   "source": [
    "print(train_data[2])\n",
    "print(train_data[2].shape)"
   ]
  },
  {
   "cell_type": "markdown",
   "metadata": {},
   "source": [
    "# モデルの構築\n",
    "ニューラルネットワークは、層を積み重ねることで構成されます。この際、２つの大きな決定が必要です。\n",
    "\n",
    "モデルにいくつの層を設けるか？\n",
    "層ごとに何個の隠れユニットを使用するか？\n",
    "この例では、入力データは単語インデックスの配列で構成されています。推定の対象となるラベルは、0または1です。この問題のためのモデルを構築しましょう。"
   ]
  },
  {
   "cell_type": "code",
   "execution_count": 17,
   "metadata": {},
   "outputs": [
    {
     "name": "stdout",
     "output_type": "stream",
     "text": [
      "WARNING:tensorflow:From /Users/nobu/.pyenv/versions/anaconda3-5.1.0/lib/python3.6/site-packages/tensorflow_core/python/keras/initializers.py:119: calling RandomUniform.__init__ (from tensorflow.python.ops.init_ops) with dtype is deprecated and will be removed in a future version.\n",
      "Instructions for updating:\n",
      "Call initializer instance with the dtype argument instead of passing it to the constructor\n",
      "WARNING:tensorflow:From /Users/nobu/.pyenv/versions/anaconda3-5.1.0/lib/python3.6/site-packages/tensorflow_core/python/ops/resource_variable_ops.py:1630: calling BaseResourceVariable.__init__ (from tensorflow.python.ops.resource_variable_ops) with constraint is deprecated and will be removed in a future version.\n",
      "Instructions for updating:\n",
      "If using Keras pass *_constraint arguments to layers.\n",
      "Model: \"sequential\"\n",
      "_________________________________________________________________\n",
      "Layer (type)                 Output Shape              Param #   \n",
      "=================================================================\n",
      "embedding (Embedding)        (None, None, 16)          160000    \n",
      "_________________________________________________________________\n",
      "global_average_pooling1d (Gl (None, 16)                0         \n",
      "_________________________________________________________________\n",
      "dense (Dense)                (None, 16)                272       \n",
      "_________________________________________________________________\n",
      "dense_1 (Dense)              (None, 1)                 17        \n",
      "=================================================================\n",
      "Total params: 160,289\n",
      "Trainable params: 160,289\n",
      "Non-trainable params: 0\n",
      "_________________________________________________________________\n"
     ]
    }
   ],
   "source": [
    "# 入力の形式は映画レビューで使われている語彙数（10,000語）\n",
    "vocab_size = 10000\n",
    "\n",
    "model = keras.Sequential()\n",
    "model.add(keras.layers.Embedding(vocab_size, 16))#文中の単語をベクトル表現にする\n",
    "model.add(keras.layers.GlobalAveragePooling1D())#１次元のグローバル平均プーリング層。\n",
    "model.add(keras.layers.Dense(16, activation='relu'))\n",
    "model.add(keras.layers.Dense(1, activation='sigmoid'))\n",
    "\n",
    "model.summary()"
   ]
  },
  {
   "cell_type": "markdown",
   "metadata": {},
   "source": [
    "これらの層は、分類器を構成するため一列に積み重ねられます。\n",
    "\n",
    "最初の層はEmbedding（埋め込み）層です。この層は、整数にエンコードされた語彙を受け取り、それぞれの単語インデックスに対応する埋め込みベクトルを検索します。\n",
    "\n",
    "埋め込みベクトルは、モデルの訓練の中で学習されます。ベクトル化のために、出力行列には次元が１つ追加されます。その結果、次元は、(batch, sequence, embedding)となります。\n",
    "次は、GlobalAveragePooling1D（１次元のグローバル平均プーリング）層です。\n",
    "\n",
    "この層は、それぞれのサンプルについて、シーケンスの次元方向に平均値をもとめ、固定長のベクトルを返します。この結果、モデルは最も単純な形で、可変長の入力を扱うことができるようになります。\n",
    "この固定長の出力ベクトルは、16個の隠れユニットを持つ全結合（Dense）層に受け渡されます。\n",
    "\n",
    "最後の層は、1個の出力ノードに全結合されます。シグモイド（sigmoid）活性化関数を使うことで、値は確率あるいは確信度を表す0と1の間の浮動小数点数となります。\n",
    "\n",
    "# 隠れユニット\n",
    "上記のモデルには、入力と出力の間に、2つの中間層あるいは「隠れ」層があります。出力（ユニット、ノード、またはニューロン）は、その層の内部表現の次元数です。\n",
    "\n",
    "言い換えると、このネットワークが学習によって内部表現を獲得する際の自由度ということです。\n",
    "\n",
    "モデルにより多くの隠れユニットがある場合（内部表現空間の次元数がより大きい場合）、または、より多くの層がある場合、あるいはその両方の場合、ネットワークはより複雑な内部表現を学習することができます。\n",
    "\n",
    "しかしながら、その結果として、ネットワークの計算量が多くなるほか、学習してほしくないパターンを学習するようになります。\n",
    "\n",
    "学習してほしくないパターンとは、訓練データでの性能は向上するものの、テスト用データの性能が向上しないパターンです。この問題を過学習（overfitting）といいます。この問題は後ほど検証することになります。\n",
    "\n",
    "# 損失関数とオプティマイザ\n",
    "モデルを訓練するには、損失関数とオプティマイザが必要です。\n",
    "\n",
    "今回の問題は二値分類問題であり、モデルの出力は確率（1ユニットの層とシグモイド活性化関数）であるため、損失関数としてbinary_crossentropy（2値のクロスエントロピー）関数を使用することにします。\n",
    "\n",
    "損失関数の候補はこれだけではありません。例えば、mean_squared_error（平均二乗誤差）を使うこともできます。しかし、一般的には、確率を扱うにはbinary_crossentropyの方が適しています。\n",
    "\n",
    "binary_crossentropyは、確率分布の間の「距離」を測定する尺度です。今回の場合には、真の分布と予測値の分布の間の距離ということになります。\n",
    "\n",
    "後ほど、回帰問題を検証する際には（例えば家屋の値段を推定するとか）、もう一つの損失関数であるmean_squared_error（平均二乗誤差）の使い方を目にすることになります。\n",
    "\n",
    "さて、モデルのオプティマイザと損失関数を設定しましょう。"
   ]
  },
  {
   "cell_type": "code",
   "execution_count": 19,
   "metadata": {},
   "outputs": [
    {
     "name": "stdout",
     "output_type": "stream",
     "text": [
      "WARNING:tensorflow:From /Users/nobu/.pyenv/versions/anaconda3-5.1.0/lib/python3.6/site-packages/tensorflow_core/python/ops/nn_impl.py:183: where (from tensorflow.python.ops.array_ops) is deprecated and will be removed in a future version.\n",
      "Instructions for updating:\n",
      "Use tf.where in 2.0, which has the same broadcast rule as np.where\n"
     ]
    }
   ],
   "source": [
    "model.compile(optimizer='adam',\n",
    "              loss='binary_crossentropy',\n",
    "              metrics=['accuracy'])"
   ]
  },
  {
   "cell_type": "markdown",
   "metadata": {},
   "source": [
    "# 検証用データを作る\n",
    "訓練を行う際、モデルが見ていないデータでの正解率を検証したいと思います。\n",
    "\n",
    "もとの訓練用データから、10,000個のサンプルを取り分けて検証用データ（validation set）を作ります。\n",
    "\n",
    "（なぜ、ここでテスト用データを使わないのでしょう？ 今回の目的は、訓練用データだけを使って、モデルの開発とチューニングを行うことです。その後、テスト用データを1回だけ使い、正解率を検証するのです。）"
   ]
  },
  {
   "cell_type": "code",
   "execution_count": 20,
   "metadata": {},
   "outputs": [],
   "source": [
    "x_val = train_data[:10000]\n",
    "partial_x_train = train_data[10000:]\n",
    "\n",
    "y_val = train_labels[:10000]\n",
    "partial_y_train = train_labels[10000:]"
   ]
  },
  {
   "cell_type": "markdown",
   "metadata": {},
   "source": [
    "# モデルの訓練\n",
    "512個のサンプルからなるミニバッチを使って、40エポックモデルを訓練します。\n",
    "\n",
    "この結果、x_trainとy_trainに含まれるすべてのサンプルを40回繰り返すことになります。\n",
    "\n",
    "訓練中、検証用データの10,000サンプルを用いて、モデルの損失と正解率をモニタリングします。"
   ]
  },
  {
   "cell_type": "code",
   "execution_count": 21,
   "metadata": {},
   "outputs": [
    {
     "name": "stdout",
     "output_type": "stream",
     "text": [
      "Train on 15000 samples, validate on 10000 samples\n",
      "Epoch 1/40\n",
      "15000/15000 [==============================] - 0s 23us/sample - loss: 0.6912 - acc: 0.6323 - val_loss: 0.6887 - val_acc: 0.6995\n",
      "Epoch 2/40\n",
      "15000/15000 [==============================] - 0s 15us/sample - loss: 0.6843 - acc: 0.7333 - val_loss: 0.6797 - val_acc: 0.7372\n",
      "Epoch 3/40\n",
      "15000/15000 [==============================] - 0s 14us/sample - loss: 0.6709 - acc: 0.7520 - val_loss: 0.6634 - val_acc: 0.7446\n",
      "Epoch 4/40\n",
      "15000/15000 [==============================] - 0s 14us/sample - loss: 0.6486 - acc: 0.7610 - val_loss: 0.6383 - val_acc: 0.7518\n",
      "Epoch 5/40\n",
      "15000/15000 [==============================] - 0s 14us/sample - loss: 0.6165 - acc: 0.7871 - val_loss: 0.6049 - val_acc: 0.7789\n",
      "Epoch 6/40\n",
      "15000/15000 [==============================] - 0s 14us/sample - loss: 0.5761 - acc: 0.8072 - val_loss: 0.5659 - val_acc: 0.7990\n",
      "Epoch 7/40\n",
      "15000/15000 [==============================] - 0s 14us/sample - loss: 0.5309 - acc: 0.8239 - val_loss: 0.5234 - val_acc: 0.8171\n",
      "Epoch 8/40\n",
      "15000/15000 [==============================] - 0s 15us/sample - loss: 0.4852 - acc: 0.8438 - val_loss: 0.4837 - val_acc: 0.8309\n",
      "Epoch 9/40\n",
      "15000/15000 [==============================] - 0s 14us/sample - loss: 0.4424 - acc: 0.8569 - val_loss: 0.4474 - val_acc: 0.8411\n",
      "Epoch 10/40\n",
      "15000/15000 [==============================] - 0s 13us/sample - loss: 0.4042 - acc: 0.8709 - val_loss: 0.4171 - val_acc: 0.8497\n",
      "Epoch 11/40\n",
      "15000/15000 [==============================] - 0s 13us/sample - loss: 0.3716 - acc: 0.8792 - val_loss: 0.3918 - val_acc: 0.8575\n",
      "Epoch 12/40\n",
      "15000/15000 [==============================] - 0s 14us/sample - loss: 0.3439 - acc: 0.8871 - val_loss: 0.3722 - val_acc: 0.8602\n",
      "Epoch 13/40\n",
      "15000/15000 [==============================] - 0s 13us/sample - loss: 0.3212 - acc: 0.8935 - val_loss: 0.3547 - val_acc: 0.8665\n",
      "Epoch 14/40\n",
      "15000/15000 [==============================] - 0s 15us/sample - loss: 0.3008 - acc: 0.8991 - val_loss: 0.3419 - val_acc: 0.8699\n",
      "Epoch 15/40\n",
      "15000/15000 [==============================] - 0s 13us/sample - loss: 0.2836 - acc: 0.9035 - val_loss: 0.3311 - val_acc: 0.8723\n",
      "Epoch 16/40\n",
      "15000/15000 [==============================] - 0s 13us/sample - loss: 0.2682 - acc: 0.9086 - val_loss: 0.3221 - val_acc: 0.8739\n",
      "Epoch 17/40\n",
      "15000/15000 [==============================] - 0s 16us/sample - loss: 0.2541 - acc: 0.9134 - val_loss: 0.3146 - val_acc: 0.8764\n",
      "Epoch 18/40\n",
      "15000/15000 [==============================] - 0s 15us/sample - loss: 0.2415 - acc: 0.9175 - val_loss: 0.3080 - val_acc: 0.8801\n",
      "Epoch 19/40\n",
      "15000/15000 [==============================] - 0s 13us/sample - loss: 0.2302 - acc: 0.9203 - val_loss: 0.3026 - val_acc: 0.8805\n",
      "Epoch 20/40\n",
      "15000/15000 [==============================] - 0s 13us/sample - loss: 0.2200 - acc: 0.9239 - val_loss: 0.2987 - val_acc: 0.8813\n",
      "Epoch 21/40\n",
      "15000/15000 [==============================] - 0s 14us/sample - loss: 0.2097 - acc: 0.9295 - val_loss: 0.2953 - val_acc: 0.8811\n",
      "Epoch 22/40\n",
      "15000/15000 [==============================] - 0s 14us/sample - loss: 0.2010 - acc: 0.9313 - val_loss: 0.2922 - val_acc: 0.8840\n",
      "Epoch 23/40\n",
      "15000/15000 [==============================] - 0s 13us/sample - loss: 0.1922 - acc: 0.9359 - val_loss: 0.2906 - val_acc: 0.8839\n",
      "Epoch 24/40\n",
      "15000/15000 [==============================] - 0s 14us/sample - loss: 0.1846 - acc: 0.9397 - val_loss: 0.2885 - val_acc: 0.8842\n",
      "Epoch 25/40\n",
      "15000/15000 [==============================] - 0s 14us/sample - loss: 0.1768 - acc: 0.9433 - val_loss: 0.2866 - val_acc: 0.8848\n",
      "Epoch 26/40\n",
      "15000/15000 [==============================] - 0s 14us/sample - loss: 0.1700 - acc: 0.9463 - val_loss: 0.2867 - val_acc: 0.8841\n",
      "Epoch 27/40\n",
      "15000/15000 [==============================] - 0s 15us/sample - loss: 0.1633 - acc: 0.9489 - val_loss: 0.2857 - val_acc: 0.8844\n",
      "Epoch 28/40\n",
      "15000/15000 [==============================] - 0s 13us/sample - loss: 0.1570 - acc: 0.9516 - val_loss: 0.2856 - val_acc: 0.8852\n",
      "Epoch 29/40\n",
      "15000/15000 [==============================] - 0s 13us/sample - loss: 0.1515 - acc: 0.9545 - val_loss: 0.2867 - val_acc: 0.8834\n",
      "Epoch 30/40\n",
      "15000/15000 [==============================] - 0s 15us/sample - loss: 0.1458 - acc: 0.9555 - val_loss: 0.2858 - val_acc: 0.8855\n",
      "Epoch 31/40\n",
      "15000/15000 [==============================] - 0s 13us/sample - loss: 0.1400 - acc: 0.9591 - val_loss: 0.2864 - val_acc: 0.8863\n",
      "Epoch 32/40\n",
      "15000/15000 [==============================] - 0s 14us/sample - loss: 0.1347 - acc: 0.9606 - val_loss: 0.2874 - val_acc: 0.8860\n",
      "Epoch 33/40\n",
      "15000/15000 [==============================] - 0s 14us/sample - loss: 0.1296 - acc: 0.9625 - val_loss: 0.2891 - val_acc: 0.8861\n",
      "Epoch 34/40\n",
      "15000/15000 [==============================] - 0s 15us/sample - loss: 0.1250 - acc: 0.9644 - val_loss: 0.2907 - val_acc: 0.8860\n",
      "Epoch 35/40\n",
      "15000/15000 [==============================] - 0s 16us/sample - loss: 0.1208 - acc: 0.9650 - val_loss: 0.2927 - val_acc: 0.8860\n",
      "Epoch 36/40\n",
      "15000/15000 [==============================] - 0s 15us/sample - loss: 0.1163 - acc: 0.9678 - val_loss: 0.2941 - val_acc: 0.8853\n",
      "Epoch 37/40\n",
      "15000/15000 [==============================] - 0s 15us/sample - loss: 0.1119 - acc: 0.9687 - val_loss: 0.2962 - val_acc: 0.8856\n",
      "Epoch 38/40\n",
      "15000/15000 [==============================] - 0s 14us/sample - loss: 0.1078 - acc: 0.9702 - val_loss: 0.2992 - val_acc: 0.8831\n",
      "Epoch 39/40\n",
      "15000/15000 [==============================] - 0s 14us/sample - loss: 0.1046 - acc: 0.9711 - val_loss: 0.3021 - val_acc: 0.8825\n",
      "Epoch 40/40\n",
      "15000/15000 [==============================] - 0s 15us/sample - loss: 0.1004 - acc: 0.9731 - val_loss: 0.3044 - val_acc: 0.8830\n"
     ]
    }
   ],
   "source": [
    "history = model.fit(partial_x_train,\n",
    "                    partial_y_train,\n",
    "                    epochs=40,\n",
    "                    batch_size=512,\n",
    "                    validation_data=(x_val, y_val),\n",
    "                    verbose=1)"
   ]
  },
  {
   "cell_type": "markdown",
   "metadata": {},
   "source": [
    "# モデルの評価\n",
    "さて、モデルの性能を見てみましょう。2つの値が返されます。損失（エラーを示す数値であり、小さい方が良い）と正解率です。"
   ]
  },
  {
   "cell_type": "code",
   "execution_count": 22,
   "metadata": {},
   "outputs": [
    {
     "name": "stdout",
     "output_type": "stream",
     "text": [
      "25000/25000 - 0s - loss: 0.3250 - acc: 0.8721\n",
      "loss:0.32504758796691896\n",
      "acc:0.8720800280570984\n"
     ]
    }
   ],
   "source": [
    "results = model.evaluate(test_data,  test_labels, verbose=2)\n",
    "\n",
    "print(\"loss:{}\\nacc:{}\".format(results[0],results[1]))"
   ]
  },
  {
   "cell_type": "markdown",
   "metadata": {},
   "source": [
    "この、かなり素朴なアプローチでも87%前後の正解率を達成しました。もっと高度なアプローチを使えば、モデルの正解率は95%に近づけることもできるでしょう。"
   ]
  },
  {
   "cell_type": "markdown",
   "metadata": {},
   "source": [
    "# 正解率と損失の時系列グラフを描く\n",
    "model.fit() は、訓練中に発生したすべてのことを記録した辞書を含むHistory オブジェクトを返します。"
   ]
  },
  {
   "cell_type": "code",
   "execution_count": 24,
   "metadata": {},
   "outputs": [
    {
     "data": {
      "text/plain": [
       "dict_keys(['loss', 'acc', 'val_loss', 'val_acc'])"
      ]
     },
     "execution_count": 24,
     "metadata": {},
     "output_type": "execute_result"
    }
   ],
   "source": [
    "history_dict = history.history\n",
    "history_dict.keys()"
   ]
  },
  {
   "cell_type": "markdown",
   "metadata": {},
   "source": [
    "[4つのエントリがあります。それぞれが、訓練と検証の際にモニターしていた指標を示します。\n",
    "\n",
    "これを使って、訓練時と検証時の損失を比較するグラフと、訓練時と検証時の正解率を比較するグラフを作成することができます。"
   ]
  },
  {
   "cell_type": "code",
   "execution_count": 25,
   "metadata": {},
   "outputs": [
    {
     "data": {
      "image/png": "[encoded data removed]",
      "text/plain": [
       "<Figure size 432x288 with 1 Axes>"
      ]
     },
     "metadata": {
      "needs_background": "light"
     },
     "output_type": "display_data"
    }
   ],
   "source": [
    "import matplotlib.pyplot as plt\n",
    "\n",
    "acc = history_dict['acc']\n",
    "val_acc = history_dict['val_acc']\n",
    "loss = history_dict['loss']\n",
    "val_loss = history_dict['val_loss']\n",
    "\n",
    "epochs = range(1, len(acc) + 1)\n",
    "\n",
    "# \"bo\" is for \"blue dot\"\n",
    "plt.plot(epochs, loss, 'bo', label='Training loss')\n",
    "# b is for \"solid blue line\"\n",
    "plt.plot(epochs, val_loss, 'b', label='Validation loss')\n",
    "plt.title('Training and validation loss')\n",
    "plt.xlabel('Epochs')\n",
    "plt.ylabel('Loss')\n",
    "plt.legend()\n",
    "\n",
    "plt.show()"
   ]
  },
  {
   "cell_type": "code",
   "execution_count": 26,
   "metadata": {},
   "outputs": [
    {
     "data": {
      "image/png": "[encoded data removed]",
      "text/plain": [
       "<Figure size 432x288 with 1 Axes>"
      ]
     },
     "metadata": {
      "needs_background": "light"
     },
     "output_type": "display_data"
    }
   ],
   "source": [
    "plt.clf()   # 図のクリア\n",
    "\n",
    "plt.plot(epochs, acc, 'bo', label='Training acc')\n",
    "plt.plot(epochs, val_acc, 'b', label='Validation acc')\n",
    "plt.title('Training and validation accuracy')\n",
    "plt.xlabel('Epochs')\n",
    "plt.ylabel('Accuracy')\n",
    "plt.legend()\n",
    "\n",
    "plt.show()"
   ]
  },
  {
   "cell_type": "markdown",
   "metadata": {},
   "source": [
    "上記のグラフでは、点が訓練時の損失と正解率を、実線が検証時の損失と正解率を表しています。\n",
    "\n",
    "訓練時の損失がエポックごとに減少し、訓練時の正解率がエポックごとに上昇していることに気がつくはずです。\n",
    "\n",
    "繰り返すごとに指定された数値指標を最小化する勾配降下法を最適化に使用している場合に期待される動きです。\n",
    "\n",
    "これは、検証時の損失と正解率には当てはまりません。20エポックを過ぎたあたりから、横ばいになっているようです。\n",
    "\n",
    "これが、過学習の一例です。モデルの性能が、訓練用データでは高い一方で、見たことの無いデータではそれほど高くないというものです。\n",
    "\n",
    "このポイントをすぎると、モデルが最適化しすぎて、訓練用データでは特徴的であるが、テスト用データには一般化できない内部表現を学習しています。\n",
    "\n",
    "このケースの場合、20エポックを過ぎたあたりで訓練をやめることで、過学習を防止することが出来ます。後ほど、コールバックを使って、これを自動化する方法を紹介します。"
   ]
  },
  {
   "cell_type": "markdown",
   "metadata": {},
   "source": [
    "# 3.異なるフレームワークへの書き換え\n",
    "\n",
    "「ディープラーニングフレームワーク1」で作成した4種類のデータセットを扱うTensorFLowのコードを異なるフレームワークに変更していきます。\n",
    "\n",
    "\n",
    "* Iris（Iris-versicolorとIris-virginicaのみの2値分類）\n",
    "* Iris（3種類全ての目的変数を使用して多値分類）\n",
    "* House Prices\n",
    "* MNIST\n",
    "\n",
    "Kerasへの書き換え\n",
    "KerasはTensorFLowに含まれるtf.kerasモジュールを使用してください。\n",
    "\n",
    "\n",
    "KerasにはSequentialモデルかFunctional APIかなど書き方に種類がありますが、これは指定しません。"
   ]
  },
  {
   "cell_type": "markdown",
   "metadata": {},
   "source": [
    "# 【問題3】Iris（2値分類）をKerasで学習\n",
    "TensorFlowによるIrisデータセットに対する2値分類をKerasに書き換えてください。"
   ]
  },
  {
   "cell_type": "code",
   "execution_count": 2,
   "metadata": {},
   "outputs": [
    {
     "data": {
      "image/png": "[encoded data removed]",
      "text/plain": [
       "<Figure size 864x576 with 2 Axes>"
      ]
     },
     "metadata": {
      "needs_background": "light"
     },
     "output_type": "display_data"
    },
    {
     "name": "stdout",
     "output_type": "stream",
     "text": [
      "Accuracy\n",
      "\ttraining         \t (min:    0.531, max:    0.953, cur:    0.938)\n",
      "\tvalidation       \t (min:    0.375, max:    1.000, cur:    1.000)\n",
      "Loss\n",
      "\ttraining         \t (min:    0.428, max:    1.357, cur:    0.428)\n",
      "\tvalidation       \t (min:    0.417, max:    0.660, cur:    0.428)\n",
      "64/64 [==============================] - 0s 5ms/sample - loss: 0.4283 - acc: 0.9375 - val_loss: 0.4278 - val_acc: 1.0000\n",
      "Test loss: 0.4384687840938568\n",
      "Test acc: 0.9\n"
     ]
    }
   ],
   "source": [
    "# データセットの読み込み\n",
    "dataset_path =(\"/Users/nobu/Documents/データセット/datasets_19_420_Iris.csv\")\n",
    "df = pd.read_csv(dataset_path)\n",
    "\n",
    "df = df[df[\"Species\"].isin([\"Iris-versicolor\",\"Iris-virginica\"])]\n",
    "\n",
    "#特徴量を抽出\n",
    "X = df.loc[:, [\"SepalLengthCm\", \"SepalWidthCm\", \"PetalLengthCm\", \"PetalWidthCm\"]]\n",
    "X = np.array(X)\n",
    "\n",
    "# ラベルをonehot化\n",
    "y = np.array(pd.get_dummies(df[\"Species\"]))\n",
    "#データ型を変換\n",
    "y = y.astype(np.int)\n",
    "\n",
    "\n",
    "# trainとtestに分割\n",
    "X_train, X_test, y_train, y_test = train_test_split(X, y, test_size=0.2, random_state=0)\n",
    "# さらにtrainとvalに分割\n",
    "X_train, X_val, y_train, y_val = train_test_split(X_train, y_train, test_size=0.2, random_state=0)\n",
    "\n",
    "\n",
    "\n",
    "#kerasで4層のモデル作成\n",
    "tf.reset_default_graph()#データグラフをリセット\n",
    "\n",
    "input_data = tf.keras.layers.Input(shape=(4,))#入力層（特徴量が4種類）\n",
    "\n",
    "layer_1 = tf.keras.layers.Dense(40,activation=tf.nn.relu,kernel_initializer='he_normal')(input_data)#ノード数が40、活性化関数がReLU、初期化手法がhe_normal、入力層からの入力を入力\n",
    "layer_2 = tf.keras.layers.Dense(20,activation=tf.nn.relu,kernel_initializer='he_normal')(layer_1)#ノード数が20、活性化関数がReLU、初期化手法がhe_normal、layer_1からの入力を入力\n",
    "layer_3 = tf.keras.layers.Dense(10,activation=tf.nn.relu,kernel_initializer='he_normal')(layer_2)#ノード数が１0、活性化関数がReLU、初期化手法がhe_normal、layer_2からの入力を入力\n",
    "\n",
    "output = tf.keras.layers.Dense(2,activation=tf.nn.softmax)(layer_3)#２値分類なので出力は2、分類問題の出力なので活性化関数はsoftmax\n",
    "\n",
    "model = tf.keras.Model(inputs=input_data,outputs=output)#入力層と出力層を入れてmodelを作成\n",
    "\n",
    "model.summary()#モデル構造の可視化\n",
    "\n",
    "model.compile(#いろいろ設定してモデルをコンパイルする\n",
    "    loss='binary_crossentropy',#損失関数\n",
    "    optimizer=tf.train.AdamOptimizer(learning_rate=0.001),#最適化手法\n",
    "    metrics=['accuracy']#評価指標を設定\n",
    ")\n",
    "\n",
    "#callbacks\n",
    "cb_Plot = PlotLossesKeras()\n",
    "cb_MC = ModelCheckpoint(filepath=\"/Users/nobu/diveintocode-ml/term-3/tweet_weight\", monitor='val_loss', verbose=1, save_best_only=True, mode='min')\n",
    "\n",
    "history = model.fit(#学習させる\n",
    "    X_train,#訓練データ\n",
    "    y_train,\n",
    "    batch_size=10,#バッチサイズ\n",
    "    epochs=100,#エポック数\n",
    "    validation_data=(X_val, y_val),\n",
    "    callbacks=[cb_AE,cb_Plot],\n",
    "    verbose=1\n",
    "    )\n",
    "#vervose=0の時は学習経過表示しない、１の時はバッチごと、2の時はエポックごとに表示\n",
    "\n",
    "\n",
    "#推定\n",
    "y_pred = model.predict(X_train)\n",
    "#print('y_pred:', y_pred[:10])\n",
    "\n",
    "#testデータのスコアと損失を算出\n",
    "score = model.evaluate(X_test, y_test, verbose=0)\n",
    "print('Test loss:', score[0])\n",
    "print('Test acc:', score[1])\n"
   ]
  },
  {
   "cell_type": "markdown",
   "metadata": {},
   "source": [
    "# 【問題4】Iris（多値分類）をKerasで学習\n",
    "TensorFlowによるIrisデータセットに対する3値分類をKerasに書き換えてください。"
   ]
  },
  {
   "cell_type": "code",
   "execution_count": 3,
   "metadata": {},
   "outputs": [
    {
     "data": {
      "image/png": "[encoded data removed]",
      "text/plain": [
       "<Figure size 864x576 with 2 Axes>"
      ]
     },
     "metadata": {
      "needs_background": "light"
     },
     "output_type": "display_data"
    },
    {
     "name": "stdout",
     "output_type": "stream",
     "text": [
      "Accuracy\n",
      "\ttraining         \t (min:    0.250, max:    0.990, cur:    0.979)\n",
      "\tvalidation       \t (min:    0.208, max:    0.917, cur:    0.917)\n",
      "Loss\n",
      "\ttraining         \t (min:    0.096, max:    1.950, cur:    0.097)\n",
      "\tvalidation       \t (min:    0.235, max:    1.448, cur:    0.239)\n",
      "96/96 [==============================] - 0s 4ms/sample - loss: 0.0967 - acc: 0.9792 - val_loss: 0.2395 - val_acc: 0.9167\n",
      "==========test============\n",
      "Test loss: 0.10481183975934982\n",
      "Test acc: 1.0\n"
     ]
    }
   ],
   "source": [
    "# データセットの読み込み\n",
    "dataset_path =(\"/Users/nobu/Documents/データセット/datasets_19_420_Iris.csv\")\n",
    "df = pd.read_csv(dataset_path)\n",
    "\n",
    "#特徴量を抽出\n",
    "X = df.loc[:, [\"SepalLengthCm\", \"SepalWidthCm\", \"PetalLengthCm\", \"PetalWidthCm\"]]\n",
    "X = np.array(X)\n",
    "\n",
    "# ラベルをonehot化\n",
    "y = np.array(pd.get_dummies(df[\"Species\"]))\n",
    "#データ型を変換\n",
    "y = y.astype(np.int)\n",
    "\n",
    "\n",
    "# trainとtestに分割\n",
    "X_train, X_test, y_train, y_test = train_test_split(X, y, test_size=0.2, random_state=0)\n",
    "# さらにtrainとvalに分割\n",
    "X_train, X_val, y_train, y_val = train_test_split(X_train, y_train, test_size=0.2, random_state=0)\n",
    "\n",
    "\n",
    "\n",
    "#kerasで4層のモデル作成\n",
    "tf.reset_default_graph()#データグラフをリセット\n",
    "\n",
    "input_data = tf.keras.layers.Input(shape=(4,))#入力層（特徴量が4種類）\n",
    "\n",
    "layer_1 = tf.keras.layers.Dense(40,activation=tf.nn.relu,kernel_initializer='he_normal')(input_data)#ノード数が40、活性化関数がReLU、初期化手法がhe_normal、入力層からの入力を入力\n",
    "layer_2 = tf.keras.layers.Dense(20,activation=tf.nn.relu,kernel_initializer='he_normal')(layer_1)#ノード数が20、活性化関数がReLU、初期化手法がhe_normal、layer_1からの入力を入力\n",
    "layer_3 = tf.keras.layers.Dense(10,activation=tf.nn.relu,kernel_initializer='he_normal')(layer_2)#ノード数が１0、活性化関数がReLU、初期化手法がhe_normal、layer_2からの入力を入力\n",
    "\n",
    "output = tf.keras.layers.Dense(3,activation=tf.nn.softmax)(layer_3)#２値分類なので出力は1、分類問題の出力なので活性化関数はsoftmax\n",
    "\n",
    "model = tf.keras.Model(inputs=input_data,outputs=output)#入力層と出力層を入れてmodelを作成\n",
    "\n",
    "model.summary()#モデル構造の可視化\n",
    "\n",
    "model.compile(#いろいろ設定してモデルをコンパイルする\n",
    "    loss='categorical_crossentropy',#損失関数\n",
    "    optimizer=tf.train.AdamOptimizer(learning_rate=0.001),#最適化手法\n",
    "    metrics=['accuracy']#評価指標を設定\n",
    ")\n",
    "\n",
    "#callbacks\n",
    "cb_AE = tf.keras.callbacks.EarlyStopping(monitor='val_loss', patience=3)\n",
    "cb_Plot = PlotLossesKeras()\n",
    "\n",
    "\n",
    "history = model.fit(#学習させる\n",
    "    X_train,#訓練データ\n",
    "    y_train,\n",
    "    batch_size=10,#バッチサイズ\n",
    "    epochs=100,#エポック数\n",
    "    validation_data=(X_val, y_val),#検証用データ\n",
    "    callbacks=[cb_AE,cb_Plot],\n",
    "    verbose=1\n",
    "    )\n",
    "#vervose=0の時は学習経過表示しない、１の時はバッチごと、2の時はエポックごとに表示\n",
    "\n",
    "#推定\n",
    "y_pred = model.predict(X_train)\n",
    "#print('y_pred:', y_pred[:10])\n",
    "\n",
    "#testデータのスコアと損失を算出\n",
    "score = model.evaluate(X_test, y_test, verbose=0)\n",
    "print(\"==========test============\")\n",
    "print('Test loss:', score[0])\n",
    "print('Test acc:', score[1])\n"
   ]
  },
  {
   "cell_type": "code",
   "execution_count": 4,
   "metadata": {},
   "outputs": [
    {
     "data": {
      "image/png": "[encoded data removed]",
      "text/plain": [
       "<Figure size 864x576 with 2 Axes>"
      ]
     },
     "metadata": {
      "needs_background": "light"
     },
     "output_type": "display_data"
    },
    {
     "name": "stdout",
     "output_type": "stream",
     "text": [
      "Loss\n",
      "\ttraining         \t (min:    0.060, max:   81.763, cur:    0.061)\n",
      "\tvalidation       \t (min:    0.052, max:   27.057, cur:    0.073)\n",
      "mean_squared_error\n",
      "\ttraining         \t (min:    0.060, max:   81.763, cur:    0.061)\n",
      "\tvalidation       \t (min:    0.052, max:   27.057, cur:    0.073)\n",
      "934/934 [==============================] - 1s 600us/sample - loss: 0.0611 - mean_squared_error: 0.0611 - val_loss: 0.0735 - val_mean_squared_error: 0.0735\n",
      "Test loss: 0.07302681611825342\n",
      "Test mse: 0.07302681\n"
     ]
    }
   ],
   "source": [
    "callback = tf.keras.callbacks.EarlyStopping(monitor='loss', patience=3)\n",
    "\n",
    "# データセットの読み込み\n",
    "df = pd.read_csv(\"/Users/nobu/Documents/データセット/house-prices-advanced-regression-techniques/train.csv\")\n",
    "\n",
    "#データセット\n",
    "y = df[\"SalePrice\"]\n",
    "X = df.loc[:, [\"GrLivArea\",\"YearBuilt\"]]\n",
    "y = np.array(y)\n",
    "X = np.array(X)\n",
    "y = y.astype(np.int)[:, np.newaxis]\n",
    "\n",
    "#対数変換\n",
    "y = np.log(y)\n",
    "X = np.log(X)\n",
    "\n",
    "# trainとtestに分割\n",
    "X_train, X_test, y_train, y_test = train_test_split(X, y, test_size=0.2, random_state=0)\n",
    "# さらにtrainとvalに分割\n",
    "X_train, X_val, y_train, y_val = train_test_split(X_train, y_train, test_size=0.2, random_state=0)\n",
    "\n",
    "#特徴量を標準化\n",
    "from sklearn.preprocessing import StandardScaler\n",
    "std = StandardScaler()\n",
    "X_train = std.fit_transform(X_train)\n",
    "X_test = std.transform(X_test)\n",
    "X_val = std.transform(X_val)\n",
    "\n",
    "\n",
    "#kerasで4層のモデル作成\n",
    "tf.reset_default_graph()#データグラフをリセット\n",
    "\n",
    "input_data = tf.keras.layers.Input(shape=(2,))#入力層（特徴量が4種類）\n",
    "\n",
    "layer_1 = tf.keras.layers.Dense(40,activation=tf.nn.relu,kernel_initializer='he_normal')(input_data)#ノード数が40、活性化関数がReLU、初期化手法がhe_normal、入力層からの入力を入力\n",
    "layer_2 = tf.keras.layers.Dense(20,activation=tf.nn.relu,kernel_initializer='he_normal')(layer_1)#ノード数が20、活性化関数がReLU、初期化手法がhe_normal、layer_1からの入力を入力\n",
    "layer_3 = tf.keras.layers.Dense(10,activation=tf.nn.relu,kernel_initializer='he_normal')(layer_2)#ノード数が１0、活性化関数がReLU、初期化手法がhe_normal、layer_2からの入力を入力\n",
    "\n",
    "output = tf.keras.layers.Dense(1,activation=\"linear\")(layer_3)#２値分類なので出力は1、回帰問題の出力なので活性化関数はlinear\n",
    " \n",
    "model = tf.keras.Model(inputs=input_data,outputs=output)#入力層と出力層を入れてmodelを作成\n",
    "\n",
    "print(model.summary())#モデル構造の可視化\n",
    "\n",
    "model.compile(#いろいろ設定してモデルをコンパイルする\n",
    "    loss='mse',#損失関数\n",
    "    optimizer=tf.train.AdamOptimizer(learning_rate=0.001),#最適化手法\n",
    "    metrics=['mse']#評価指標を設定\n",
    ")\n",
    "\n",
    "#callbacks\n",
    "cb_AE = tf.keras.callbacks.EarlyStopping(monitor='loss', patience=3)\n",
    "cb_Plot = PlotLossesKeras()\n",
    "\n",
    "\n",
    "\n",
    "history = model.fit(#学習させる\n",
    "    X_train,#訓練データ\n",
    "    y_train,\n",
    "    batch_size=10,#バッチサイズ\n",
    "    epochs=100,#エポック数\n",
    "    validation_data=(X_val, y_val),#検証用データ\n",
    "    callbacks=[cb_AE,cb_Plot],\n",
    "    verbose=1\n",
    "    )\n",
    "#vervose=0の時は学習経過表示しない、１の時はバッチごと、2の時はエポックごとに表示\n",
    "\n",
    "#推定\n",
    "y_pred = model.predict(X_train)\n",
    "#print('y_pred:', y_pred[:10])\n",
    "\n",
    "#testデータのスコアと損失を算出\n",
    "score = model.evaluate(X_test, y_test, verbose=0)\n",
    "print('Test loss:', score[0])\n",
    "print('Test mse:', score[1])\n"
   ]
  },
  {
   "cell_type": "markdown",
   "metadata": {},
   "source": [
    "# 【問題6】MNISTをKerasで学習\n",
    "TensorFlowによるMNISTデータセットによる画像の多値分類をKerasに書き換えてください。"
   ]
  },
  {
   "cell_type": "code",
   "execution_count": 75,
   "metadata": {},
   "outputs": [
    {
     "name": "stdout",
     "output_type": "stream",
     "text": [
      "Model: \"model\"\n",
      "_________________________________________________________________\n",
      "Layer (type)                 Output Shape              Param #   \n",
      "=================================================================\n",
      "input_1 (InputLayer)         [(None, 784)]             0         \n",
      "_________________________________________________________________\n",
      "dense (Dense)                (None, 100)               78500     \n",
      "_________________________________________________________________\n",
      "dense_1 (Dense)              (None, 50)                5050      \n",
      "_________________________________________________________________\n",
      "dense_2 (Dense)              (None, 50)                2550      \n",
      "_________________________________________________________________\n",
      "dense_3 (Dense)              (None, 10)                510       \n",
      "=================================================================\n",
      "Total params: 86,610\n",
      "Trainable params: 86,610\n",
      "Non-trainable params: 0\n",
      "_________________________________________________________________\n"
     ]
    }
   ],
   "source": [
    "# データセットの読み込み\n",
    "from keras.datasets import mnist\n",
    "(X_train, y_train), (X_test, y_test) = mnist.load_data()\n",
    "\n",
    "#特徴量の前処理\n",
    "X_train = X_train.reshape(-1, 784)\n",
    "X_test = X_test.reshape(-1, 784)\n",
    "X_train = X_train.astype(np.float)\n",
    "X_test = X_test.astype(np.float)\n",
    "X_train /= 255\n",
    "X_test /= 255\n",
    "\n",
    "#目的変数の前処理（ワンホット化）\n",
    "from sklearn.preprocessing import OneHotEncoder\n",
    "enc = OneHotEncoder(handle_unknown='ignore', sparse=False)\n",
    "y_train = enc.fit_transform(y_train[:, np.newaxis])\n",
    "y_test = enc.transform(y_test[:, np.newaxis])\n",
    "\n",
    "#分割\n",
    "X_train, X_val, y_train, y_val = train_test_split(X_train, y_train, test_size=0.2)\n",
    "\n",
    "\n",
    "#kerasで4層のモデル作成\n",
    "tf.reset_default_graph()#データグラフをリセット\n",
    "\n",
    "input_data = tf.keras.layers.Input(shape=(784,))#入力層（特徴量が784種類）\n",
    "\n",
    "layer_1 = tf.keras.layers.Dense(100,activation=tf.nn.relu,kernel_initializer='he_normal')(input_data)#ノード数が400、活性化関数がReLU、初期化手法がhe_normal、入力層からの入力を入力\n",
    "layer_2 = tf.keras.layers.Dense(50,activation=tf.nn.relu,kernel_initializer='he_normal')(layer_1)#ノード数が200、活性化関数がReLU、初期化手法がhe_normal、layer_1からの入力を入力\n",
    "layer_3 = tf.keras.layers.Dense(50,activation=tf.nn.relu,kernel_initializer='he_normal')(layer_2)#ノード数が１00、活性化関数がReLU、初期化手法がhe_normal、layer_2からの入力を入力\n",
    "\n",
    "output = tf.keras.layers.Dense(10,activation=tf.nn.softmax)(layer_3)#10値分類なので出力は10、分類問題の出力なので活性化関数はsoftmax\n",
    "\n",
    "model = tf.keras.Model(inputs=input_data,outputs=output)#入力層と出力層を入れてmodelを作成\n",
    "\n",
    "model.summary()#モデル構造の可視化\n",
    "\n",
    "model.compile(#いろいろ設定してモデルをコンパイルする\n",
    "    loss='categorical_crossentropy',#損失関数\n",
    "    optimizer=tf.train.AdamOptimizer(learning_rate=0.0001),#最適化手法\n",
    "    metrics=['accuracy']#評価指標を設定\n",
    ")\n",
    "\n",
    "\n",
    "#callbacks\n",
    "cb_AE = tf.keras.callbacks.EarlyStopping(monitor='val_loss', patience=3)\n",
    "cb_Plot = PlotLossesKeras()\n",
    "\n",
    "\n"
   ]
  },
  {
   "cell_type": "code",
   "execution_count": 76,
   "metadata": {},
   "outputs": [
    {
     "data": {
      "image/png": "[encoded data removed]",
      "text/plain": [
       "<Figure size 864x576 with 2 Axes>"
      ]
     },
     "metadata": {
      "needs_background": "light"
     },
     "output_type": "display_data"
    },
    {
     "name": "stdout",
     "output_type": "stream",
     "text": [
      "Accuracy\n",
      "\ttraining         \t (min:    0.868, max:    0.989, cur:    0.989)\n",
      "\tvalidation       \t (min:    0.931, max:    0.973, cur:    0.972)\n",
      "Loss\n",
      "\ttraining         \t (min:    0.038, max:    0.472, cur:    0.038)\n",
      "\tvalidation       \t (min:    0.093, max:    0.240, cur:    0.094)\n",
      "48000/48000 [==============================] - 8s 169us/sample - loss: 0.0377 - acc: 0.9894 - val_loss: 0.0941 - val_acc: 0.9718\n",
      "Test loss: 0.09627929686522112\n",
      "Test acc: 0.9727\n",
      "CPU times: user 2min 16s, sys: 27.7 s, total: 2min 44s\n",
      "Wall time: 1min 35s\n"
     ]
    }
   ],
   "source": [
    "%%time\n",
    "history = model.fit(#学習させる\n",
    "    X_train,#訓練データ\n",
    "    y_train,\n",
    "    batch_size=10,#バッチサイズ\n",
    "    epochs=100,#エポック数\n",
    "    validation_data=(X_val, y_val),#検証用データ\n",
    "    callbacks=[cb_AE,cb_Plot],\n",
    "    verbose=1\n",
    "    )\n",
    "#vervose=0の時は学習経過表示しない、１の時はバッチごと、2の時はエポックごとに表示\n",
    "\n",
    "#推定\n",
    "y_pred = model.predict(X_train)\n",
    "#print('y_pred:', y_pred[:10])\n",
    "#testデータのスコアと損失を算出\n",
    "score = model.evaluate(X_test, y_test, verbose=0)\n",
    "print('Test loss:', score[0])\n",
    "print('Test acc:', score[1])\n"
   ]
  },
  {
   "cell_type": "markdown",
   "metadata": {},
   "source": [
    "# 【問題7】（アドバンス課題）PyTorchへの書き換え\n",
    "\n",
    "4種類の問題をPyTorchに書き換えてください。\n",
    "\n",
    "https://rf00.hatenablog.com/entry/2018/05/13/180739\n",
    "\n",
    "https://www.pytry3g.com/entry/2018/04/27/225711\n",
    "\n",
    "https://qiita.com/sudominoru/items/544aec4dc867187a93fa"
   ]
  },
  {
   "cell_type": "markdown",
   "metadata": {},
   "source": [
    "## Iris（2値分類）"
   ]
  },
  {
   "cell_type": "code",
   "execution_count": 6,
   "metadata": {},
   "outputs": [],
   "source": [
    "#データ準備\n",
    "\n",
    "# データセットの読み込み\n",
    "dataset_path =(\"/Users/nobu/Documents/データセット/datasets_19_420_Iris.csv\")\n",
    "df = pd.read_csv(dataset_path)\n",
    "\n",
    "# データフレームから条件抽出\n",
    "df = df[df[\"Species\"].isin([\"Iris-versicolor\",\"Iris-virginica\"])]\n",
    "\n",
    "#特徴量抽出、変換\n",
    "X = df.loc[:, [\"SepalLengthCm\", \"SepalWidthCm\", \"PetalLengthCm\", \"PetalWidthCm\"]]\n",
    "X = np.array(X)\n",
    "\n",
    "#目的変数抽出、変換\n",
    "y = df[\"Species\"]\n",
    "y = np.array(y)\n",
    "# ラベルを数値に変換\n",
    "y[y=='Iris-versicolor'] = 0\n",
    "y[y=='Iris-virginica'] = 1\n",
    "y = y.astype(np.int)\n",
    "\n",
    "# trainとtestに分割\n",
    "X_train, X_test, y_train, y_test = train_test_split(X, y, test_size=0.2, random_state=0)\n",
    "\n",
    "# さらにtrainとvalに分割\n",
    "X_train, X_val, y_train, y_val = train_test_split(X_train, y_train, test_size=0.2, random_state=0)\n",
    "\n",
    "\n",
    "# 分割したものをpytorchで扱えるtensor型に変換\n",
    "import torch\n",
    "\n",
    "train_X = torch.Tensor(X_train)\n",
    "val_X = torch.Tensor(X_val)\n",
    "train_y = torch.LongTensor(y_train)#整数を扱う場合はlong型を使う（intじゃラベルとして扱うことがで機内）\n",
    "val_y = torch.LongTensor(y_val)"
   ]
  },
  {
   "cell_type": "code",
   "execution_count": 7,
   "metadata": {},
   "outputs": [
    {
     "name": "stdout",
     "output_type": "stream",
     "text": [
      "Net(\n",
      "  (fc1): Linear(in_features=4, out_features=100, bias=True)\n",
      "  (fc2): Linear(in_features=100, out_features=50, bias=True)\n",
      "  (fc3): Linear(in_features=50, out_features=2, bias=True)\n",
      ")\n"
     ]
    }
   ],
   "source": [
    "#ネットワーク構築\n",
    "\n",
    "import torch.nn as nn#ニューラルネットワークモジュールの基本クラス\n",
    "import torch.nn.functional as F#pytorchのNN構成に使うメソッドを呼び出す\n",
    "from torch.autograd import Variable#自動微分パッケージ\n",
    "\n",
    "torch.manual_seed(71) #seed固定、ネットワーク定義前にする必要ありそう\n",
    "\n",
    "class Net(nn.Module):\n",
    "    \n",
    "    \n",
    "    def __init__(self):\n",
    "        super(Net, self).__init__()\n",
    "        #層を定義\n",
    "        self.fc1 = nn.Linear(4, 100)#(入力、出力)\n",
    "        self.fc2 = nn.Linear(100, 50)\n",
    "        self.fc3 = nn.Linear(50, 2)#2値分類なので２\n",
    "    \n",
    "    #順伝播\n",
    "    def forward(self, x):\n",
    "        x = F.relu(self.fc1(x))#F(nn.function)から活性化関数を呼び出し、各層に適応\n",
    "        x = F.relu(self.fc2(x))\n",
    "        x = self.fc3(x)\n",
    "        out_x = F.log_softmax(x, dim=1)#順伝播で流れてきた最終層にソフトマックスを通し対数をとる\n",
    "        #dimはnumpyのaxisと一緒\n",
    "        return out_x\n",
    "\n",
    "#ネットワークのインスタンス作成\n",
    "model = Net()\n",
    "\n",
    "import torch.optim as optim#オプティマイザーを呼び出す\n",
    "#作成したNNモデルにoptimizerを追加\n",
    "optimizer = optim.SGD(model.parameters(), lr=0.02)\n",
    "\n",
    "#ネットワークがどんな層で構成されているか確認\n",
    "print(model)"
   ]
  },
  {
   "cell_type": "code",
   "execution_count": 8,
   "metadata": {},
   "outputs": [
    {
     "name": "stdout",
     "output_type": "stream",
     "text": [
      "Epoch: 1.0\tLoss: 0.660\tAccuracy: 0.531\n",
      "Epoch: 2.0\tLoss: 0.645\tAccuracy: 0.531\n",
      "Epoch: 3.0\tLoss: 0.629\tAccuracy: 0.562\n",
      "Epoch: 4.0\tLoss: 0.611\tAccuracy: 0.656\n",
      "Epoch: 5.0\tLoss: 0.591\tAccuracy: 0.734\n",
      "Epoch: 6.0\tLoss: 0.569\tAccuracy: 0.766\n",
      "Epoch: 7.0\tLoss: 0.544\tAccuracy: 0.828\n",
      "Epoch: 8.0\tLoss: 0.515\tAccuracy: 0.859\n",
      "Epoch: 9.0\tLoss: 0.487\tAccuracy: 0.938\n",
      "Epoch: 10.0\tLoss: 0.457\tAccuracy: 0.938\n"
     ]
    },
    {
     "data": {
      "image/png": "[encoded data removed]",
      "text/plain": [
       "<Figure size 432x288 with 1 Axes>"
      ]
     },
     "metadata": {
      "needs_background": "light"
     },
     "output_type": "display_data"
    },
    {
     "data": {
      "image/png": "[encoded data removed]",
      "text/plain": [
       "<Figure size 432x288 with 1 Axes>"
      ]
     },
     "metadata": {
      "needs_background": "light"
     },
     "output_type": "display_data"
    },
    {
     "name": "stdout",
     "output_type": "stream",
     "text": [
      "val_Accuracy: 0.938\n"
     ]
    }
   ],
   "source": [
    "#学習\n",
    "\n",
    "#損失,acc記録用\n",
    "train_loss = []\n",
    "train_accu = []\n",
    "\n",
    "#イテレーション数を初期化\n",
    "i = 0\n",
    "\n",
    "#学習モード\n",
    "model.train() \n",
    "for epoch in range(100):\n",
    "    #微分可能な型に変換\n",
    "    data, target = Variable(train_X), Variable(train_y)\n",
    "    #勾配初期化\n",
    "    optimizer.zero_grad() \n",
    "    #データを流す\n",
    "    output = model(data) \n",
    "    #loss計算\n",
    "    loss = F.nll_loss(output, target) \n",
    "    #バックプロパゲーション\n",
    "    loss.backward() \n",
    "    #予測結果\n",
    "    prediction = output.data.max(1)[1] \n",
    "    #正解率\n",
    "    accuracy = prediction.eq(target.data).sum().numpy() / len(train_X) \n",
    "    \n",
    "    # パラメータ更新\n",
    "    optimizer.step()   \n",
    "    \n",
    "    #10イテレーション＝１エポックとして1エポックごとにlossとaccを出力\n",
    "    i += 1\n",
    "    if i % 10 == 0:\n",
    "        print('Epoch: {}\\tLoss: {:.3f}\\tAccuracy: {:.3f}'.format(i/10, loss, accuracy))\n",
    "        #エポックごとにlossとaccを格納\n",
    "        train_loss.append(loss)\n",
    "        train_accu.append(accuracy)\n",
    "\n",
    "\n",
    "#lossの推移を描画\n",
    "plt.xlabel('epoch')\n",
    "plt.ylabel('loss')\n",
    "plt.plot(train_loss)\n",
    "plt.show()\n",
    "\n",
    "#laccの推移を描画\n",
    "plt.xlabel('epoch')\n",
    "plt.ylabel('acc')\n",
    "plt.plot(train_accu)\n",
    "plt.show()\n",
    "\n",
    "\n",
    "#学習したモデルを用いてvalデータに対して検証\n",
    "\n",
    "#推論モード\n",
    "model.eval() \n",
    "#valデータを微分可能な型に変換\n",
    "val_output = model(Variable(val_X))\n",
    "\n",
    "#予測結果\n",
    "_, predicted = torch.max(val_output.data, 1)\n",
    "\n",
    "#acc出力\n",
    "print('val_Accuracy: {:.3f}'.format(predicted.eq(val_y).sum().numpy() / len(predicted)))\n"
   ]
  },
  {
   "cell_type": "markdown",
   "metadata": {},
   "source": [
    "## Iris（多値分類）"
   ]
  },
  {
   "cell_type": "code",
   "execution_count": 9,
   "metadata": {},
   "outputs": [],
   "source": [
    "#データ準備\n",
    "\n",
    "# データセットの読み込み\n",
    "dataset_path =(\"/Users/nobu/Documents/データセット/datasets_19_420_Iris.csv\")\n",
    "df = pd.read_csv(dataset_path)\n",
    "\n",
    "#特徴量抽出、変換\n",
    "X = df.loc[:, [\"SepalLengthCm\", \"SepalWidthCm\", \"PetalLengthCm\", \"PetalWidthCm\"]]\n",
    "X = np.array(X)\n",
    "\n",
    "#目的変数抽出、変換\n",
    "y = df[\"Species\"]\n",
    "y = np.array(y)\n",
    "# ラベルを数値に変換\n",
    "y[y=='Iris-setosa'] = 0\n",
    "y[y=='Iris-versicolor'] = 1\n",
    "y[y=='Iris-virginica'] = 2\n",
    "\n",
    "y = y.astype(np.int)\n",
    "\n",
    "# trainとtestに分割\n",
    "X_train, X_test, y_train, y_test = train_test_split(X, y, test_size=0.2, random_state=0)\n",
    "\n",
    "# さらにtrainとvalに分割\n",
    "X_train, X_val, y_train, y_val = train_test_split(X_train, y_train, test_size=0.2, random_state=0)\n",
    "\n",
    "\n",
    "# 分割したものをpytorchで扱えるtensor型に変換\n",
    "import torch\n",
    "\n",
    "train_X = torch.Tensor(X_train)\n",
    "val_X = torch.Tensor(X_val)\n",
    "train_y = torch.LongTensor(y_train)#整数を扱う場合はlong型を使う（intじゃラベルとして扱うことがで機内）\n",
    "val_y = torch.LongTensor(y_val)"
   ]
  },
  {
   "cell_type": "code",
   "execution_count": 10,
   "metadata": {},
   "outputs": [
    {
     "name": "stdout",
     "output_type": "stream",
     "text": [
      "Net(\n",
      "  (fc1): Linear(in_features=4, out_features=100, bias=True)\n",
      "  (fc2): Linear(in_features=100, out_features=50, bias=True)\n",
      "  (fc3): Linear(in_features=50, out_features=3, bias=True)\n",
      ")\n"
     ]
    }
   ],
   "source": [
    "#ネットワーク構築\n",
    "\n",
    "import torch.nn as nn#ニューラルネットワークモジュールの基本クラス\n",
    "import torch.nn.functional as F#pytorchのNN構成に使うメソッドを呼び出す\n",
    "from torch.autograd import Variable#自動微分パッケージ\n",
    "\n",
    "torch.manual_seed(71) #seed固定、ネットワーク定義前にする必要ありそう\n",
    "\n",
    "class Net(nn.Module):\n",
    "    \n",
    "    \n",
    "    def __init__(self):\n",
    "        super(Net, self).__init__()\n",
    "        #層を定義\n",
    "        self.fc1 = nn.Linear(4, 100)#(入力、出力)\n",
    "        self.fc2 = nn.Linear(100, 50)\n",
    "        self.fc3 = nn.Linear(50, 3)#3値分類なので3\n",
    "    \n",
    "    #順伝播\n",
    "    def forward(self, x):\n",
    "        x = F.relu(self.fc1(x))#F(nn.function)から活性化関数を呼び出し、各層に適応\n",
    "        x = F.relu(self.fc2(x))\n",
    "        x = self.fc3(x)\n",
    "        out_x = F.log_softmax(x, dim=1)#順伝播で流れてきた最終層にソフトマックスを通し対数をとる\n",
    "        #dimはnumpyのaxisと一緒\n",
    "        return out_x\n",
    "\n",
    "#ネットワークのインスタンス作成\n",
    "model = Net()\n",
    "\n",
    "import torch.optim as optim#オプティマイザーを呼び出す\n",
    "#作成したNNモデルにoptimizerを追加\n",
    "optimizer = optim.SGD(model.parameters(), lr=0.02)\n",
    "\n",
    "#ネットワークがどんな層で構成されているか確認\n",
    "print(model)"
   ]
  },
  {
   "cell_type": "code",
   "execution_count": 11,
   "metadata": {},
   "outputs": [
    {
     "name": "stdout",
     "output_type": "stream",
     "text": [
      "Epoch: 1.0\tLoss: 0.962\tAccuracy: 0.406\n",
      "Epoch: 2.0\tLoss: 0.853\tAccuracy: 0.688\n",
      "Epoch: 3.0\tLoss: 0.746\tAccuracy: 0.688\n",
      "Epoch: 4.0\tLoss: 0.652\tAccuracy: 0.688\n",
      "Epoch: 5.0\tLoss: 0.578\tAccuracy: 0.698\n",
      "Epoch: 6.0\tLoss: 0.521\tAccuracy: 0.719\n",
      "Epoch: 7.0\tLoss: 0.478\tAccuracy: 0.771\n",
      "Epoch: 8.0\tLoss: 0.443\tAccuracy: 0.833\n",
      "Epoch: 9.0\tLoss: 0.413\tAccuracy: 0.875\n",
      "Epoch: 10.0\tLoss: 0.386\tAccuracy: 0.917\n"
     ]
    },
    {
     "data": {
      "image/png": "[encoded data removed]",
      "text/plain": [
       "<Figure size 432x288 with 1 Axes>"
      ]
     },
     "metadata": {
      "needs_background": "light"
     },
     "output_type": "display_data"
    },
    {
     "data": {
      "image/png": "[encoded data removed]",
      "text/plain": [
       "<Figure size 432x288 with 1 Axes>"
      ]
     },
     "metadata": {
      "needs_background": "light"
     },
     "output_type": "display_data"
    },
    {
     "name": "stdout",
     "output_type": "stream",
     "text": [
      "val_Accuracy: 0.833\n"
     ]
    }
   ],
   "source": [
    "#学習\n",
    "\n",
    "#損失,acc記録用\n",
    "train_loss = []\n",
    "train_accu = []\n",
    "\n",
    "#イテレーション数を初期化\n",
    "i = 0\n",
    "\n",
    "#学習モード\n",
    "model.train() \n",
    "for epoch in range(100):\n",
    "    #微分可能な型に変換\n",
    "    data, target = Variable(train_X), Variable(train_y)\n",
    "    #勾配初期化\n",
    "    optimizer.zero_grad() \n",
    "    #データを流す\n",
    "    output = model(data) \n",
    "    #loss計算\n",
    "    loss = F.nll_loss(output, target) \n",
    "    #バックプロパゲーション\n",
    "    loss.backward() \n",
    "    #予測結果\n",
    "    prediction = output.data.max(1)[1] \n",
    "    #正解率\n",
    "    accuracy = prediction.eq(target.data).sum().numpy() / len(train_X) \n",
    "    \n",
    "    # パラメータ更新\n",
    "    optimizer.step()   \n",
    "    \n",
    "    #10イテレーション＝１エポックとして1エポックごとにlossとaccを出力\n",
    "    i += 1\n",
    "    if i % 10 == 0:\n",
    "        print('Epoch: {}\\tLoss: {:.3f}\\tAccuracy: {:.3f}'.format(i/10, loss, accuracy))\n",
    "        #エポックごとにlossとaccを格納\n",
    "        train_loss.append(loss)\n",
    "        train_accu.append(accuracy)\n",
    "\n",
    "\n",
    "#lossの推移を描画\n",
    "plt.xlabel('epoch')\n",
    "plt.ylabel('loss')\n",
    "plt.plot(train_loss)\n",
    "plt.show()\n",
    "\n",
    "#laccの推移を描画\n",
    "plt.xlabel('epoch')\n",
    "plt.ylabel('acc')\n",
    "plt.plot(train_accu)\n",
    "plt.show()\n",
    "\n",
    "\n",
    "#学習したモデルを用いてvalデータに対して検証\n",
    "\n",
    "#推論モード\n",
    "model.eval() \n",
    "#valデータを微分可能な型に変換\n",
    "val_output = model(Variable(val_X))\n",
    "\n",
    "#予測結果\n",
    "_, predicted = torch.max(val_output.data, 1)\n",
    "\n",
    "#acc出力\n",
    "print('val_Accuracy: {:.3f}'.format(predicted.eq(val_y).sum().numpy() / len(predicted)))\n"
   ]
  },
  {
   "cell_type": "markdown",
   "metadata": {},
   "source": [
    "## House Prices"
   ]
  },
  {
   "cell_type": "code",
   "execution_count": 44,
   "metadata": {},
   "outputs": [],
   "source": [
    "# データセットの読み込み\n",
    "df = pd.read_csv(\"/Users/nobu/Documents/データセット/house-prices-advanced-regression-techniques/train.csv\")\n",
    "\n",
    "#データセット\n",
    "y = df[\"SalePrice\"]\n",
    "X = df.loc[:, [\"GrLivArea\",\"YearBuilt\"]]\n",
    "\n",
    "y = np.array(y)\n",
    "X = np.array(X)\n",
    "y = y.astype(np.int)[:, np.newaxis]\n",
    "\n",
    "#対数変換\n",
    "y = np.log(y)\n",
    "X = np.log(X)\n",
    "\n",
    "# trainとtestに分割\n",
    "X_train, X_test, y_train, y_test = train_test_split(X, y, test_size=0.2, random_state=0)\n",
    "# さらにtrainとvalに分割\n",
    "X_train, X_val, y_train, y_val = train_test_split(X_train, y_train, test_size=0.2, random_state=0)\n",
    "\n",
    "#特徴量を標準化\n",
    "from sklearn.preprocessing import StandardScaler\n",
    "std = StandardScaler()\n",
    "X_train = std.fit_transform(X_train)\n",
    "X_test = std.transform(X_test)\n",
    "X_val = std.transform(X_val)\n",
    "\n",
    "\n",
    "\n",
    "# 分割したものをpytorchで扱えるtensor型に変換\n",
    "import torch\n",
    "\n",
    "train_X = torch.Tensor(X_train)\n",
    "val_X = torch.Tensor(X_val)\n",
    "train_y = torch.Tensor(y_train)\n",
    "val_y = torch.Tensor(y_val)"
   ]
  },
  {
   "cell_type": "code",
   "execution_count": 54,
   "metadata": {},
   "outputs": [
    {
     "name": "stdout",
     "output_type": "stream",
     "text": [
      "Net(\n",
      "  (fc1): Linear(in_features=2, out_features=100, bias=True)\n",
      "  (fc2): Linear(in_features=100, out_features=50, bias=True)\n",
      "  (fc3): Linear(in_features=50, out_features=1, bias=True)\n",
      ")\n"
     ]
    }
   ],
   "source": [
    "#ネットワーク構築\n",
    "\n",
    "import torch.nn as nn#ニューラルネットワークモジュールの基本クラス\n",
    "import torch.nn.functional as F#pytorchのNN構成に使うメソッドを呼び出す\n",
    "from torch.autograd import Variable#自動微分パッケージ\n",
    "\n",
    "torch.manual_seed(71) #seed固定、ネットワーク定義前にする必要ありそう\n",
    "\n",
    "class Net(nn.Module):\n",
    "    \n",
    "    \n",
    "    def __init__(self):\n",
    "        super(Net, self).__init__()\n",
    "        #層を定義\n",
    "        self.fc1 = nn.Linear(2, 100)#(入力、出力)\n",
    "        self.fc2 = nn.Linear(100, 50)\n",
    "        self.fc3 = nn.Linear(50, 1)#回帰なので１\n",
    "    \n",
    "    #順伝播\n",
    "    def forward(self, x):\n",
    "        x = F.relu(self.fc1(x))#F(nn.function)から活性化関数を呼び出し、各層に適応\n",
    "        x = F.relu(self.fc2(x))\n",
    "        x = self.fc3(x)\n",
    "       \n",
    "        return x\n",
    "\n",
    "#ネットワークのインスタンス作成\n",
    "model = Net()\n",
    "\n",
    "import torch.optim as optim#オプティマイザーを呼び出す\n",
    "#作成したNNモデルにoptimizerを追加\n",
    "optimizer = optim.SGD(model.parameters(), lr=0.1)\n",
    "\n",
    "#ネットワークがどんな層で構成されているか確認\n",
    "print(model)"
   ]
  },
  {
   "cell_type": "code",
   "execution_count": 55,
   "metadata": {},
   "outputs": [
    {
     "name": "stdout",
     "output_type": "stream",
     "text": [
      "Epoch: 1.0\tMSE: 17.570\n",
      "Epoch: 2.0\tMSE: 0.220\n",
      "Epoch: 3.0\tMSE: 0.057\n",
      "Epoch: 4.0\tMSE: 0.051\n",
      "Epoch: 5.0\tMSE: 0.049\n",
      "Epoch: 6.0\tMSE: 0.047\n",
      "Epoch: 7.0\tMSE: 0.047\n",
      "Epoch: 8.0\tMSE: 0.046\n",
      "Epoch: 9.0\tMSE: 0.046\n",
      "Epoch: 10.0\tMSE: 0.046\n"
     ]
    },
    {
     "data": {
      "image/png": "[encoded data removed]",
      "text/plain": [
       "<Figure size 432x288 with 1 Axes>"
      ]
     },
     "metadata": {
      "needs_background": "light"
     },
     "output_type": "display_data"
    }
   ],
   "source": [
    "#学習\n",
    "\n",
    "#mse記録用\n",
    "train_mse = []\n",
    "\n",
    "#イテレーション数を初期化\n",
    "i = 0\n",
    "\n",
    "#学習モード\n",
    "model.train() \n",
    "for epoch in range(100):\n",
    "    #微分可能な型に変換\n",
    "    data, target = Variable(train_X), Variable(train_y)\n",
    "    #勾配初期化\n",
    "    optimizer.zero_grad() \n",
    "    #データを流す\n",
    "    output = model(data) \n",
    "    #mse計算\n",
    "    mse = F.mse_loss(output, target) \n",
    "    #バックプロパゲーション\n",
    "    mse.backward() \n",
    "    #予測結果\n",
    "    prediction = output\n",
    "    \n",
    "    # パラメータ更新\n",
    "    optimizer.step()   \n",
    "    \n",
    "    #10イテレーション＝１エポックとして1エポックごとにlossとaccを出力\n",
    "    i += 1\n",
    "    if i % 10 == 0:\n",
    "        print('Epoch: {}\\tMSE: {:.3f}'.format(i/10, mse))\n",
    "        #エポックごとにlossとaccを格納\n",
    "        train_mse.append(mse)\n",
    "\n",
    "\n",
    "#laccの推移を描画\n",
    "plt.xlabel('epoch')\n",
    "plt.ylabel('mse')\n",
    "plt.plot(train_mse)\n",
    "plt.show()"
   ]
  },
  {
   "cell_type": "markdown",
   "metadata": {},
   "source": [
    "## MNIST"
   ]
  },
  {
   "cell_type": "code",
   "execution_count": 72,
   "metadata": {},
   "outputs": [],
   "source": [
    "# データセットの読み込み\n",
    "from keras.datasets import mnist\n",
    "(X_train, y_train), (X_test, y_test) = mnist.load_data()\n",
    "\n",
    "#特徴量の前処理\n",
    "X_train = X_train.reshape(-1, 784)\n",
    "X_test = X_test.reshape(-1, 784)\n",
    "X_train = X_train.astype(np.float)\n",
    "X_test = X_test.astype(np.float)\n",
    "X_train /= 255\n",
    "X_test /= 255\n",
    "\n",
    "#分割\n",
    "X_train, X_val, y_train, y_val = train_test_split(X_train, y_train, test_size=0.2)\n",
    "\n",
    "# 分割したものをpytorchで扱えるtensor型に変換\n",
    "import torch\n",
    "\n",
    "train_X = torch.Tensor(X_train)\n",
    "val_X = torch.Tensor(X_val)\n",
    "train_y = torch.LongTensor(y_train)#整数を扱う場合はlong型を使う（intじゃラベルとして扱うことがで機内）\n",
    "val_y = torch.LongTensor(y_val)"
   ]
  },
  {
   "cell_type": "code",
   "execution_count": 73,
   "metadata": {},
   "outputs": [
    {
     "name": "stdout",
     "output_type": "stream",
     "text": [
      "Net(\n",
      "  (fc1): Linear(in_features=784, out_features=100, bias=True)\n",
      "  (fc2): Linear(in_features=100, out_features=50, bias=True)\n",
      "  (fc3): Linear(in_features=50, out_features=10, bias=True)\n",
      ")\n"
     ]
    }
   ],
   "source": [
    "#ネットワーク構築\n",
    "\n",
    "import torch.nn as nn#ニューラルネットワークモジュールの基本クラス\n",
    "import torch.nn.functional as F#pytorchのNN構成に使うメソッドを呼び出す\n",
    "from torch.autograd import Variable#自動微分パッケージ\n",
    "\n",
    "torch.manual_seed(71) #seed固定、ネットワーク定義前にする必要ありそう\n",
    "\n",
    "class Net(nn.Module):\n",
    "    \n",
    "    \n",
    "    def __init__(self):\n",
    "        super(Net, self).__init__()\n",
    "        #層を定義\n",
    "        self.fc1 = nn.Linear(784, 100)#(入力、出力)\n",
    "        self.fc2 = nn.Linear(100, 50)\n",
    "        self.fc3 = nn.Linear(50, 10)#10値分類なので10\n",
    "    \n",
    "    #順伝播\n",
    "    def forward(self, x):\n",
    "        x = F.relu(self.fc1(x))#F(nn.function)から活性化関数を呼び出し、各層に適応\n",
    "        x = F.relu(self.fc2(x))\n",
    "        x = self.fc3(x)\n",
    "        out_x = F.log_softmax(x, dim=1)#順伝播で流れてきた最終層にソフトマックスを通し対数をとる\n",
    "        #dimはnumpyのaxisと一緒\n",
    "        return out_x\n",
    "\n",
    "#ネットワークのインスタンス作成\n",
    "model = Net()\n",
    "\n",
    "import torch.optim as optim#オプティマイザーを呼び出す\n",
    "#作成したNNモデルにoptimizerを追加\n",
    "optimizer = optim.SGD(model.parameters(), lr=0.9)\n",
    "\n",
    "#ネットワークがどんな層で構成されているか確認\n",
    "print(model)"
   ]
  },
  {
   "cell_type": "code",
   "execution_count": 74,
   "metadata": {},
   "outputs": [
    {
     "name": "stdout",
     "output_type": "stream",
     "text": [
      "Epoch: 1.0\tLoss: 2.618\tAccuracy: 0.267\n",
      "Epoch: 2.0\tLoss: 1.735\tAccuracy: 0.425\n",
      "Epoch: 3.0\tLoss: 4.007\tAccuracy: 0.306\n",
      "Epoch: 4.0\tLoss: 1.644\tAccuracy: 0.477\n",
      "Epoch: 5.0\tLoss: 0.851\tAccuracy: 0.723\n",
      "Epoch: 6.0\tLoss: 0.673\tAccuracy: 0.784\n",
      "Epoch: 7.0\tLoss: 0.592\tAccuracy: 0.800\n",
      "Epoch: 8.0\tLoss: 0.495\tAccuracy: 0.836\n",
      "Epoch: 9.0\tLoss: 0.399\tAccuracy: 0.874\n",
      "Epoch: 10.0\tLoss: 0.321\tAccuracy: 0.901\n",
      "Epoch: 11.0\tLoss: 0.292\tAccuracy: 0.912\n",
      "Epoch: 12.0\tLoss: 0.335\tAccuracy: 0.900\n",
      "Epoch: 13.0\tLoss: 0.249\tAccuracy: 0.925\n",
      "Epoch: 14.0\tLoss: 0.259\tAccuracy: 0.921\n",
      "Epoch: 15.0\tLoss: 0.219\tAccuracy: 0.934\n",
      "Epoch: 16.0\tLoss: 0.585\tAccuracy: 0.800\n",
      "Epoch: 17.0\tLoss: 0.360\tAccuracy: 0.901\n",
      "Epoch: 18.0\tLoss: 0.611\tAccuracy: 0.773\n",
      "Epoch: 19.0\tLoss: 0.238\tAccuracy: 0.931\n",
      "Epoch: 20.0\tLoss: 0.216\tAccuracy: 0.937\n",
      "Epoch: 21.0\tLoss: 0.207\tAccuracy: 0.939\n",
      "Epoch: 22.0\tLoss: 0.409\tAccuracy: 0.872\n",
      "Epoch: 23.0\tLoss: 0.194\tAccuracy: 0.943\n",
      "Epoch: 24.0\tLoss: 0.183\tAccuracy: 0.946\n",
      "Epoch: 25.0\tLoss: 0.401\tAccuracy: 0.867\n",
      "Epoch: 26.0\tLoss: 0.174\tAccuracy: 0.950\n",
      "Epoch: 27.0\tLoss: 0.162\tAccuracy: 0.953\n",
      "Epoch: 28.0\tLoss: 0.155\tAccuracy: 0.955\n",
      "Epoch: 29.0\tLoss: 0.149\tAccuracy: 0.956\n",
      "Epoch: 30.0\tLoss: 0.144\tAccuracy: 0.958\n"
     ]
    },
    {
     "data": {
      "image/png": "[encoded data removed]",
      "text/plain": [
       "<Figure size 432x288 with 1 Axes>"
      ]
     },
     "metadata": {
      "needs_background": "light"
     },
     "output_type": "display_data"
    },
    {
     "data": {
      "image/png": "[encoded data removed]",
      "text/plain": [
       "<Figure size 432x288 with 1 Axes>"
      ]
     },
     "metadata": {
      "needs_background": "light"
     },
     "output_type": "display_data"
    },
    {
     "name": "stdout",
     "output_type": "stream",
     "text": [
      "val_Accuracy: 0.952\n",
      "CPU times: user 4min 24s, sys: 8.93 s, total: 4min 33s\n",
      "Wall time: 46.3 s\n"
     ]
    }
   ],
   "source": [
    "%%time\n",
    "#学習\n",
    "\n",
    "#損失,acc記録用\n",
    "train_loss = []\n",
    "train_accu = []\n",
    "\n",
    "#イテレーション数を初期化\n",
    "i = 0\n",
    "\n",
    "#学習モード\n",
    "model.train() \n",
    "for epoch in range(300):\n",
    "    #微分可能な型に変換\n",
    "    data, target = Variable(train_X), Variable(train_y)\n",
    "    #勾配初期化\n",
    "    optimizer.zero_grad() \n",
    "    #データを流す\n",
    "    output = model(data) \n",
    "    #loss計算\n",
    "    loss = F.nll_loss(output, target) \n",
    "    #バックプロパゲーション\n",
    "    loss.backward() \n",
    "    #予測結果\n",
    "    prediction = output.data.max(1)[1] \n",
    "    #正解率\n",
    "    accuracy = prediction.eq(target.data).sum().numpy() / len(train_X) \n",
    "    \n",
    "    # パラメータ更新\n",
    "    optimizer.step()   \n",
    "    \n",
    "    #10イテレーション＝１エポックとして1エポックごとにlossとaccを出力\n",
    "    i += 1\n",
    "    if i % 10 == 0:\n",
    "        print('Epoch: {}\\tLoss: {:.3f}\\tAccuracy: {:.3f}'.format(i/10, loss, accuracy))\n",
    "        #エポックごとにlossとaccを格納\n",
    "        train_loss.append(loss)\n",
    "        train_accu.append(accuracy)\n",
    "\n",
    "\n",
    "#lossの推移を描画\n",
    "plt.xlabel('epoch')\n",
    "plt.ylabel('loss')\n",
    "plt.plot(train_loss)\n",
    "plt.show()\n",
    "\n",
    "#laccの推移を描画\n",
    "plt.xlabel('epoch')\n",
    "plt.ylabel('acc')\n",
    "plt.plot(train_accu)\n",
    "plt.show()\n",
    "\n",
    "\n",
    "#学習したモデルを用いてvalデータに対して検証\n",
    "\n",
    "#推論モード\n",
    "model.eval() \n",
    "#valデータを微分可能な型に変換\n",
    "val_output = model(Variable(val_X))\n",
    "\n",
    "#予測結果\n",
    "_, predicted = torch.max(val_output.data, 1)\n",
    "\n",
    "#acc出力\n",
    "print('val_Accuracy: {:.3f}'.format(predicted.eq(val_y).sum().numpy() / len(predicted)))\n"
   ]
  },
  {
   "cell_type": "markdown",
   "metadata": {},
   "source": [
    "# 【問題8】（アドバンス課題）フレームワークの比較\n",
    "それぞれのフレームワークにはどのような違いがあるかをまとめてください。\n",
    "\n",
    "\n",
    "《視点例》\n",
    "\n",
    "\n",
    "計算速度\n",
    "コードの行数・可読性\n",
    "用意されている機能"
   ]
  },
  {
   "cell_type": "markdown",
   "metadata": {},
   "source": [
    "### Tensorflow・Keras・Pytorchの三つを各項目ごとに比較する\n",
    "\n",
    "優れている＞劣っている\n",
    "\n",
    "* 計算速度（MNISTを例に）\n",
    "\n",
    "Keras(2min 44s) > (TensorFlow(3min 27s) > Pytorch(4min 33s))\n",
    "\n",
    "精度が変わってしまい、学習率等を全て同じ条件で比較することができなかったためなんとも言えないが、\n",
    "上記の時間でそれぞれACC=0.96くらいまで到達した。\n",
    "\n",
    "* コードの行数\n",
    "\n",
    "Keras > Pytorch ≒ Tensorflow\n",
    "\n",
    "Kerasが最も短い、他の二つは同じくらいだと感じる（主観）\n",
    "\n",
    "* 可読性\n",
    "\n",
    "keras > Pytorch > Tensorflow\n",
    "\n",
    "Tensrflowが一番わかりにくかった（主観）\n",
    "\n",
    "* 用意されている機能\n",
    "\n",
    "不明\n",
    "\n",
    "まだどれも機能を使いこなせていない。しかし調べる限り、Pytorchは研究向けで応用が効くとこと。"
   ]
  }
 ],
 "metadata": {
  "kernelspec": {
   "display_name": "Python 3",
   "language": "python",
   "name": "python3"
  },
  "language_info": {
   "codemirror_mode": {
    "name": "ipython",
    "version": 3
   },
   "file_extension": ".py",
   "mimetype": "text/x-python",
   "name": "python",
   "nbconvert_exporter": "python",
   "pygments_lexer": "ipython3",
   "version": "3.6.10"
  }
 },
 "nbformat": 4,
 "nbformat_minor": 4
}
