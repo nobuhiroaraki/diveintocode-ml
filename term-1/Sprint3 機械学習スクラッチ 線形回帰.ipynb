{
 "cells": [
  {
   "cell_type": "markdown",
   "metadata": {},
   "source": [
    "# データセット"
   ]
  },
  {
   "cell_type": "code",
   "execution_count": 1,
   "metadata": {},
   "outputs": [],
   "source": [
    "import pandas as pd\n",
    "import numpy as np\n",
    "import matplotlib.pyplot as plt\n",
    "%matplotlib inline\n",
    "import seaborn as sns\n",
    "sns.set(palette=\"bright\")\n",
    "\n",
    "\n",
    "pd.set_option(\"display.max_rows\",500)\n",
    "pd.set_option(\"display.max_columns\",500)\n",
    "\n",
    "train = pd.read_csv(\"/Users/nobu/Documents/データセット/house-prices-advanced-regression-techniques/train.csv\")\n",
    "test = pd.read_csv(\"/Users/nobu/Documents/データセット/house-prices-advanced-regression-techniques/test.csv\")\n",
    "\n",
    "X = train.loc[:,['GrLivArea','YearBuilt']].values\n",
    "y = train[\"SalePrice\"].values\n",
    "\n",
    "#訓練用75%と検証用25%に分割\n",
    "from sklearn.model_selection import train_test_split\n",
    "X_train,X_test,y_train,y_test = train_test_split(X,y,test_size=0.25,random_state=1)\n",
    "\n",
    "\n",
    "#特徴量を計算・標準化(計算は訓練データのみ)\n",
    "from sklearn.preprocessing import StandardScaler\n",
    "std = StandardScaler()\n",
    "\n",
    "X_train_std = std.fit_transform(X_train)\n",
    "X_test_std = std.transform(X_test)"
   ]
  },
  {
   "cell_type": "markdown",
   "metadata": {},
   "source": [
    "# 作成したScratchLinearRegressionクラス"
   ]
  },
  {
   "cell_type": "code",
   "execution_count": 2,
   "metadata": {},
   "outputs": [],
   "source": [
    "class ScratchLinearRegression():\n",
    "    \"\"\"\n",
    "    線形回帰のスクラッチ実装\n",
    "\n",
    "    Parameters\n",
    "    ----------\n",
    "    num_iter : int\n",
    "      イテレーション数\n",
    "    lr : float\n",
    "      学習率\n",
    "    no_bias : bool\n",
    "      バイアス項を入れない場合はTrue\n",
    "    verbose : bool\n",
    "      学習過程を出力する場合はTrue\n",
    "\n",
    "    Attributes\n",
    "    ----------\n",
    "    self.coef_ : 次の形のndarray, shape (n_features,)\n",
    "      パラメータ\n",
    "    self.loss : 次の形のndarray, shape (self.iter,)\n",
    "      訓練データに対する損失の記録\n",
    "    self.val_loss : 次の形のndarray, shape (self.iter,)\n",
    "      検証データに対する損失の記録\n",
    "\n",
    "    \"\"\"\n",
    "    def __init__(self, num_iter, lr, no_bias, verbose):\n",
    "        # ハイパーパラメータを属性として記録\n",
    "        self.iter = num_iter\n",
    "        self.lr = lr\n",
    "        self.no_bias = no_bias\n",
    "        self.verbose = verbose\n",
    "        # 損失を記録する配列を用意\n",
    "        self.loss = np.zeros(self.iter)\n",
    "        self.val_loss = np.zeros(self.iter)\n",
    "        \n",
    "        \n",
    "    def _linear_hypothesis(self, X):\n",
    "        \"\"\"\n",
    "        線形の仮定関数を計算する（問題１）\n",
    "        Parameters\n",
    "        ----------\n",
    "        X : 次の形のndarray, shape (n_samples, n_features)\n",
    "          訓練データ\n",
    "        Returns\n",
    "        -------\n",
    "          次の形のndarray, shape (n_samples, 1)\n",
    "          線形の仮定関数による推定結果\n",
    "        \"\"\"\n",
    "        prediction_result = np.dot(X,self.coef_) \n",
    "    \n",
    "        return prediction_result\n",
    "    \n",
    "    def _gradient_descent(self, X,y):\n",
    "        \"\"\"\n",
    "        パラメータ（self.coef_）を更新する。（問題２）\n",
    "        Parameters\n",
    "        ----------\n",
    "        error = _linear_hypothesisで推定したXと、正しい値yの差\n",
    "        新しいパラメータ = 初期パラメータ - 学習率＊(error・Xの行列積) / Xのサンプル数　\n",
    "\n",
    "        Returns\n",
    "        -------\n",
    "        self.coef_(新しいパラメータ)\n",
    "        \"\"\"\n",
    "        self.coef_ = self.coef_ -  self.lr*np.dot(X.T,self._linear_hypothesis(X) - y)/X.shape[0]\n",
    "\n",
    "        return self.coef_\n",
    "\n",
    "    \n",
    "    def predict(self, X):\n",
    "        \"\"\"\n",
    "        線形回帰を使い推定する。（問題３）\n",
    "        Parameters\n",
    "        ----------\n",
    "        X : 次の形のndarray, shape (n_samples, n_features)\n",
    "            サンプル\n",
    "        Returns\n",
    "        -------\n",
    "            次の形のndarray, shape (n_samples, 1)\n",
    "            線形回帰による推定結果\n",
    "        \"\"\"      \n",
    "        prediction_result = np.dot(X,self.coef_)\n",
    "            \n",
    "        return prediction_result\n",
    "    \n",
    "    def MSE(self,y_pred, y):\n",
    "        \"\"\"\n",
    "        平均二乗誤差の計算（問題４）\n",
    "\n",
    "        Parameters\n",
    "        ----------\n",
    "        y_pred : 次の形のndarray, shape (n_samples,)\n",
    "          推定した値\n",
    "        y : 次の形のndarray, shape (n_samples,)\n",
    "          正解値\n",
    "\n",
    "        Returns\n",
    "        ----------\n",
    "        mse : numpy.float\n",
    "          平均二乗誤差\n",
    "        \"\"\"\n",
    "        mse = np.sum((y_pred - y)**2)/len(y)\n",
    "        #np.sum((推測結果 - 実際の値(y))**2)/目的変数のサンプル数(y)    \n",
    "        \n",
    "        return mse\n",
    "    \n",
    "    def _linear_true(self,y_pred, y):   \n",
    "        \"\"\"\n",
    "        目的関数の算出（問題５）\n",
    "\n",
    "        Parameters\n",
    "        ----------\n",
    "        y_pred : 次の形のndarray, shape (n_samples,)\n",
    "          推定した値\n",
    "        y : 次の形のndarray, shape (n_samples,)\n",
    "          正解値\n",
    "\n",
    "        Returns\n",
    "        ----------\n",
    "        mse : numpy.float\n",
    "          最小２乗法\n",
    "        \"\"\"\n",
    "        true_result = np.sum((y_pred - y)**2)/len(y)*0.5#平均２乗誤差を1/2\n",
    "        \n",
    "        return true_result \n",
    "\n",
    "    def fit(self, X, y, X_val=None, y_val=None):\n",
    "        \"\"\"\n",
    "        線形回帰を学習する。検証データが入力された場合はそれに対する損失と精度もイテレーションごとに計算する。\n",
    "\n",
    "        Parameters\n",
    "        ----------\n",
    "        X : 次の形のndarray, shape (n_samples, n_features)\n",
    "            訓練データの特徴量\n",
    "        y : 次の形のndarray, shape (n_samples, )\n",
    "            訓練データの正解値\n",
    "        X_val : 次の形のndarray, shape (n_samples, n_features)\n",
    "            検証データの特徴量\n",
    "        y_val : 次の形のndarray, shape (n_samples, )\n",
    "            検証データの正解値\n",
    "        \"\"\"\n",
    "        # biasの有無でXとself.coef_を調整\n",
    "        \n",
    "        if self.no_bias is True:\n",
    "            X = X\n",
    "            self.coef_ = np.random.rand((X.shape[1]))\n",
    "           \n",
    "        elif self.no_bias is False:\n",
    "            bias = np.ones(len(X)).reshape(-1, 1)\n",
    "            X = np.hstack([bias, X])\n",
    "            if X_val is not None:\n",
    "                val_bias =  np.ones(len(X_val)).reshape(-1, 1)\n",
    "                X_val = np.hstack([val_bias, X_val])\n",
    "                self.coef_ = np.random.rand(X.shape[1])\n",
    "        \n",
    "        for i in range(self.iter):\n",
    "            # パラメータの更新\n",
    "            self.coef_ = self._gradient_descent(X, y)\n",
    "            # 目的関数\n",
    "            self.loss[i] = self._linear_true(self._linear_hypothesis(X), y)      \n",
    "            if X_val is not None:\n",
    "                self.val_loss[i] = self._linear_true(self._linear_hypothesis(X_val), y_val)\n",
    "\n",
    "                #verboseをTrueにした際は学習過程を出力    \n",
    "                if self.verbose:\n",
    "                    self.loss[i]\n",
    "                if X_val is not None:\n",
    "                        self.val_loss[i]"
   ]
  },
  {
   "cell_type": "markdown",
   "metadata": {},
   "source": [
    "# 【問題1】仮定関数\n",
    "====================================================================================================<br>\n",
    " 以下の数式で表される線形回帰の仮定関数を実装してください。メソッドの雛形を用意してあります。\n",
    "\n",
    "## $$\n",
    "h_\\theta(x) =  \\theta_0 x_0 + \\theta_1 x_1 + ... + \\theta_j x_j + ... +\\theta_n x_n.   (x_0 = 1)\\\\\n",
    "$$\n",
    "\n",
    "x: 特徴量ベクトル<br>\n",
    "θ: パラメータベクトル<br>\n",
    "n: 特徴量の数<br>\n",
    "xj: j番目の特徴量<br>\n",
    "θj: j番目のパラメータ（重み）<br>\n",
    "\n",
    "特徴量の数nは任意の値に対応できる実装にしてください。なお、ベクトル形式で表すと以下のようになります。\n",
    "## $$\n",
    "h_\\theta(x) = \\theta^T \\cdot x.\n",
    "$$\n",
    "====================================================================================================<br>"
   ]
  },
  {
   "cell_type": "code",
   "execution_count": 3,
   "metadata": {},
   "outputs": [],
   "source": [
    "def _linear_hypothesis(self, X):\n",
    "    \"\"\"\n",
    "    線形の仮定関数を計算する（問題１）\n",
    "    Parameters\n",
    "    ----------\n",
    "    X : 次の形のndarray, shape (n_samples, n_features)\n",
    "      訓練データ\n",
    "    Returns\n",
    "    -------\n",
    "      次の形のndarray, shape (n_samples, 1)\n",
    "      線形の仮定関数による推定結果\n",
    "    \"\"\"\n",
    "    prediction_result = np.dot(X,self.coef_) \n",
    "\n",
    "    return prediction_result"
   ]
  },
  {
   "cell_type": "markdown",
   "metadata": {},
   "source": [
    "# 【問題2】最急降下法\n",
    "====================================================================================================<br>\n",
    "#### 最急降下法により学習させる実装を行なってください。\n",
    "#### 以下の式で表されるパラメータの更新式のメソッド_gradient_descentを追加し、fitメソッドから呼び出すようにしてください。\n",
    "## $$\n",
    "\\theta_j := \\theta_j - \\alpha \\frac{1}{m} \\sum_{i=1}^{m}[(h_\\theta(x^{(i)}) - y^{(i)} )x_{j}^{(i)}]\n",
    "$$\n",
    "\n",
    "α : 学習率<br>\n",
    "i : サンプルのインデックス<br>\n",
    "j : 特徴量のインデックス<br>\n",
    "====================================================================================================<br>"
   ]
  },
  {
   "cell_type": "code",
   "execution_count": 4,
   "metadata": {},
   "outputs": [],
   "source": [
    "def _gradient_descent(self, X,y):\n",
    "    \"\"\"\n",
    "    パラメータ（self.coef_）を更新する。（問題２）\n",
    "    Parameters\n",
    "    ----------\n",
    "    error = _linear_hypothesisで推定したXと、正しい値yの差\n",
    "    新しいパラメータ = 初期パラメータ - 学習率＊(error・Xの行列積) / Xのサンプル数　\n",
    "\n",
    "    Returns\n",
    "    -------\n",
    "    self.coef_(新しいパラメータ)\n",
    "    \"\"\"\n",
    "    error = self._linear_hypothesis(X) - y\n",
    "    self.coef_ = self.coef_ -  self.lr*np.dot(X.T,self._linear_hypothesis(X) - y)/X.shape[0]\n",
    "\n",
    "    return self.coef_\n"
   ]
  },
  {
   "cell_type": "markdown",
   "metadata": {},
   "source": [
    "# 【問題3】推定\n",
    "====================================================================================================<br>\n",
    "推定する仕組みを実装してください。ScratchLinearRegressionクラスの雛形に含まれるpredictメソッドに書き加えてください。<br>\n",
    "仮定関数 hθ(x)の出力が推定結果です。<br>\n",
    "====================================================================================================<br>"
   ]
  },
  {
   "cell_type": "code",
   "execution_count": 5,
   "metadata": {},
   "outputs": [],
   "source": [
    "def predict(self, X):\n",
    "    \"\"\"\n",
    "    線形回帰を使い推定する。（問題３）\n",
    "    Parameters\n",
    "    ----------\n",
    "    X : 次の形のndarray, shape (n_samples, n_features)\n",
    "        サンプル\n",
    "    Returns\n",
    "    -------\n",
    "        次の形のndarray, shape (n_samples, 1)\n",
    "        線形回帰による推定結果\n",
    "    \"\"\"      \n",
    "    prediction_result = np.dot(X,self.coef_)\n",
    "\n",
    "    return prediction_result"
   ]
  },
  {
   "cell_type": "markdown",
   "metadata": {},
   "source": [
    "# 【問題4】平均二乗誤差\n",
    "====================================================================================================<br>\n",
    "線形回帰の指標値として用いられる平均二乗誤差（mean square error, MSE）の関数を作成してください。<br>\n",
    "平均二乗誤差関数は回帰問題全般で使える関数のため、ScratchLinearRegressionクラスのメソッドではなく、別の関数として作成してください。<br>\n",
    "雛形を用意してあります。平均二乗誤差は以下の数式で表されます。<br>\n",
    "## $$\n",
    "L(\\theta)=  \\frac{1 }{ m}  \\sum_{i=1}^{m} (h_\\theta(x^{(i)})-y^{(i)})^2.\n",
    "$$\n",
    "m : 入力されるデータの数<br>\n",
    "hθ(): 仮定関数<br>\n",
    "x(i): i番目のサンプルの特徴量ベクトル<br>\n",
    "y(i): i番目のサンプルの正解値<br>\n",
    "\n",
    "なお、最急降下法のための目的関数（損失関数）としては、これを2で割ったものを使用します。（問題5, 9）<br>\n",
    "====================================================================================================<br>"
   ]
  },
  {
   "cell_type": "code",
   "execution_count": 6,
   "metadata": {},
   "outputs": [],
   "source": [
    "def MSE(y_pred, y):\n",
    "    \"\"\"\n",
    "    平均二乗誤差の計算（問題４）\n",
    "\n",
    "    Parameters\n",
    "    ----------\n",
    "    y_pred : 次の形のndarray, shape (n_samples,)　　　#predictで求めた数\n",
    "      推定した値\n",
    "    y : 次の形のndarray, shape (n_samples,)\n",
    "      正解値\n",
    "    Returns\n",
    "    ----------\n",
    "    mse : numpy.float\n",
    "      平均二乗誤差\n",
    "    \"\"\"\n",
    "    mse = np.sum((y_pred - y)**2)/len(y)\n",
    "    #np.sum((推測結果 - 実際の値(y))**2)/目的変数のサンプル数(y)    \n",
    "\n",
    "    return mse"
   ]
  },
  {
   "cell_type": "markdown",
   "metadata": {},
   "source": [
    "# 【問題5】目的関数\n",
    "====================================================================================================<br>\n",
    "以下の数式で表される線形回帰の 目的関数（損失関数） を実装してください。そして、これをself.loss, self.val_lossに記録するようにしてください。<br>\n",
    "目的関数（損失関数） J(θ)は次の式です。<br>\n",
    "\n",
    "## $$\n",
    "J(\\theta)=  \\frac{1 }{ 2m}  \\sum_{i=1}^{m} (h_\\theta(x^{(i)})-y^{(i)})^2.\n",
    "$$<br>\n",
    "\n",
    "m: 入力されるデータの数<br>\n",
    "hθ(): 仮定関数<br>\n",
    "x(i) : i番目のサンプルの特徴量ベクトル<br>\n",
    "y(i): i番目のサンプルの正解値<br>\n",
    "====================================================================================================<br>"
   ]
  },
  {
   "cell_type": "code",
   "execution_count": 7,
   "metadata": {},
   "outputs": [],
   "source": [
    "def _linear_true(self,y_pred, y):   \n",
    "    \"\"\"\n",
    "    目的関数の算出（問題５）\n",
    "\n",
    "    Parameters\n",
    "    ----------\n",
    "    y_pred : 次の形のndarray, shape (n_samples,)\n",
    "      推定した値\n",
    "    y : 次の形のndarray, shape (n_samples,)\n",
    "      正解値\n",
    "\n",
    "    Returns\n",
    "    ----------\n",
    "    mse : numpy.float\n",
    "      最小２乗法\n",
    "    \"\"\"\n",
    "    true_result = np.sum((y_pred - y)**2)/len(y)*0.5#平均２乗誤差を1/2\n",
    "\n",
    "    return true_result "
   ]
  },
  {
   "cell_type": "markdown",
   "metadata": {},
   "source": [
    "# 【問題6】学習と推定\n",
    "====================================================================================================<br>\n",
    "機械学習スクラッチ入門のSprintで用意したHouse Pricesコンペティションのデータに対してスクラッチ実装の学習と推定を行なってください。\n",
    "\n",
    "\n",
    "scikit-learnによる実装と比べ、正しく動いているかを確認してください。\n",
    "====================================================================================================<br>"
   ]
  },
  {
   "cell_type": "code",
   "execution_count": 8,
   "metadata": {},
   "outputs": [
    {
     "name": "stdout",
     "output_type": "stream",
     "text": [
      "(365,)\n",
      "1.8535254917820876e+16\n"
     ]
    }
   ],
   "source": [
    "#スクラッチ版\n",
    "SLR = ScratchLinearRegression(num_iter=1000, lr=0.01, no_bias=True, verbose=False)\n",
    "SLR.fit(X_train_std,y_train,X_test_std,y_test)\n",
    "SLR_pred = SLR.predict(X_test)\n",
    "\n",
    "print(SLR_pred.shape)\n",
    "print(SLR.MSE(SLR_pred,y_test))"
   ]
  },
  {
   "cell_type": "code",
   "execution_count": 9,
   "metadata": {
    "scrolled": true
   },
   "outputs": [
    {
     "name": "stdout",
     "output_type": "stream",
     "text": [
      "(365,)\n",
      "1886785549.9599533\n"
     ]
    }
   ],
   "source": [
    "#sklearn版\n",
    "from sklearn.linear_model import LinearRegression\n",
    "from sklearn.metrics import mean_squared_error\n",
    "\n",
    "LR = LinearRegression()\n",
    "LR.fit(X_train_std,y_train)\n",
    "LR_pred = LR.predict(X_test_std)\n",
    "\n",
    "print(LR_pred.shape)\n",
    "print(mean_squared_error(LR_pred,y_test))"
   ]
  },
  {
   "cell_type": "markdown",
   "metadata": {},
   "source": [
    "# 【問題7】学習曲線のプロット\n",
    "====================================================================================================<br>\n",
    "学習曲線を表示する関数を作成し、実行してください。グラフを見て損失が適切に下がっているかどうか確認してください。\n",
    "\n",
    "\n",
    "線形回帰クラスの雛形ではself.loss, self.val_lossに損失を記録しておくようになっているため、入力にはこれを利用してください。\n",
    "====================================================================================================<br>"
   ]
  },
  {
   "cell_type": "code",
   "execution_count": 10,
   "metadata": {},
   "outputs": [
    {
     "data": {
      "text/plain": [
       "<matplotlib.legend.Legend at 0x12cdb94e0>"
      ]
     },
     "execution_count": 10,
     "metadata": {},
     "output_type": "execute_result"
    },
    {
     "data": {
      "image/png": "[encoded data removed]",
      "text/plain": [
       "<Figure size 432x288 with 1 Axes>"
      ]
     },
     "metadata": {},
     "output_type": "display_data"
    }
   ],
   "source": [
    "plt.xlabel(\"iter\")\n",
    "plt.ylabel(\"loss\")\n",
    "plt.plot(SLR.loss, label=(\"train_loss\"))\n",
    "plt.plot(SLR.val_loss, label=(\"test_loss\"))\n",
    "plt.legend()\n"
   ]
  },
  {
   "cell_type": "markdown",
   "metadata": {},
   "source": [
    "# 【問題8】（アドバンス課題）バイアス項の削除\n",
    "====================================================================================================<br>\n",
    " バイアス項\n",
    " $\n",
    " \\theta_0\n",
    " $\n",
    " を削除すると学習がどう変化するか検証してください。<br>また、線形回帰モデルにおけるバイアス項の役割の考察・調査を行ってください。\n",
    "====================================================================================================<br>"
   ]
  },
  {
   "cell_type": "code",
   "execution_count": 11,
   "metadata": {},
   "outputs": [
    {
     "data": {
      "text/plain": [
       "<matplotlib.legend.Legend at 0x12ce3de10>"
      ]
     },
     "execution_count": 11,
     "metadata": {},
     "output_type": "execute_result"
    },
    {
     "data": {
      "image/png": "[encoded data removed]",
      "text/plain": [
       "<Figure size 432x288 with 1 Axes>"
      ]
     },
     "metadata": {},
     "output_type": "display_data"
    }
   ],
   "source": [
    "SLR = ScratchLinearRegression(num_iter=1000, lr=0.01, no_bias=False, verbose=False)\n",
    "\n",
    "SLR.fit(X_train_std,y_train,X_test_std,y_test)\n",
    "\n",
    "plt.xlabel(\"iter\")\n",
    "plt.ylabel(\"loss\")\n",
    "plt.plot(SLR.loss, label=(\"train_loss\"))\n",
    "plt.plot(SLR.val_loss, label=(\"test_loss\"))\n",
    "plt.legend()\n"
   ]
  },
  {
   "cell_type": "markdown",
   "metadata": {},
   "source": [
    "➡︎\n",
    "バイアス項を入れたらtrainとtestの損失が一致した。"
   ]
  },
  {
   "cell_type": "markdown",
   "metadata": {},
   "source": [
    "# 【問題9】（アドバンス課題）特徴量の多次元化\n",
    "====================================================================================================<br>\n",
    "特徴量の二乗や三乗を入力に利用すると学習結果がどう変化するか検証してください。\n",
    "====================================================================================================<br>"
   ]
  },
  {
   "cell_type": "code",
   "execution_count": 12,
   "metadata": {
    "scrolled": true
   },
   "outputs": [
    {
     "name": "stdout",
     "output_type": "stream",
     "text": [
      "(365,)\n",
      "8.921794799474662e+20\n"
     ]
    },
    {
     "data": {
      "image/png": "[encoded data removed]",
      "text/plain": [
       "<Figure size 432x288 with 1 Axes>"
      ]
     },
     "metadata": {},
     "output_type": "display_data"
    }
   ],
   "source": [
    "X_train_2 = X_train_std**2\n",
    "X_test_2 = X_test_std**2\n",
    "y_train_2 = y_train**2\n",
    "y_test_2 = y_test**2\n",
    "\n",
    "#スクラッチ版\n",
    "SLR = ScratchLinearRegression(num_iter=1000, lr=0.01, no_bias=True, verbose=False)\n",
    "SLR.fit(X_train_2,y_train_2,X_test_2,y_test_2)\n",
    "SLR_pred = SLR.predict(X_test_2)\n",
    "\n",
    "print(SLR_pred.shape)\n",
    "print(SLR.MSE(SLR_pred,y_test))\n",
    "\n",
    "plt.xlabel(\"iter\")\n",
    "plt.ylabel(\"loss\")\n",
    "plt.plot(SLR.loss, label=(\"train_loss\"))\n",
    "plt.plot(SLR.val_loss, label=(\"test_loss\"))\n",
    "plt.legend();"
   ]
  },
  {
   "cell_type": "code",
   "execution_count": 13,
   "metadata": {},
   "outputs": [
    {
     "name": "stdout",
     "output_type": "stream",
     "text": [
      "(365,)\n",
      "inf\n"
     ]
    },
    {
     "name": "stderr",
     "output_type": "stream",
     "text": [
      "/Users/nobu/.pyenv/versions/anaconda3-5.1.0/lib/python3.6/site-packages/ipykernel_launcher.py:123: RuntimeWarning: overflow encountered in square\n",
      "/Users/nobu/.pyenv/versions/anaconda3-5.1.0/lib/python3.6/site-packages/numpy/core/fromnumeric.py:90: RuntimeWarning: overflow encountered in reduce\n",
      "  return ufunc.reduce(obj, axis, dtype, out, **passkwargs)\n",
      "/Users/nobu/.pyenv/versions/anaconda3-5.1.0/lib/python3.6/site-packages/ipykernel_launcher.py:102: RuntimeWarning: overflow encountered in square\n"
     ]
    },
    {
     "data": {
      "text/plain": [
       "<matplotlib.legend.Legend at 0x12d1be1d0>"
      ]
     },
     "execution_count": 13,
     "metadata": {},
     "output_type": "execute_result"
    },
    {
     "data": {
      "image/png": "[encoded data removed]",
      "text/plain": [
       "<Figure size 432x288 with 1 Axes>"
      ]
     },
     "metadata": {},
     "output_type": "display_data"
    }
   ],
   "source": [
    "X_train_3 = X_train_std**3\n",
    "X_test_3 = X_test_std**3\n",
    "y_train_3 = y_train**3\n",
    "y_test_3 = y_test**3\n",
    "\n",
    "#スクラッチ版\n",
    "SLR = ScratchLinearRegression(num_iter=1000, lr=0.01, no_bias=True, verbose=False)\n",
    "SLR.fit(X_train_3,y_train_3,X_test_3,y_test_3)\n",
    "SLR_pred = SLR.predict(X_test_3)\n",
    "\n",
    "print(SLR_pred.shape)\n",
    "print(SLR.MSE(SLR_pred,y_test))\n",
    "\n",
    "plt.xlabel(\"iter\")\n",
    "plt.ylabel(\"loss\")\n",
    "plt.plot(SLR.loss, label=(\"train_loss\"))\n",
    "plt.plot(SLR.val_loss, label=(\"test_loss\"))\n",
    "plt.legend()"
   ]
  },
  {
   "cell_type": "markdown",
   "metadata": {},
   "source": [
    "➡︎\n",
    "３乗からは学習率や繰り返し回数を変えなければMSEが算出できなくなった。"
   ]
  },
  {
   "cell_type": "code",
   "execution_count": null,
   "metadata": {},
   "outputs": [],
   "source": []
  }
 ],
 "metadata": {
  "kernelspec": {
   "display_name": "Python 3",
   "language": "python",
   "name": "python3"
  },
  "language_info": {
   "codemirror_mode": {
    "name": "ipython",
    "version": 3
   },
   "file_extension": ".py",
   "mimetype": "text/x-python",
   "name": "python",
   "nbconvert_exporter": "python",
   "pygments_lexer": "ipython3",
   "version": "3.6.10"
  }
 },
 "nbformat": 4,
 "nbformat_minor": 4
}
