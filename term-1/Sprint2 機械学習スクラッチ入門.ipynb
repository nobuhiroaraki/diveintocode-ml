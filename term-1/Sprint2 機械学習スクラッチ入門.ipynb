{
 "cells": [
  {
   "cell_type": "markdown",
   "metadata": {},
   "source": [
    "# 【問題1】train_test_splitのスクラッチ"
   ]
  },
  {
   "cell_type": "code",
   "execution_count": 1,
   "metadata": {},
   "outputs": [],
   "source": [
    "import random\n",
    "import math\n",
    "import numpy as np"
   ]
  },
  {
   "cell_type": "code",
   "execution_count": 2,
   "metadata": {},
   "outputs": [],
   "source": [
    "#作成した関数\n",
    "def scratch_train_test_split(X, y, train_size=0.8, random_state=None, shuffle=True, stratify=None):\n",
    "\n",
    "    #seedを固定\n",
    "    np.random.seed(random_state)\n",
    "    random.seed(random_state)\n",
    "    \n",
    "    #shuffleがTrueのときは各要素をシャッフル\n",
    "    if shuffle is True:\n",
    "        np.random.shuffle(X) \n",
    "        \n",
    "        np.random.seed(random_state)   \n",
    "        np.random.shuffle(y)\n",
    "    else:\n",
    "        pass\n",
    "    \n",
    "    np.random.seed(random_state)\n",
    "    #指定されたデータ要素数を均等に\n",
    "    if stratify is None:\n",
    "        X_train = random.choices(X,k=math.ceil(len(X)*(train_size)))\n",
    "        X_test = random.choices(X,k=math.ceil(len(X)*(1-train_size)))\n",
    "        y_train =  random.choices(y,k=math.ceil(len(y)*(train_size)))\n",
    "        y_test = random.choices(y,k=math.ceil(len(y)*(1-train_size)))\n",
    "    \n",
    "    elif stratify is X:\n",
    "        w = np.ones(len(X)).tolist()\n",
    "        X_train = random.choices(X,k=math.ceil(len(X)*(train_size)),weights=w) \n",
    "        X_test = random.choices(X,k=math.ceil(len(X)*(1-train_size)),weights=w)\n",
    "        y_train =  random.choices(y,k=math.ceil(len(y)*(train_size)))\n",
    "        y_test = random.choices(y,k=math.ceil(len(y)*(1-train_size)))\n",
    "        \n",
    "    elif stratify is y:\n",
    "        w = np.ones(len(y)).tolist()\n",
    "        X_train = random.choices(X,k=math.ceil(len(X)*(train_size)))\n",
    "        X_test = random.choices(X,k=math.ceil(len(X)*(1-train_size)))\n",
    "        y_train =  random.choices(y,k=math.ceil(len(y)*(train_size)),weights=w)\n",
    "        y_test = random.choices(y,k=math.ceil(len(y)*(1-train_size)),weights=w)\n",
    "    \n",
    "    #random_choiceはリストで返すため、再度ndarray化\n",
    "    X_train = np.array(X_train)\n",
    "    X_test = np.array(X_test)\n",
    "    y_train = np.array(y_train)\n",
    "    y_test = np.array(y_test)\n",
    "    \n",
    "    return X_train, X_test, y_train, y_test"
   ]
  },
  {
   "cell_type": "code",
   "execution_count": 3,
   "metadata": {},
   "outputs": [
    {
     "name": "stdout",
     "output_type": "stream",
     "text": [
      "dataset:150\n",
      "X_train:120\n",
      "y_test:30\n",
      "<class 'numpy.ndarray'>\n",
      "[2 0 0 1 1 0 1 0 0 0 2 2 0 1 0 2 2 0 1 2 1 0 2 2 0 0 0 1 0 2 1 0 0 0 2 1 1\n",
      " 0 0 2 0 1 0 1 1 1 0 2 2 1 1 1 2 2 2 1 2 1 0 0 0 2 0 0 2 2 1 2 2 0 1 2 0 1\n",
      " 1 0 1 2 2 0 0 2 1 0 2 1 2 1 1 1 0 0 0 1 0 2 2 1 0 0 2 1 2 0 2 2 2 0 0 2 0\n",
      " 2 1 2 1 0 2 1 2 0]\n"
     ]
    },
    {
     "data": {
      "text/plain": [
       "(array([0, 1, 2]), array([45, 35, 40]))"
      ]
     },
     "execution_count": 3,
     "metadata": {},
     "output_type": "execute_result"
    }
   ],
   "source": [
    "import numpy as np\n",
    "#アイリスデータを使ってテストする\n",
    "from sklearn.datasets import load_iris\n",
    "dataset = load_iris()\n",
    "X = dataset.data\n",
    "y = dataset.target\n",
    "\n",
    "#作成した関数実行\n",
    "X_train,X_test,y_train,y_test = scratch_train_test_split(X,y,random_state=42,stratify=y)\n",
    "\n",
    "#結果\n",
    "print(\"dataset:{}\".format(len(X)))\n",
    "print('X_train:{}'.format(len(X_train)))\n",
    "print('y_test:{}'.format(len(y_test)))\n",
    "print(type(y_train))\n",
    "\n",
    "print(y_train)\n",
    "np.unique(y_train,return_counts=True)"
   ]
  },
  {
   "cell_type": "markdown",
   "metadata": {},
   "source": [
    "# 【問題2】 分類問題を解くコードの作成\n",
    "## ①irisデータセット"
   ]
  },
  {
   "cell_type": "code",
   "execution_count": 5,
   "metadata": {},
   "outputs": [
    {
     "name": "stdout",
     "output_type": "stream",
     "text": [
      "正解率は0.60\n",
      "[2 2 2 2 2 2 2 2 2 2 2 2 2 2 2 2 2 2 2 2]\n",
      "正解率は0.55\n",
      "[2 1 1 1 1 1 1 1 2 1 1 1 1 1 1 1 1 2 1 1]\n",
      "正解率は0.60\n",
      "[2 1 1 2 1 2 1 1 2 2 1 1 1 1 1 2 2 2 1 1]\n"
     ]
    }
   ],
   "source": [
    "#データセット\n",
    "from sklearn.datasets import load_iris\n",
    "dataset = load_iris()\n",
    "import pandas as pd\n",
    "x_df = pd.DataFrame(dataset.data,columns = [\"sepal_length\",\"sepal_width\",\"petal_length\",\"petal_width\"])\n",
    "y_df = pd.DataFrame(dataset.target,columns=[\"species\"])\n",
    "df = pd.concat([x_df,y_df],axis=1)\n",
    "df = df[df[\"species\"].isin([1,2])].reset_index(drop=True)\n",
    "\n",
    "#特徴量と目的変数を分ける\n",
    "X = df.iloc[:,0:4].values\n",
    "y = df[\"species\"].values\n",
    "\n",
    "#訓練・検証データに分割\n",
    "X_train,X_test,y_train,y_test = scratch_train_test_split(X,y,random_state=0,stratify=y)\n",
    "\n",
    "\n",
    "\n",
    "#インスタンス作成\n",
    "from sklearn import linear_model\n",
    "SDG = linear_model.SGDClassifier(loss=\"log\")\n",
    "from sklearn.svm import SVC\n",
    "SVC = SVC(kernel='linear')\n",
    "from sklearn import tree\n",
    "DTC = tree.DecisionTreeClassifier()\n",
    "\n",
    "#インスタンスをリストに格納\n",
    "way_lst = [SDG,SVC,DTC]\n",
    "\n",
    "#ロジスティック・SVM・決定木の正解率（accurary_score）を算出\n",
    "from sklearn.metrics import accuracy_score\n",
    "for way in way_lst:\n",
    "    way.fit(X_train, y_train)#学習\n",
    "    way_pred = way.predict(X_test) #推定 \n",
    "    print(\"正解率は{:.2f}\".format(accuracy_score(y_test,way_pred)))#評価\n",
    "    print(way_pred)"
   ]
  },
  {
   "cell_type": "markdown",
   "metadata": {},
   "source": [
    "## ②シンプルデータセット１"
   ]
  },
  {
   "cell_type": "code",
   "execution_count": 7,
   "metadata": {},
   "outputs": [
    {
     "name": "stdout",
     "output_type": "stream",
     "text": [
      "正解率は0.52\n",
      "[ 1 -1 -1  1 -1  1 -1 -1 -1 -1  1  1 -1 -1  1 -1 -1 -1 -1 -1 -1 -1 -1 -1\n",
      " -1 -1 -1  1 -1 -1 -1 -1 -1  1 -1 -1 -1 -1 -1  1 -1 -1  1 -1 -1 -1 -1 -1\n",
      " -1 -1  1 -1  1 -1 -1 -1  1 -1 -1  1 -1 -1 -1 -1 -1  1 -1  1 -1 -1 -1 -1\n",
      "  1 -1 -1 -1 -1 -1 -1 -1 -1 -1 -1  1  1  1 -1  1  1  1 -1 -1 -1 -1  1  1\n",
      " -1 -1 -1 -1]\n",
      "正解率は0.50\n",
      "[-1  1 -1 -1 -1 -1  1 -1 -1  1 -1 -1  1 -1 -1  1  1  1  1 -1  1  1 -1 -1\n",
      " -1 -1  1 -1 -1  1 -1 -1  1 -1  1 -1 -1 -1 -1 -1  1 -1 -1  1 -1 -1  1  1\n",
      " -1  1 -1 -1 -1 -1 -1  1 -1  1  1 -1  1 -1 -1 -1  1 -1  1 -1 -1  1 -1  1\n",
      " -1  1 -1  1 -1 -1 -1  1  1  1 -1 -1 -1 -1 -1  1  1 -1  1 -1  1  1 -1 -1\n",
      "  1  1 -1 -1]\n",
      "正解率は0.51\n",
      "[ 1 -1  1  1 -1 -1 -1  1 -1  1 -1 -1  1  1 -1  1  1  1  1 -1 -1  1  1  1\n",
      " -1  1  1 -1  1  1  1 -1 -1  1 -1  1 -1 -1 -1 -1 -1 -1 -1 -1 -1 -1 -1 -1\n",
      " -1 -1 -1 -1  1 -1 -1 -1 -1  1  1  1  1 -1 -1 -1 -1  1  1 -1 -1 -1  1 -1\n",
      "  1  1 -1  1  1 -1  1 -1 -1  1  1  1 -1 -1 -1 -1 -1 -1 -1 -1 -1 -1 -1 -1\n",
      "  1  1  1 -1]\n"
     ]
    }
   ],
   "source": [
    "#データセット\n",
    "import numpy as np\n",
    "np.random.seed(seed=0)\n",
    "n_samples = 500\n",
    "f0 = [-1, 2]\n",
    "f1 = [2, -1]\n",
    "cov = [[1.0,0.8], [0.8, 1.0]]\n",
    "f0 = np.random.multivariate_normal(f0, cov, int(n_samples/2))\n",
    "f1 = np.random.multivariate_normal(f1, cov, int(n_samples/2))\n",
    "X = np.concatenate((f0, f1))\n",
    "y = np.concatenate((np.ones((int(n_samples/2))), np.ones((int(n_samples/2))) *(-1))).astype(np.int)\n",
    "random_index = np.random.permutation(np.arange(n_samples))\n",
    "X = X[random_index]\n",
    "y = y[random_index]\n",
    "\n",
    "#訓練・検証データに分割\n",
    "X_train,X_test,y_train,y_test = scratch_train_test_split(X,y,random_state=0,stratify=y)\n",
    "\n",
    "#インスタンス化\n",
    "from sklearn import linear_model\n",
    "SDG = linear_model.SGDClassifier(loss=\"log\")\n",
    "from sklearn.svm import SVC\n",
    "SVC = SVC(kernel='linear')\n",
    "from sklearn import tree\n",
    "DTC = tree.DecisionTreeClassifier()\n",
    "\n",
    "way_lst = [SDG,SVC,DTC]\n",
    "\n",
    "#ロジスティック・SVM・決定木の正解率（accurary_score）を算出\n",
    "from sklearn.metrics import accuracy_score\n",
    "\n",
    "for way in way_lst:\n",
    "    way.fit(X_train, y_train)#学習\n",
    "    way_pred = way.predict(X_test) #推定 \n",
    "    print(\"正解率は{:.2f}\".format(accuracy_score(y_test,way_pred)))#評価\n",
    "    print(way_pred)"
   ]
  },
  {
   "cell_type": "markdown",
   "metadata": {},
   "source": [
    "## ③シンプルデータセット２"
   ]
  },
  {
   "cell_type": "code",
   "execution_count": 12,
   "metadata": {},
   "outputs": [
    {
     "name": "stdout",
     "output_type": "stream",
     "text": [
      "＝＝＝＝正解ラベル＝＝＝＝\n",
      "[1 1 0 0 1 0 0 1]\n",
      "正解率は0.62\n",
      "[1 0 1 0 1 0 0 0]\n",
      "正解率は0.50\n",
      "[0 0 0 0 0 0 0 0]\n",
      "正解率は0.88\n",
      "[1 1 0 0 1 0 1 1]\n"
     ]
    }
   ],
   "source": [
    "#データセット\n",
    "X = np.array([[-0.44699 , -2.8073  ],[-1.4621  , -2.4586  ],\n",
    "       [ 0.10645 ,  1.9242  ],[-3.5944  , -4.0112  ],\n",
    "       [-0.9888  ,  4.5718  ],[-3.1625  , -3.9606  ],\n",
    "       [ 0.56421 ,  0.72888 ],[-0.60216 ,  8.4636  ],\n",
    "       [-0.61251 , -0.75345 ],[-0.73535 , -2.2718  ],\n",
    "       [-0.80647 , -2.2135  ],[ 0.86291 ,  2.3946  ],\n",
    "       [-3.1108  ,  0.15394 ],[-2.9362  ,  2.5462  ],\n",
    "       [-0.57242 , -2.9915  ],[ 1.4771  ,  3.4896  ],\n",
    "       [ 0.58619 ,  0.37158 ],[ 0.6017  ,  4.3439  ],\n",
    "       [-2.1086  ,  8.3428  ],[-4.1013  , -4.353   ],\n",
    "       [-1.9948  , -1.3927  ],[ 0.35084 , -0.031994],\n",
    "       [ 0.96765 ,  7.8929  ],[-1.281   , 15.6824  ],\n",
    "       [ 0.96765 , 10.083   ],[ 1.3763  ,  1.3347  ],\n",
    "       [-2.234   , -2.5323  ],[-2.9452  , -1.8219  ],\n",
    "       [ 0.14654 , -0.28733 ],[ 0.5461  ,  5.8245  ],\n",
    "       [-0.65259 ,  9.3444  ],[ 0.59912 ,  5.3524  ],\n",
    "       [ 0.50214 , -0.31818 ],[-3.0603  , -3.6461  ],\n",
    "       [-6.6797  ,  0.67661 ],[-2.353   , -0.72261 ],\n",
    "       [ 1.1319  ,  2.4023  ],[-0.12243 ,  9.0162  ],\n",
    "       [-2.5677  , 13.1779  ],[ 0.057313,  5.4681  ]])\n",
    "y = np.array([0, 0, 0, 0, 0, 0, 0, 0, 0, 0, 0, 0, 0, 0, 0, 0, 0, 0, 0, 0, 1, 1,\n",
    "       1, 1, 1, 1, 1, 1, 1, 1, 1, 1, 1, 1, 1, 1, 1, 1, 1, 1])\n",
    "\n",
    "#訓練・検証データに分割\n",
    "X_train,X_test,y_train,y_test = scratch_train_test_split(X,y,random_state=0,stratify=y)\n",
    "\n",
    "#インスタンス化\n",
    "from sklearn import linear_model\n",
    "SDG = linear_model.SGDClassifier(loss=\"log\")\n",
    "from sklearn.svm import SVC\n",
    "SVC = SVC(kernel='linear')\n",
    "from sklearn import tree\n",
    "DTC = tree.DecisionTreeClassifier()\n",
    "\n",
    "way_lst = [SDG,SVC,DTC]\n",
    "print(\"＝＝＝＝正解ラベル＝＝＝＝\")\n",
    "print(y_test)\n",
    "\n",
    "#ロジスティック・SVM・決定木の正解率（accurary_score）を算出\n",
    "from sklearn.metrics import accuracy_score\n",
    "\n",
    "for way in way_lst:\n",
    "    way.fit(X_train, y_train)#学習\n",
    "    way_pred = way.predict(X_test) #推定 \n",
    "    print(\"正解率は{:.2f}\".format(accuracy_score(y_test,way_pred)))#評価\n",
    "    print(way_pred)"
   ]
  },
  {
   "cell_type": "markdown",
   "metadata": {},
   "source": [
    "# 【問題3】 回帰問題を解くコードの作成"
   ]
  },
  {
   "cell_type": "code",
   "execution_count": 7,
   "metadata": {},
   "outputs": [],
   "source": [
    "import pandas as pd\n",
    "data = pd.read_csv(\"/Users/nobu/Documents/データセット/house-prices-advanced-regression-techniques/train.csv\")\n",
    "\n",
    "X = data.loc[:,[\"GrLivArea\",\"YearBuilt\"]].values\n",
    "y = data[\"SalePrice\"].values"
   ]
  },
  {
   "cell_type": "code",
   "execution_count": 8,
   "metadata": {},
   "outputs": [
    {
     "name": "stdout",
     "output_type": "stream",
     "text": [
      "訓練データMSE：9.989688701280117e+30\n",
      "検証データMSE：1.0531913244807714e+31\n"
     ]
    }
   ],
   "source": [
    "#訓練・検証データに分割\n",
    "X_train,X_test,y_train,y_test = scratch_train_test_split(X,y,random_state=0,stratify=y)\n",
    "\n",
    "from sklearn import linear_model\n",
    "#インスタンスを作成\n",
    "clf = linear_model.SGDRegressor()\n",
    "#学習\n",
    "clf.fit(X_train, y_train)\n",
    "#推定\n",
    "clf_train_pred = clf.predict(X_train)\n",
    "#\n",
    "clf_test_pred = clf.predict(X_test)\n",
    "\n",
    "#評価\n",
    "from sklearn.metrics import mean_squared_error\n",
    "print(\"訓練データMSE：{}\".format(mean_squared_error(y_train,clf_train_pred)))\n",
    "print(\"検証データMSE：{}\".format(mean_squared_error(y_test,clf_test_pred)))\n"
   ]
  },
  {
   "cell_type": "code",
   "execution_count": null,
   "metadata": {},
   "outputs": [],
   "source": []
  },
  {
   "cell_type": "code",
   "execution_count": null,
   "metadata": {},
   "outputs": [],
   "source": []
  }
 ],
 "metadata": {
  "kernelspec": {
   "display_name": "Python 3",
   "language": "python",
   "name": "python3"
  },
  "language_info": {
   "codemirror_mode": {
    "name": "ipython",
    "version": 3
   },
   "file_extension": ".py",
   "mimetype": "text/x-python",
   "name": "python",
   "nbconvert_exporter": "python",
   "pygments_lexer": "ipython3",
   "version": "3.6.10"
  }
 },
 "nbformat": 4,
 "nbformat_minor": 4
}
