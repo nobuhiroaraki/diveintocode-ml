{
 "cells": [
  {
   "cell_type": "code",
   "execution_count": 241,
   "metadata": {},
   "outputs": [],
   "source": [
    "import numpy as np\n",
    "import pandas as pd\n",
    "import matplotlib.pyplot as plt\n",
    "%matplotlib inline\n",
    "from sklearn.model_selection import train_test_split\n",
    "from sklearn.metrics import accuracy_score\n",
    "from sklearn.metrics import precision_score\n",
    "from sklearn.metrics import recall_score\n",
    "from sklearn.metrics import f1_score\n",
    "import warnings\n",
    "warnings.filterwarnings('ignore')"
   ]
  },
  {
   "cell_type": "code",
   "execution_count": 242,
   "metadata": {},
   "outputs": [],
   "source": [
    "#データセット\n",
    "X = np.array([[-0.44699 , -2.8073  ],[-1.4621  , -2.4586  ],\n",
    "       [ 0.10645 ,  1.9242  ],[-3.5944  , -4.0112  ],\n",
    "       [-0.9888  ,  4.5718  ],[-3.1625  , -3.9606  ],\n",
    "       [ 0.56421 ,  0.72888 ],[-0.60216 ,  8.4636  ],\n",
    "       [-0.61251 , -0.75345 ],[-0.73535 , -2.2718  ],\n",
    "       [-0.80647 , -2.2135  ],[ 0.86291 ,  2.3946  ],\n",
    "       [-3.1108  ,  0.15394 ],[-2.9362  ,  2.5462  ],\n",
    "       [-0.57242 , -2.9915  ],[ 1.4771  ,  3.4896  ],\n",
    "       [ 0.58619 ,  0.37158 ],[ 0.6017  ,  4.3439  ],\n",
    "       [-2.1086  ,  8.3428  ],[-4.1013  , -4.353   ],\n",
    "       [-1.9948  , -1.3927  ],[ 0.35084 , -0.031994],\n",
    "       [ 0.96765 ,  7.8929  ],[-1.281   , 15.6824  ],\n",
    "       [ 0.96765 , 10.083   ],[ 1.3763  ,  1.3347  ],\n",
    "       [-2.234   , -2.5323  ],[-2.9452  , -1.8219  ],\n",
    "       [ 0.14654 , -0.28733 ],[ 0.5461  ,  5.8245  ],\n",
    "       [-0.65259 ,  9.3444  ],[ 0.59912 ,  5.3524  ],\n",
    "       [ 0.50214 , -0.31818 ],[-3.0603  , -3.6461  ],\n",
    "       [-6.6797  ,  0.67661 ],[-2.353   , -0.72261 ],\n",
    "       [ 1.1319  ,  2.4023  ],[-0.12243 ,  9.0162  ],\n",
    "       [-2.5677  , 13.1779  ],[ 0.057313,  5.4681  ]])\n",
    "y = np.array([0, 0, 0, 0, 0, 0, 0, 0, 0, 0, 0, 0, 0, 0, 0, 0, 0, 0, 0, 0, 1, 1,\n",
    "       1, 1, 1, 1, 1, 1, 1, 1, 1, 1, 1, 1, 1, 1, 1, 1, 1, 1])\n",
    "\n",
    "\n",
    "#訓練・検証データに分割\n",
    "X_train,X_test,y_train,y_test = train_test_split(X,y,random_state=42,stratify=y)"
   ]
  },
  {
   "cell_type": "code",
   "execution_count": 243,
   "metadata": {},
   "outputs": [],
   "source": [
    "class ScratchDecesionTreeClassifierDepth1():\n",
    "    \"\"\"\n",
    "    深さ1の決定木分類器のスクラッチ実装\n",
    "\n",
    "    Parameters\n",
    "    ----------\n",
    "    verbose : bool\n",
    "      学習過程を出力する場合はTrue\n",
    "    \"\"\"\n",
    "    def __init__(self, verbose=False):\n",
    "        # ハイパーパラメータを属性として記録\n",
    "        self.verbose = verbose\n",
    "    \n",
    "    \n",
    "    def fit(self, X, y):\n",
    "        \"\"\"\n",
    "        決定木分類器を学習する\n",
    "        Parameters\n",
    "        ----------\n",
    "        X : 次の形のndarray, shape (n_samples, n_features)\n",
    "            訓練データの特徴量\n",
    "        y : 次の形のndarray, shape (n_samples, )\n",
    "            訓練データの正解値\n",
    "        \"\"\"\n",
    "        self.max_infogain = 0\n",
    "        self.max_threshold = 0\n",
    "        self.max_index = 0\n",
    "        for feature in range(X.shape[1]):\n",
    "            for sample in range(X.shape[0]):\n",
    "\n",
    "                #Xの各sampleを閾値にする\n",
    "                threshold = X[sample][feature]\n",
    "\n",
    "                #閾値よりも大きいサンプルのインデックスを取得し、そのインデックスに対応するyを閾値との大小関係によって左右に振り分ける\n",
    "                left_y = y[X[:,feature] > threshold]#閾値を超えた時のy\n",
    "                right_y = y[X[:,feature] <= threshold] #閾値を下回った時のy\n",
    "\n",
    "                #情報利得を求める\n",
    "                infogain = SDTCD.info_gain(left_y,right_y)\n",
    "\n",
    "                #infogainが最大の時の情報利得、閾値、インデックスを取得\n",
    "                if self.max_infogain < infogain:#暫定のmax_infogainを超えた時だけ更新する\n",
    "                    self.max_infogain = infogain\n",
    "                    self.max_threshold = threshold\n",
    "                    self.max_index = sample,feature\n",
    "\n",
    "                    #verboseをTrueにした際は学習過程を出力\n",
    "                    if self.verbose is True:\n",
    "                        print(\"インデックス:{}\".format(self.max_index))\n",
    "                        print(\"情報利得:{}\".format(self.max_infogain))\n",
    "    \n",
    "    def predict(self, X):\n",
    "        \"\"\"\n",
    "        決定木分類器を使いラベルを推定する\n",
    "        \"\"\"\n",
    "        predict =  np.where(X < self.max_threshold,0,1)\n",
    "        \n",
    "        return np.squeeze(predict[:,1])\n",
    "    \n",
    "    def gini_func(self,y):\n",
    "\n",
    "        #各クラスのラベルとそれぞれのサンプル数を取得\n",
    "        labels,sample_nums = np.unique(y,return_counts=True)\n",
    "        #サンプル数の合計\n",
    "        sample_all = np.sum(sample_nums)\n",
    "\n",
    "        gini = 1-np.sum((sample_nums/sample_all)**2)\n",
    "\n",
    "        return gini\n",
    "    \n",
    "    \n",
    "    def info_gain(self,y_left,y_right):\n",
    "\n",
    "        #分割前のノードのジニ不純度\n",
    "        before_gini = self.gini_func(np.concatenate([y_left,y_right]))\n",
    "\n",
    "        #左側のノードのジニ不純度\n",
    "        left_gini = len(y_left)/(len(y_left) + len(y_right))*self.gini_func(y_left)\n",
    "\n",
    "        #右のノードのジニ不純度\n",
    "        right_gini = len(y_right)/(len(y_left) + len(y_right))*self.gini_func(y_right)\n",
    "\n",
    "        return before_gini - left_gini - right_gini"
   ]
  },
  {
   "cell_type": "code",
   "execution_count": 244,
   "metadata": {},
   "outputs": [],
   "source": [
    "SDTCD = ScratchDecesionTreeClassifierDepth1(verbose=False)"
   ]
  },
  {
   "cell_type": "markdown",
   "metadata": {},
   "source": [
    "# 【問題1】不純度を求める関数\n",
    "\n",
    "ノード の ジニ不純度 を計算する関数を作成してください。\n",
    "ノード t に対するジニ不純度 I(t)は以下の数式で求まります。\n",
    "クラスが混じり合っているほどジニ不純度は高くなります。\n",
    "\n",
    "## $$\n",
    "I(t) = 1-\\sum_{i=1}^{K}P^2(C_i|t) = 1-\\sum_{i=1}^{K}(\\frac{N_{t,i}}{N_{t,all}})^{2}\n",
    "$$\n",
    "\n",
    "t: ノードのインデックス<br>\n",
    "i: クラスのインデックス<br>\n",
    "K: クラスの数<br>\n",
    "Ci: i番目のクラス<br>\n",
    "P(Ci|t):　t番目のノードにおけるCiの割合<br>\n",
    "Nt,i: t番目のノードのi番目のクラスに属するサンプル数<br>\n",
    "Nt,all: t番目のノードのサンプルの総数<br>\n",
    "\n",
    "まずは簡単な例を作り、手計算と関数の結果を比較してください。<br>\n",
    "\n",
    "\n",
    "《例》\n",
    "\n",
    "* クラス1:サンプル数15, クラス2:サンプル数15 → ジニ不純度0.500\n",
    "* クラス1:サンプル数15, クラス2:サンプル数15, クラス3:サンプル数15 → ジニ不純度0.667\n",
    "* クラス1:サンプル数18, クラス2:サンプル数12 → ジニ不純度0.480\n",
    "* クラス1:サンプル数30, クラス2:サンプル数0 → ジニ不純度0.000\n"
   ]
  },
  {
   "cell_type": "code",
   "execution_count": 245,
   "metadata": {
    "scrolled": true
   },
   "outputs": [],
   "source": [
    "def gini_func(self,y):\n",
    "\n",
    "    #各クラスのラベルとそれぞれのサンプル数を取得\n",
    "    labels,sample_nums = np.unique(y,return_counts=True)\n",
    "    #サンプル数の合計\n",
    "    sample_all = np.sum(sample_nums)\n",
    "\n",
    "    gini = 1-np.sum((sample_nums/sample_all)**2)\n",
    "\n",
    "    return gini"
   ]
  },
  {
   "cell_type": "code",
   "execution_count": 246,
   "metadata": {},
   "outputs": [
    {
     "data": {
      "text/plain": [
       "0.6666666666666667"
      ]
     },
     "execution_count": 246,
     "metadata": {},
     "output_type": "execute_result"
    }
   ],
   "source": [
    "#デバック\n",
    "\n",
    "ex_y = np.array([\n",
    "    0,0,0,0,0,0,0,0,0,0,0,0,0,0,0,\n",
    "    1,1,1,1,1,1,1,1,1,1,1,1,1,1,1,\n",
    "    2,2,2,2,2,2,2,2,2,2,2,2,2,2,2])\n",
    "\n",
    "\n",
    "SDTCD.gini_func(ex_y)"
   ]
  },
  {
   "cell_type": "markdown",
   "metadata": {},
   "source": [
    "# 【問題2】情報利得を求める関数\n",
    "\n",
    "次に、ノード間の 情報利得 を計算する関数を作成してください。\n",
    "問題1で作成したジニ不純度 I(t)を計算する関数を呼び出して使います。\n",
    "情報利得IGは以下の数式で求まります。うまく分けられている時ほど情報利得は大きくなります。\n",
    "\n",
    "ここで分岐は2つのみであるため、分岐先を「左側のノード・右側のノード」と呼びます。\n",
    "\n",
    "## $$\n",
    "IG(p) = I(p)-\\frac{N_{left,all}}{N_{p,all}}I(left)-\\frac{N_{right,all}}{N_{p,all}}I(right)\n",
    "$$\n",
    "\n",
    "p: 親ノードを示すインデックス<br>\n",
    "left: 左側のノードを示すインデックス<br>\n",
    "right: 右側のノードを示すインデックス<br>\n",
    "\n",
    "まずは簡単な例を作り、手計算と関数の結果を比較してください。\n",
    "\n",
    "\n",
    "《例》\n",
    "\n",
    "左ノードクラス1:サンプル数10, <br>\n",
    "左ノードクラス2:サンプル数30,<br>\n",
    "右ノードクラス1:サンプル数20, <br>\n",
    "右ノードクラス2:サンプル数5 <br>\n",
    "→ 情報利得0.143"
   ]
  },
  {
   "cell_type": "code",
   "execution_count": 247,
   "metadata": {},
   "outputs": [],
   "source": [
    "def info_gain(self,y_left,y_right):\n",
    "\n",
    "    #分割前のノードのジニ不純度\n",
    "    before_gini = self.gini_func(np.concatenate([y_left,y_right]))\n",
    "\n",
    "    #左側のノードのジニ不純度\n",
    "    left_gini = len(y_left)/(len(y_left) + len(y_right))*self.gini_func(y_left)\n",
    "\n",
    "    #右のノードのジニ不純度\n",
    "    right_gini = len(y_right)/(len(y_left) + len(y_right))*self.gini_func(y_right)\n",
    "\n",
    "    return before_gini - left_gini - right_gini"
   ]
  },
  {
   "cell_type": "code",
   "execution_count": 248,
   "metadata": {},
   "outputs": [
    {
     "data": {
      "text/plain": [
       "0.14319526627218937"
      ]
     },
     "execution_count": 248,
     "metadata": {},
     "output_type": "execute_result"
    }
   ],
   "source": [
    "#デバック\n",
    "left_class1 = np.zeros(10)\n",
    "right_class1 = np.ones(30)\n",
    "ex_left = np.concatenate([left_class1,right_class1])\n",
    "\n",
    "left_class2 = np.zeros(20)\n",
    "right_class2 = np.ones(5)\n",
    "ex_right = np.concatenate([left_class2,right_class2])\n",
    "\n",
    "\n",
    "SDTCD.info_gain(ex_left,ex_right)"
   ]
  },
  {
   "cell_type": "markdown",
   "metadata": {},
   "source": [
    "# 【問題3】学習\n",
    "\n",
    "空間の分割を行い、決定木のグラフを生成するコードを作成してください。今は深さ1の決定木なので、分割を1回だけ行います。ここでグラフを生成するとは、1回の分割の際の条件としてどの特徴量がいくつ以上の時とするかを求めるということです。\n",
    "\n",
    "\n",
    "訓練データに対して全ての組み合わせの分割を行い、その中でノード間の情報利得が最大となる分割をそのノードの分割基準として記録します。\n",
    "\n",
    "\n",
    "クラスが混ざらない不純度が0のノード、または指定された深さのノードが 葉ノード となります。葉ノードにはクラスを記録しておき、これを推定時に分類するクラスとします。クラスが混ざらない場合はそのままのクラスを記録し、混ざっている場合は多数決により決めます。\n",
    "\n",
    "\n",
    "《組み合わせの取り方》\n",
    "\n",
    "\n",
    "全ての組み合わせの取り方は、最も単純には各特徴量の値自体をしきい値にして分割を行う方法があります。片側の端は今回のスクラッチはこの方法で行なってください。\n",
    "\n",
    "\n",
    "他には中間の値をしきい値にする方法もあり、scikit-learnではこの方法が用いられています。\n",
    "\n",
    "\n",
    "《補足》\n",
    "\n",
    "\n",
    "問題2の情報利得を計算する関数はこの問題3で利用する上では、親ノードの不純度 $I(p)$ は固定されるため、左右のノードの不純度の合計を計算するだけでも同じ結果が得られることになります。しかし、ここでは親ノードを考慮した情報利得を計算する実装を行なってください。\n",
    "\n"
   ]
  },
  {
   "cell_type": "code",
   "execution_count": 249,
   "metadata": {
    "scrolled": true
   },
   "outputs": [],
   "source": [
    "def fit(self, X, y):\n",
    "    \"\"\"\n",
    "    決定木分類器を学習する\n",
    "    Parameters\n",
    "    ----------\n",
    "    X : 次の形のndarray, shape (n_samples, n_features)\n",
    "        訓練データの特徴量\n",
    "    y : 次の形のndarray, shape (n_samples, )\n",
    "        訓練データの正解値\n",
    "    \"\"\"\n",
    "    self.max_infogain = 0\n",
    "    self.max_threshold = 0\n",
    "    self.max_index = 0\n",
    "    for feature in range(X.shape[1]):\n",
    "        for sample in range(X.shape[0]):\n",
    "\n",
    "            #Xの各sampleを閾値にする\n",
    "            threshold = X[sample][feature]\n",
    "\n",
    "            #閾値よりも大きいサンプルのインデックスを取得し、そのインデックスに対応するyを閾値との大小関係によって左右に振り分ける\n",
    "            left_y = y[X[:,feature] > threshold]#閾値を超えた時のy\n",
    "            right_y = y[X[:,feature] <= threshold] #閾値を下回った時のy\n",
    "\n",
    "            #情報利得を求める\n",
    "            infogain = SDTCD.info_gain(left_y,right_y)\n",
    "\n",
    "            #infogainが最大の時の情報利得、閾値、インデックスを取得\n",
    "            if self.max_infogain < infogain:#暫定のmax_infogainを超えた時だけ更新する\n",
    "                self.max_infogain = infogain\n",
    "                self.max_threshold = threshold\n",
    "                self.max_index = sample,feature\n",
    "\n",
    "                #verboseをTrueにした際は学習過程を出力\n",
    "                if self.verbose is True:\n",
    "                    print(\"インデックス:{}\".format(self.max_index))\n",
    "                    print(\"情報利得:{}\".format(self.max_infogain))"
   ]
  },
  {
   "cell_type": "code",
   "execution_count": 250,
   "metadata": {
    "scrolled": true
   },
   "outputs": [
    {
     "name": "stdout",
     "output_type": "stream",
     "text": [
      "インデックス:(0, 0)\n",
      "情報利得:0.006172839506172811\n",
      "インデックス:(6, 0)\n",
      "情報利得:0.019230769230769204\n",
      "インデックス:(28, 0)\n",
      "情報利得:0.03600000000000009\n",
      "インデックス:(1, 1)\n",
      "情報利得:0.07763975155279507\n",
      "インデックス:(18, 1)\n",
      "情報利得:0.10227272727272729\n"
     ]
    }
   ],
   "source": [
    "#デバック\n",
    "SDTCD = ScratchDecesionTreeClassifierDepth1(verbose=True)\n",
    "SDTCD.fit(X_train,y_train)"
   ]
  },
  {
   "cell_type": "markdown",
   "metadata": {},
   "source": [
    "# 【問題4】推定\n",
    "\n",
    "推定する仕組みを実装してください。ScratchDecesionTreeClassifierDepth1クラスの雛形に含まれるpredictメソッドに書き加えてください。\n",
    "\n",
    "\n",
    "入力されたデータの値を学習した条件で判定していき、どの葉ノードに到達するかを見ます。葉ノードにはクラスが記録されているので、これが推定値となります。\n",
    "\n"
   ]
  },
  {
   "cell_type": "code",
   "execution_count": 251,
   "metadata": {},
   "outputs": [],
   "source": [
    "def predict(self, X):\n",
    "    \"\"\"\n",
    "    決定木分類器を使いラベルを推定する\n",
    "    \"\"\"\n",
    "    predict =  np.where(X < self.max_threshold,0,1)\n",
    "\n",
    "    return np.squeeze(predict[:,1])"
   ]
  },
  {
   "cell_type": "markdown",
   "metadata": {},
   "source": [
    "# 【問題5】学習と推定\n",
    "機械学習スクラッチ入門のSprintで用意したシンプルデータセット2の2値分類に対してスクラッチ実装の学習と推定を行なってください。\n",
    "\n",
    "scikit-learnによる実装と比べ、正しく動いているかを確認してください。\n",
    "\n",
    "AccuracyやPrecision、Recallなどの指標値はscikit-learnを使用してください。\n"
   ]
  },
  {
   "cell_type": "code",
   "execution_count": 252,
   "metadata": {},
   "outputs": [
    {
     "name": "stdout",
     "output_type": "stream",
     "text": [
      "=========score===========\n",
      "accuracy_score:0.60\n",
      "precision_score:0.67\n",
      "recall_score:0.40\n",
      "f1_score:0.50\n"
     ]
    }
   ],
   "source": [
    "#スクラッチ\n",
    "SDTCD = ScratchDecesionTreeClassifierDepth1()\n",
    "SDTCD.fit(X_train,y_train)\n",
    "\n",
    "y_pred = SDTCD.predict(X_test)\n",
    "\n",
    "print(\"=========score===========\")\n",
    "print(\"accuracy_score:{:.2f}\".format(accuracy_score(y_test,y_pred)))\n",
    "print(\"precision_score:{:.2f}\".format(precision_score(y_test,y_pred)))\n",
    "print(\"recall_score:{:.2f}\".format(recall_score(y_test,y_pred)))\n",
    "print(\"f1_score:{:.2f}\".format(f1_score(y_test,y_pred)))\n"
   ]
  },
  {
   "cell_type": "code",
   "execution_count": 253,
   "metadata": {},
   "outputs": [
    {
     "name": "stdout",
     "output_type": "stream",
     "text": [
      "=========score===========\n",
      "accuracy_score:0.70\n",
      "precision_score:0.67\n",
      "recall_score:0.80\n",
      "f1_score:0.73\n"
     ]
    }
   ],
   "source": [
    "#sklearn\n",
    "from sklearn import tree\n",
    "DTC = tree.DecisionTreeClassifier()\n",
    "DTC.fit(X_train,y_train)\n",
    "Y_pred = DTC.predict(X_test)\n",
    "\n",
    "print(\"=========score===========\")\n",
    "print(\"accuracy_score:{:.2f}\".format(accuracy_score(y_test,Y_pred)))\n",
    "print(\"precision_score:{:.2f}\".format(precision_score(y_test,Y_pred)))\n",
    "print(\"recall_score:{:.2f}\".format(recall_score(y_test,Y_pred)))\n",
    "print(\"f1_score:{:.2f}\".format(f1_score(y_test,Y_pred)))\n"
   ]
  },
  {
   "cell_type": "markdown",
   "metadata": {},
   "source": [
    "# 【問題6】決定領域の可視化\n",
    "\n",
    "決定領域を可視化してください。"
   ]
  },
  {
   "cell_type": "code",
   "execution_count": 254,
   "metadata": {},
   "outputs": [],
   "source": [
    "#week4で用いた決定領域可視化関数\n",
    "import matplotlib.pyplot as plt\n",
    "from matplotlib.colors import ListedColormap\n",
    "import matplotlib.patches as mpatches\n",
    "def decision_region(X, y, model, step=0.01,target_names=None, title='decision region', xlabel='xlabel', ylabel='ylabel'):\n",
    "    \"\"\"\n",
    "    2値分類を2次元の特徴量で学習したモデルの決定領域を描く。\n",
    "    背景の色が学習したモデルによる推定値から描画される。\n",
    "    散布図の点は訓練データまたは検証データである。\n",
    "\n",
    "    Parameters\n",
    "    ----------------\n",
    "    X : ndarray, shape(n_samples, 2)\n",
    "        特徴量\n",
    "    y : ndarray, shape(n_samples,)\n",
    "        ラベル\n",
    "    model : object\n",
    "        学習したモデルのインスンタスを入れる\n",
    "    step : float, (default : 0.1)\n",
    "        推定値を計算する間隔を設定する\n",
    "    title : str\n",
    "        グラフのタイトルの文章を与える\n",
    "    xlabel, ylabel : str\n",
    "        軸ラベルの文章を与える\n",
    "    target_names= : list of str\n",
    "        凡例の一覧を与える\n",
    "    \"\"\"\n",
    "    # setting\n",
    "    scatter_color = ['red', 'blue']\n",
    "    contourf_color = ['pink', 'skyblue']\n",
    "    n_class = 2\n",
    "    # pred\n",
    "    mesh_f0, mesh_f1  = np.meshgrid(np.arange(np.min(X[:,0])-0.5, np.max(X[:,0])+0.5, step), np.arange(np.min(X[:,1])-0.5, np.max(X[:,1])+0.5, step))\n",
    "    mesh = np.c_[np.ravel(mesh_f0),np.ravel(mesh_f1)]\n",
    "    y_pred = model.predict(mesh).reshape(mesh_f0.shape)\n",
    "    # plot\n",
    "    plt.title(title)\n",
    "    plt.xlabel(xlabel)\n",
    "    plt.ylabel(ylabel)\n",
    "    plt.contourf(mesh_f0, mesh_f1, y_pred, n_class-1, cmap=ListedColormap(contourf_color))\n",
    "    plt.contour(mesh_f0, mesh_f1, y_pred, n_class-1, colors='y', linewidths=3, alpha=0.5)\n",
    "    for i, target in enumerate(set(y)):\n",
    "        plt.scatter(X[y==target][:, 0], X[y==target][:, 1], s=80, color=scatter_color[i], label=target_names[i], marker='o')\n",
    "    patches = [mpatches.Patch(color=scatter_color[i], label=target_names[i]) for i in range(n_class)]\n",
    "    plt.legend(handles=patches)\n",
    "    plt.legend()\n",
    "    plt.show()"
   ]
  },
  {
   "cell_type": "code",
   "execution_count": 255,
   "metadata": {},
   "outputs": [
    {
     "data": {
      "image/png": "[encoded data removed]",
      "text/plain": [
       "<Figure size 432x288 with 1 Axes>"
      ]
     },
     "metadata": {
      "needs_background": "light"
     },
     "output_type": "display_data"
    }
   ],
   "source": [
    "decision_region(X_train, y_train,SDTCD, step=0.01, title='scratch', target_names=['class1', 'class2'])"
   ]
  },
  {
   "cell_type": "code",
   "execution_count": null,
   "metadata": {},
   "outputs": [],
   "source": []
  }
 ],
 "metadata": {
  "kernelspec": {
   "display_name": "Python 3",
   "language": "python",
   "name": "python3"
  },
  "language_info": {
   "codemirror_mode": {
    "name": "ipython",
    "version": 3
   },
   "file_extension": ".py",
   "mimetype": "text/x-python",
   "name": "python",
   "nbconvert_exporter": "python",
   "pygments_lexer": "ipython3",
   "version": "3.6.10"
  }
 },
 "nbformat": 4,
 "nbformat_minor": 4
}
