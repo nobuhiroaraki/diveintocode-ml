{
 "cells": [
  {
   "cell_type": "code",
   "execution_count": 13,
   "metadata": {},
   "outputs": [],
   "source": [
    "import pandas as pd\n",
    "import numpy as np\n",
    "import matplotlib.pyplot as plt\n",
    "import seaborn as sns\n",
    "from sklearn.datasets import load_iris\n",
    "from sklearn.model_selection import train_test_split\n",
    "from sklearn.preprocessing import StandardScaler\n",
    "from sklearn.metrics import accuracy_score\n",
    "from sklearn.metrics import precision_score\n",
    "from sklearn.metrics import recall_score\n",
    "from sklearn.metrics import f1_score\n",
    "from sklearn.metrics import confusion_matrix\n",
    "from sklearn.linear_model import LogisticRegression\n",
    "\n",
    "%matplotlib inline\n",
    "sns.set(palette=\"bright\")\n",
    "pd.set_option(\"display.max_rows\",500)\n",
    "pd.set_option(\"display.max_columns\",500)\n",
    "\n"
   ]
  },
  {
   "cell_type": "code",
   "execution_count": 14,
   "metadata": {},
   "outputs": [],
   "source": [
    "dataset = load_iris()\n",
    "\n",
    "#特徴量と目的変数でdf作成し結合\n",
    "x_df = pd.DataFrame(dataset.data,columns = [\"sepal_length\",\"sepal_width\",\"petal_length\",\"petal_width\"])\n",
    "y_df = pd.DataFrame(dataset.target,columns=[\"species\"])\n",
    "df = pd.concat([x_df,y_df],axis=1)\n",
    "\n",
    "#versicolor,virginicaだけ抜き出し0,1に置き換え\n",
    "df = df[df[\"species\"].isin([1,2])].reset_index(drop=True)\n",
    "df.replace({\"species\":{1:0,2:1}},inplace=True)\n",
    "\n",
    "#特徴量と目的変数を分ける\n",
    "X = df.iloc[:,0:4].values\n",
    "y = df[\"species\"].values\n",
    "\n",
    "#訓練・検証データに分割\n",
    "X_train,X_test,y_train,y_test = train_test_split(X,y,random_state=0,stratify=y)\n",
    "\n",
    "#特徴量を計算・標準化(計算は訓練データのみ)\n",
    "std = StandardScaler()\n",
    "X_train_std = std.fit_transform(X_train)\n",
    "X_test_std = std.transform(X_test)"
   ]
  },
  {
   "cell_type": "markdown",
   "metadata": {},
   "source": [
    "# 作成したScratchLogisticRegression()クラス"
   ]
  },
  {
   "cell_type": "code",
   "execution_count": 16,
   "metadata": {},
   "outputs": [],
   "source": [
    "class ScratchLogisticRegression():\n",
    "    \"\"\"\n",
    "    ロジスティック回帰のスクラッチ実装\n",
    "\n",
    "    Parameters\n",
    "    ----------\n",
    "    num_iter : int\n",
    "      イテレーション数\n",
    "    lr : float\n",
    "      学習率\n",
    "    no_bias : bool\n",
    "      バイアス項を入れない場合はTrue\n",
    "    verbose : bool\n",
    "      学習過程を出力する場合はTrue\n",
    "    LAMBDA : \n",
    "    　　　ラムダ（正則化項に影響を与える正の定数）\n",
    "    Attributes\n",
    "    ----------\n",
    "    self.coef_ : 次の形のndarray, shape (n_features,)\n",
    "      パラメータ\n",
    "    self.loss : 次の形のndarray, shape (self.iter,)\n",
    "      訓練データに対する損失の記録\n",
    "    self.val_loss : 次の形のndarray, shape (self.iter,)\n",
    "      検証データに対する損失の記録\n",
    "\n",
    "    \"\"\"\n",
    "    def __init__(self, num_iter, lr, bias, verbose,LAMBDA):\n",
    "        # ハイパーパラメータを属性として記録\n",
    "        self.iter = num_iter\n",
    "        self.lr = lr\n",
    "        self.bias = bias\n",
    "        self.verbose = verbose\n",
    "        self.LAMBDA = LAMBDA\n",
    "        # 損失を記録する配列を用意\n",
    "        self.loss = np.zeros(self.iter)\n",
    "        self.val_loss = np.zeros(self.iter)\n",
    "        \n",
    "        \n",
    "    def _linear_hypothesis(self, X):\n",
    "        \"\"\"\n",
    "        仮定関数を計算\n",
    "\n",
    "        Parameters\n",
    "        ----------\n",
    "        X : 次の形のndarray, shape (n_samples, n_features)\n",
    "            訓練データ\n",
    "\n",
    "        Returns\n",
    "        -------\n",
    "            次の形のndarray, shape (n_samples, 1)\n",
    "            推定結果\n",
    "        \"\"\"   \n",
    "        return 1/(1 + np.exp(-1*X@self.coef_))\n",
    "    \n",
    "    \n",
    "    def _gradient_descent(self, X,y):\n",
    "        \"\"\"\n",
    "        最急降下法によりパラメータを更新\n",
    "        \n",
    "           Parameters\n",
    "            ----------\n",
    "            X : 次の形のndarray, shape (n_samples, n_features)\n",
    "              　　　訓練データ\n",
    "            y : 次の形のndarray, shape (n_samples, )\n",
    "                　　正解データ\n",
    "            \n",
    "            Returns\n",
    "            -------\n",
    "            self.coef_：次の形のndarray, shape　(n_features, 1)\n",
    "            　　　　　最急降下法によって更新したパラメータ\n",
    "        \"\"\"\n",
    "        if self.bias is True:\n",
    "            self.coef_ -= (self.lr/X.shape[0])*(X.T@(self._linear_hypothesis(X) - y.reshape(-1,1)))\n",
    "        \n",
    "        #バイアス項が無い時は正則化項を追加する\n",
    "        elif self.bias is False:   \n",
    "            #正則化項\n",
    "            regularize = self.LAMBDA/X.shape[0]*self.coef_\n",
    "            self.coef_ -= (self.lr/X.shape[0])*(X.T@(self._linear_hypothesis(X) - y.reshape(-1,1)))+ regularize\n",
    "\n",
    "        return self.coef_\n",
    "    \n",
    "    def predict_proba(self, X):\n",
    "        \"\"\"\n",
    "        確率を推定\n",
    "\n",
    "        Parameters\n",
    "        ----------\n",
    "        X : 次の形のndarray, shape (n_samples, n_features)\n",
    "            サンプル\n",
    "\n",
    "        Returns\n",
    "        -------\n",
    "            次の形のndarray, shape (n_samples, 1)\n",
    "            推定結果\n",
    "        \"\"\"\n",
    "        if self.bias is True:\n",
    "            X = np.insert(X,0,1,axis=1)\n",
    "            self.coef_ = np.random.normal(loc=0,scale=0.01,size=X.shape[1]).reshape(-1, 1)\n",
    "        \n",
    "        proba = self._linear_hypothesis(X)\n",
    "        \n",
    "        return proba\n",
    "\n",
    "    \n",
    "    def predict(self, X):\n",
    "        \"\"\"\n",
    "        ラベル(0or1)を推定\n",
    "\n",
    "        Parameters\n",
    "        ----------\n",
    "        X : 次の形のndarray, shape (n_samples, n_features)\n",
    "            サンプル\n",
    "\n",
    "        Returns\n",
    "        -------\n",
    "            次の形のndarray, shape (n_samples, 1)\n",
    "            推定結果\n",
    "        \"\"\"\n",
    "        if self.bias is True:\n",
    "            X = np.insert(X,0,1,axis=1)        \n",
    "            self.coef_ = np.random.normal(loc=0,scale=0.01,size=X.shape[1]).reshape(-1, 1)\n",
    "        \n",
    "        #予測した値が0.5より小さければ０、０.５以上だったら１を返す\n",
    "        pred = np.where(self._linear_hypothesis(X) < 0.5, 0, 1)\n",
    "        \n",
    "        return pred\n",
    "    \n",
    "    \n",
    "    def _loss_func(self,y_proba,y):\n",
    "        \"\"\"\n",
    "        損失を計算\n",
    "\n",
    "        Parameters\n",
    "        ----------\n",
    "        y_proba : 次の形のndarray, shape (n_samples,)\n",
    "          推定した値\n",
    "        y : 次の形のndarray, shape (n_samples,)\n",
    "          正解値\n",
    "\n",
    "        Returns\n",
    "        -------\n",
    "            次の形のndarray, shape (n_samples, 1)\n",
    "            推定結果\n",
    "        \"\"\"\n",
    "        first = y.T @ np.log(y_proba)\n",
    "        second = (1. - y).T @ np.log(1. - y_proba)\n",
    "        regularize = self.coef_.T @ self.coef_\n",
    "        return (-first - second + regularize / self.LAMBDA / 2) / len(y)\n",
    "    \n",
    "       \n",
    "    def fit(self, X, y, X_val=None, y_val=None):\n",
    "        \"\"\"\n",
    "        学習させる。valデータが入力された場合はそれに対する損失と精度もイテレーションごとに計算する。\n",
    "\n",
    "        Parameters\n",
    "        ----------\n",
    "        X : 次の形のndarray, shape (n_samples, n_features)\n",
    "            訓練データの特徴量\n",
    "        y : 次の形のndarray, shape (n_samples, )\n",
    "            訓練データの正解値\n",
    "        X_val : 次の形のndarray, shape (n_samples, n_features)\n",
    "            検証データの特徴量\n",
    "        y_val : 次の形のndarray, shape (n_samples, )\n",
    "            検証データの正解値\n",
    "        \"\"\"\n",
    "        #バイアスありの場合は1列目にバイアス項を追加\n",
    "        if self.bias is True:\n",
    "            X = np.insert(X,0,1,axis=1)\n",
    "            #valデータが入力されていればvalデータにも同様の処理\n",
    "            if X_val is not None:\n",
    "                X_val = np.insert(X_val,0,1,axis=1)\n",
    "        \n",
    "        #パラメータの初期値を生成\n",
    "        self.coef_ = np.random.normal(loc=0,scale=0.01,size=X.shape[1]).reshape(-1, 1)\n",
    "        \n",
    "        \n",
    "        for i in range(self.iter):\n",
    "            # パラメータの更新\n",
    "            self.coef_ = self._gradient_descent(X, y)\n",
    "            # 損失を保存する\n",
    "            self.loss[i] = self._loss_func(self._linear_hypothesis(X), y)      \n",
    "            #valデータが入力されている時はvalデータの損失も保存\n",
    "            if X_val is not None:\n",
    "                self.val_loss[i] = self._loss_func(self._linear_hypothesis(X_val), y_val)        \n",
    "        \n",
    "        #verboseをTrueにした際は学習過程を出力\n",
    "        if self.verbose:\n",
    "            print(\"train_loss:{}\".format(self.loss))\n",
    "            #valデータが入力されていれば同様の処理\n",
    "            if X_val is not None:\n",
    "                print(\"train_loss:{}\".format(self.val_loss))"
   ]
  },
  {
   "cell_type": "markdown",
   "metadata": {},
   "source": [
    "# 【問題1】仮定関数\n",
    "====================================================================================================<br>\n",
    "ロジスティック回帰の仮定関数のメソッドをScratchLogisticRegressionクラスに実装してください。\n",
    "\n",
    "ロジスティック回帰の仮定関数は、線形回帰の仮定関数を シグモイド関数 に通したものです。シグモイド関数は以下の式で表されます。\n",
    "## $$\n",
    "g(z) = \\frac{1}{1+e^{−z}}.\n",
    "$$\n",
    "\n",
    "線形回帰の仮定関数は次の式でした。\n",
    "\n",
    "## $$\n",
    "h_\\theta(x) = \\theta^T \\cdot x.\n",
    "$$\n",
    "\n",
    "まとめて書くと、ロジスティック回帰の仮定関数は次のようになります。\n",
    "\n",
    "## $$\n",
    "h_\\theta(x) = \\frac{1}{1+e^{−\\theta^T \\cdot x}}.\n",
    "$$\n",
    "\n",
    "x: 特徴量ベクトル<br>\n",
    "θ: パラメータ（重み）ベクトル\n",
    "\n",
    "====================================================================================================<br>"
   ]
  },
  {
   "cell_type": "code",
   "execution_count": 5,
   "metadata": {},
   "outputs": [],
   "source": [
    "    def _linear_hypothesis(self, X):\n",
    "        \"\"\"\n",
    "        仮定関数を計算\n",
    "\n",
    "        Parameters\n",
    "        ----------\n",
    "        X : 次の形のndarray, shape (n_samples, n_features)\n",
    "            訓練データ\n",
    "\n",
    "        Returns\n",
    "        -------\n",
    "            次の形のndarray, shape (n_samples, 1)\n",
    "            推定結果\n",
    "        \"\"\"   \n",
    "        return 1/(1 + np.exp(-1*X@self.coef_))"
   ]
  },
  {
   "cell_type": "markdown",
   "metadata": {},
   "source": [
    "# 【問題2】最急降下法\n",
    "====================================================================================================<br> \n",
    "最急降下法により学習させる実装を行なってください。\n",
    "\n",
    "以下の式で表されるパラメータの更新式のメソッド_gradient_descentを追加し、fitメソッドから呼び出すようにしてください。\n",
    "\n",
    "## $$\n",
    "\\theta_j := \\theta_j - \\alpha \\frac{\\partial J(\\theta)}{\\partial \\theta_j}\\\\\\frac{\\partial J(\\theta)}{\\partial \\theta_0} = \\frac{1}{m}  \\sum_{i=1}^{m}(h_θ(x^{(i)}) − y^{(i)})x_j^{(i)}  ,j = 0\\\\\\frac{\\partial J(\\theta)}{\\partial \\theta_j} = \\biggl(\\frac{1}{m}  \\sum_{i=1}^{m}(h_θ(x^{(i)}) − y^{(i)})x_j^{(i)} \\biggr) + \\frac{λ}{m}\\theta_j　 ,j\\geq 1\n",
    "$$\n",
    "\n",
    "α : 学習率<br>\n",
    "i : サンプルのインデックス<br>\n",
    "j : 特徴量のインデックス<br>\n",
    "m : 入力されるデータの数<br>\n",
    "hθ(): 仮定関数<br>\n",
    "x: 特徴量ベクトル<br>\n",
    "θ: パラメータ（重み）ベクトル<br>\n",
    "x(i): i番目のサンプルの特徴量ベクトル<br>\n",
    "y(i): i番目のサンプルの正解ラベル<br>\n",
    "θj: j番目のパラメータ（重み）<br>\n",
    "λ: 正則化パラメータ<br>\n",
    "====================================================================================================<br> "
   ]
  },
  {
   "cell_type": "code",
   "execution_count": 6,
   "metadata": {},
   "outputs": [],
   "source": [
    "    def _gradient_descent(self, X,y):\n",
    "        \"\"\"\n",
    "        最急降下法によりパラメータを更新\n",
    "        \n",
    "           Parameters\n",
    "            ----------\n",
    "            X : 次の形のndarray, shape (n_samples, n_features)\n",
    "              　　　訓練データ\n",
    "            y : 次の形のndarray, shape (n_samples, )\n",
    "                　　正解データ\n",
    "            \n",
    "            Returns\n",
    "            -------\n",
    "            self.coef_：次の形のndarray, shape　(n_features, 1)\n",
    "            　　　　　最急降下法によって更新したパラメータ\n",
    "        \"\"\"\n",
    "        if self.bias is True:\n",
    "            self.coef_ -= (self.lr/X.shape[0])*(X.T@(self._linear_hypothesis(X) - y.reshape(-1,1)))\n",
    "        \n",
    "        #バイアス項が無い時は正則化項を追加する\n",
    "        elif self.bias is False:   \n",
    "            #正則化項\n",
    "            regularize = self.LAMBDA/X.shape[0]*self.coef_\n",
    "            self.coef_ -= (self.lr/X.shape[0])*(X.T@(self._linear_hypothesis(X) - y.reshape(-1,1)))+ regularize\n",
    "\n",
    "        return self.coef_"
   ]
  },
  {
   "cell_type": "markdown",
   "metadata": {},
   "source": [
    "# 【問題3】推定\n",
    "====================================================================================================<br> \n",
    "推定する仕組みを実装してください。\n",
    "\n",
    "ScratchLogisticRegressionクラスの雛形に含まれるpredictメソッドとpredict_probaメソッドに書き加えてください。\n",
    "\n",
    "仮定関数 hθ(x)の出力がpredict_probaの返り値、<br>\n",
    "さらにその値に閾値を設けて1と0のラベルとしたものがpredictの返り値となります。\n",
    "====================================================================================================<br> "
   ]
  },
  {
   "cell_type": "code",
   "execution_count": 7,
   "metadata": {},
   "outputs": [],
   "source": [
    "    def predict_proba(self, X):\n",
    "        \"\"\"\n",
    "        確率を推定\n",
    "\n",
    "        Parameters\n",
    "        ----------\n",
    "        X : 次の形のndarray, shape (n_samples, n_features)\n",
    "            サンプル\n",
    "\n",
    "        Returns\n",
    "        -------\n",
    "            次の形のndarray, shape (n_samples, 1)\n",
    "            推定結果\n",
    "        \"\"\"\n",
    "        if self.bias is True:\n",
    "            X = np.insert(X,0,1,axis=1)\n",
    "            self.coef_ = np.random.normal(loc=0,scale=0.01,size=X.shape[1]).reshape(-1, 1)\n",
    "        \n",
    "        proba = self._linear_hypothesis(X)\n",
    "        \n",
    "        return proba"
   ]
  },
  {
   "cell_type": "code",
   "execution_count": 8,
   "metadata": {},
   "outputs": [],
   "source": [
    "    def predict(self, X):\n",
    "        \"\"\"\n",
    "        ラベル(0or1)を推定\n",
    "\n",
    "        Parameters\n",
    "        ----------\n",
    "        X : 次の形のndarray, shape (n_samples, n_features)\n",
    "            サンプル\n",
    "\n",
    "        Returns\n",
    "        -------\n",
    "            次の形のndarray, shape (n_samples, 1)\n",
    "            推定結果\n",
    "        \"\"\"\n",
    "        if self.bias is True:\n",
    "            X = np.insert(X,0,1,axis=1)        \n",
    "            self.coef_ = np.random.normal(loc=0,scale=0.01,size=X.shape[1]).reshape(-1, 1)\n",
    "        \n",
    "        #予測した値が0.5より小さければ０     ０.５以上だったら１を返す\n",
    "        pred = np.where(self._linear_hypothesis(X) < 0.5, 0, 1)\n",
    "        \n",
    "        return pred"
   ]
  },
  {
   "cell_type": "markdown",
   "metadata": {},
   "source": [
    "# 【問題4】目的関数\n",
    "====================================================================================================<br> \n",
    "以下の数式で表されるロジスティック回帰の 目的関数（損失関数） を実装してください。そして、これをself.loss, self.val_lossに記録するようにしてください。\n",
    "なお、この数式には正則化項が含まれています。\n",
    "\n",
    "## $$\n",
    "J(\\theta)=  \\frac{1}{m}  \\sum_{i=1}^{m}[−y^{(i)} log(h_θ(x^{(i)})) − (1−y^{(i)}) log(1−h_θ(x^{(i)}))] +\n",
    "\\frac{λ}{2m}\\sum_{j=1}^nθ^2_j.\\\\\n",
    "$$\n",
    "\n",
    "m : 入力されるデータの数<br>\n",
    "hθ(): 仮定関数<br>\n",
    "x: 特徴量ベクトル<br>\n",
    "θ: パラメータ（重み）ベクトル<br>\n",
    "x(i): i番目のサンプルの特徴量ベクトル<br>\n",
    "y(i): i番目のサンプルの正解ラベル<br>\n",
    "θj: j番目のパラメータ（重み）<br>\n",
    "n: 特徴量の数<br>\n",
    "λ: 正則化パラメータ<br>\n",
    "\n",
    "\n",
    "\n",
    "====================================================================================================<br> "
   ]
  },
  {
   "cell_type": "code",
   "execution_count": 9,
   "metadata": {},
   "outputs": [],
   "source": [
    "    def _loss_func(self,y_proba,y):\n",
    "        \"\"\"\n",
    "        損失を計算\n",
    "\n",
    "        Parameters\n",
    "        ----------\n",
    "        y_proba : 次の形のndarray, shape (n_samples,)\n",
    "          推定した値\n",
    "        y : 次の形のndarray, shape (n_samples,)\n",
    "          正解値\n",
    "\n",
    "        Returns\n",
    "        -------\n",
    "            次の形のndarray, shape (n_samples, 1)\n",
    "            推定結果\n",
    "        \"\"\"\n",
    "        first = y.T @ np.log(y_proba)\n",
    "        second = (1. - y).T @ np.log(1. - y_proba)\n",
    "        regularize = self.coef_.T @ self.coef_\n",
    "        return (-first - second + regularize / self.LAMBDA / 2) / len(y)"
   ]
  },
  {
   "cell_type": "markdown",
   "metadata": {},
   "source": [
    "# 【問題5】学習と推定\n",
    "====================================================================================================<br> \n",
    "機械学習スクラッチ入門のSprintで用意したirisデータセットのvirgicolorとvirginicaの2値分類に対してスクラッチ実装の学習と推定を行なってください。\n",
    "\n",
    "\n",
    "scikit-learnによる実装と比べ、正しく動いているかを確認してください。\n",
    "\n",
    "\n",
    "AccuracyやPrecision、Recallなどの指標値はscikit-learnを使用してください。\n",
    "====================================================================================================<br> "
   ]
  },
  {
   "cell_type": "code",
   "execution_count": 165,
   "metadata": {
    "scrolled": true
   },
   "outputs": [
    {
     "name": "stdout",
     "output_type": "stream",
     "text": [
      "=========score===========\n",
      "accuracy_score:0.64\n",
      "precision_score:1.00\n",
      "recall_score:0.25\n",
      "f1_score:0.40\n",
      "[[13  0]\n",
      " [ 9  3]]\n",
      "========result============\n",
      "予測ラベル:\n",
      "[0 1 0 0 0 0 0 0 0 0 0 0 0 1 0 0 0 0 0 0 0 0 1 0 0]\n",
      "正解ラベル:\n",
      "[1 1 0 0 0 1 0 1 0 1 1 0 0 1 1 0 1 0 0 0 0 0 1 1 1]\n"
     ]
    }
   ],
   "source": [
    "#スクラッチ版\n",
    "s_LR =  ScratchLogisticRegression(num_iter=10000, lr=0.001, bias=True, verbose=False,LAMBDA =1)\n",
    "s_LR.fit(X_train_std,y_train,X_test_std,y_test)\n",
    "s_LR_pred = s_LR.predict(X_test)\n",
    "print(\"=========score===========\")\n",
    "print(\"accuracy_score:{:.2f}\".format(accuracy_score(y_test,s_LR_pred)))\n",
    "print(\"precision_score:{:.2f}\".format(precision_score(y_test,s_LR_pred)))\n",
    "print(\"recall_score:{:.2f}\".format(recall_score(y_test,s_LR_pred)))\n",
    "print(\"f1_score:{:.2f}\".format(f1_score(y_test,s_LR_pred)))\n",
    "print(confusion_matrix(y_test, s_LR_pred))\n",
    "\n",
    "print(\"========result============\")\n",
    "print(\"予測ラベル:\\n{}\".format(np.squeeze(s_LR_pred)))\n",
    "print(\"正解ラベル:\\n{}\".format(y_test))"
   ]
  },
  {
   "cell_type": "code",
   "execution_count": 89,
   "metadata": {},
   "outputs": [
    {
     "name": "stdout",
     "output_type": "stream",
     "text": [
      "=========score===========\n",
      "accuracy_score:1.00\n",
      "precision_score:1.00\n",
      "recall_score:1.00\n",
      "f1_score:1.00\n",
      "[[13  0]\n",
      " [ 0 12]]\n",
      "========result============\n",
      "予測ラベル:\n",
      "[1 1 0 0 0 1 0 1 0 1 1 0 0 1 1 0 1 0 0 0 0 0 1 1 1]\n",
      "正解ラベル:\n",
      "[1 1 0 0 0 1 0 1 0 1 1 0 0 1 1 0 1 0 0 0 0 0 1 1 1]\n"
     ]
    }
   ],
   "source": [
    "#sklearn版\n",
    "lr = LogisticRegression(random_state = 1)\n",
    "lr.fit(X_train_std,y_train) \n",
    "Y_pred = lr.predict(X_test_std)\n",
    "print(\"=========score===========\")\n",
    "print(\"accuracy_score:{:.2f}\".format(accuracy_score(y_test,Y_pred)))\n",
    "print(\"precision_score:{:.2f}\".format(precision_score(y_test,Y_pred)))\n",
    "print(\"recall_score:{:.2f}\".format(recall_score(y_test,Y_pred)))\n",
    "print(\"f1_score:{:.2f}\".format(f1_score(y_test,Y_pred)))\n",
    "print(confusion_matrix(y_test,Y_pred))\n",
    "print(\"========result============\")\n",
    "print(\"予測ラベル:\\n{}\".format(Y_pred))\n",
    "print(\"正解ラベル:\\n{}\".format(y_test))"
   ]
  },
  {
   "cell_type": "markdown",
   "metadata": {},
   "source": [
    "# 【問題6】学習曲線のプロット\n",
    "====================================================================================================<br> \n",
    "学習曲線を見て損失が適切に下がっているかどうか確認してください。\n",
    "\n",
    "====================================================================================================<br> "
   ]
  },
  {
   "cell_type": "code",
   "execution_count": 166,
   "metadata": {},
   "outputs": [
    {
     "data": {
      "text/plain": [
       "<matplotlib.legend.Legend at 0x1a1f1e49b0>"
      ]
     },
     "execution_count": 166,
     "metadata": {},
     "output_type": "execute_result"
    },
    {
     "data": {
      "image/png": "[encoded data removed]",
      "text/plain": [
       "<Figure size 432x288 with 1 Axes>"
      ]
     },
     "metadata": {},
     "output_type": "display_data"
    }
   ],
   "source": [
    "plt.xlabel(\"iter\")\n",
    "plt.ylabel(\"loss\")\n",
    "plt.plot(s_LR.loss, label=(\"train_loss\"))\n",
    "plt.plot(s_LR.val_loss, label=(\"val_loss\"))\n",
    "plt.legend()\n"
   ]
  },
  {
   "cell_type": "markdown",
   "metadata": {},
   "source": [
    "# 【問題7】決定領域の可視化\n",
    "====================================================================================================<br> \n",
    "決定領域を可視化してください。\n",
    "\n",
    "====================================================================================================<br> "
   ]
  },
  {
   "cell_type": "code",
   "execution_count": 123,
   "metadata": {},
   "outputs": [],
   "source": [
    "#week4で用いた決定領域可視化関数\n",
    "import matplotlib.pyplot as plt\n",
    "from matplotlib.colors import ListedColormap\n",
    "import matplotlib.patches as mpatches\n",
    "def decision_region(X, y, model, step=0.01, title='decision region', xlabel='xlabel', ylabel='ylabel'):\n",
    "    \"\"\"\n",
    "    2値分類を2次元の特徴量で学習したモデルの決定領域を描く。\n",
    "    背景の色が学習したモデルによる推定値から描画される。\n",
    "    散布図の点は訓練データまたは検証データである。\n",
    "\n",
    "    Parameters\n",
    "    ----------------\n",
    "    X : ndarray, shape(n_samples, 2)\n",
    "        特徴量\n",
    "    y : ndarray, shape(n_samples,)\n",
    "        ラベル\n",
    "    model : object\n",
    "        学習したモデルのインスンタスを入れる\n",
    "    step : float, (default : 0.1)\n",
    "        推定値を計算する間隔を設定する\n",
    "    title : str\n",
    "        グラフのタイトルの文章を与える\n",
    "    xlabel, ylabel : str\n",
    "        軸ラベルの文章を与える\n",
    "    target_names= : list of str\n",
    "        凡例の一覧を与える\n",
    "    \"\"\"\n",
    "    # setting\n",
    "    scatter_color = ['red', 'blue']\n",
    "    contourf_color = ['pink', 'skyblue']\n",
    "    n_class = 2\n",
    "    # pred\n",
    "    mesh_f0, mesh_f1  = np.meshgrid(np.arange(np.min(X[:,0])-0.5, np.max(X[:,0])+0.5, step), np.arange(np.min(X[:,1])-0.5, np.max(X[:,1])+0.5, step))\n",
    "    mesh = np.c_[np.ravel(mesh_f0),np.ravel(mesh_f1)]\n",
    "    y_pred = model.predict(mesh).reshape(mesh_f0.shape)\n",
    "    # plot\n",
    "    plt.title(title)\n",
    "    plt.xlabel(xlabel)\n",
    "    plt.ylabel(ylabel)\n",
    "    plt.contourf(mesh_f0, mesh_f1, y_pred, n_class-1, cmap=ListedColormap(contourf_color))\n",
    "    plt.contour(mesh_f0, mesh_f1, y_pred, n_class-1, colors='y', linewidths=3, alpha=0.5)\n",
    "    for i, target in enumerate(set(y)):\n",
    "        plt.scatter(X[y==target][:, 0], X[y==target][:, 1], s=80, color=scatter_color[i], label=target_names[i], marker='o')\n",
    "    patches = [mpatches.Patch(color=scatter_color[i], label=target_names[i]) for i in range(n_class)]\n",
    "    plt.legend(handles=patches)\n",
    "    plt.legend()\n",
    "    plt.show()"
   ]
  },
  {
   "cell_type": "code",
   "execution_count": 152,
   "metadata": {},
   "outputs": [
    {
     "data": {
      "image/png": "[encoded data removed]",
      "text/plain": [
       "<Figure size 432x288 with 1 Axes>"
      ]
     },
     "metadata": {},
     "output_type": "display_data"
    }
   ],
   "source": [
    "decision_region(X_train_std, y_train,s_LR, step=0.01, title='train', xlabel='sepal_length', ylabel='petal_length', target_names=['versicolor', 'virginica'])"
   ]
  },
  {
   "cell_type": "code",
   "execution_count": 153,
   "metadata": {},
   "outputs": [
    {
     "data": {
      "image/png": "[encoded data removed]",
      "text/plain": [
       "<Figure size 432x288 with 1 Axes>"
      ]
     },
     "metadata": {},
     "output_type": "display_data"
    }
   ],
   "source": [
    "decision_region(X_test_std, y_test,s_LR, step=0.01, title='test', xlabel='sepal_length', ylabel='petal_length', target_names=['versicolor', 'virginica'])"
   ]
  },
  {
   "cell_type": "markdown",
   "metadata": {},
   "source": [
    "# 【問題8】（アドバンス課題）重みの保存\n",
    "\n",
    "====================================================================================================<br> \n",
    "検証が容易になるように、学習した重みを保存および読み込みができるようにしましょう。pickleモジュールやNumPyのnp.savezを利用します。\n",
    "\n",
    "====================================================================================================<br> "
   ]
  },
  {
   "cell_type": "markdown",
   "metadata": {},
   "source": [
    "## np.savez"
   ]
  },
  {
   "cell_type": "code",
   "execution_count": 18,
   "metadata": {},
   "outputs": [
    {
     "data": {
      "text/plain": [
       "array([[ 0.00973467],\n",
       "       [ 0.00704832],\n",
       "       [ 0.00385065],\n",
       "       [ 0.01500926],\n",
       "       [-0.00046108]])"
      ]
     },
     "execution_count": 18,
     "metadata": {},
     "output_type": "execute_result"
    }
   ],
   "source": [
    "#保存するパラメータ\n",
    "w = s_LR.coef_\n",
    "w"
   ]
  },
  {
   "cell_type": "code",
   "execution_count": 19,
   "metadata": {},
   "outputs": [
    {
     "data": {
      "text/plain": [
       "['arr_0']"
      ]
     },
     "execution_count": 19,
     "metadata": {},
     "output_type": "execute_result"
    }
   ],
   "source": [
    "save_w = np.savez('np_savez',w)\n",
    "load_w = np.load('np_savez.npz')\n",
    "load_w.files"
   ]
  },
  {
   "cell_type": "code",
   "execution_count": 20,
   "metadata": {},
   "outputs": [
    {
     "data": {
      "text/plain": [
       "array([[ 0.00973467],\n",
       "       [ 0.00704832],\n",
       "       [ 0.00385065],\n",
       "       [ 0.01500926],\n",
       "       [-0.00046108]])"
      ]
     },
     "execution_count": 20,
     "metadata": {},
     "output_type": "execute_result"
    }
   ],
   "source": [
    "load_w['arr_0']"
   ]
  },
  {
   "cell_type": "markdown",
   "metadata": {},
   "source": [
    "## pickleモジュール"
   ]
  },
  {
   "cell_type": "code",
   "execution_count": 21,
   "metadata": {},
   "outputs": [],
   "source": [
    "import pickle\n",
    "save_w2 = [s_LR.coef_]\n",
    "with open('binaryfile', 'wb') as web:\n",
    "    pickle.dump(save_w2 , web)"
   ]
  },
  {
   "cell_type": "code",
   "execution_count": 24,
   "metadata": {},
   "outputs": [
    {
     "name": "stdout",
     "output_type": "stream",
     "text": [
      "[array([[ 0.00973467],\n",
      "       [ 0.00704832],\n",
      "       [ 0.00385065],\n",
      "       [ 0.01500926],\n",
      "       [-0.00046108]])]\n"
     ]
    }
   ],
   "source": [
    "with open('binaryfile', 'rb') as web:\n",
    "    w2 = pickle.load(web)\n",
    "\n",
    "print(w2)"
   ]
  }
 ],
 "metadata": {
  "kernelspec": {
   "display_name": "Python 3",
   "language": "python",
   "name": "python3"
  },
  "language_info": {
   "codemirror_mode": {
    "name": "ipython",
    "version": 3
   },
   "file_extension": ".py",
   "mimetype": "text/x-python",
   "name": "python",
   "nbconvert_exporter": "python",
   "pygments_lexer": "ipython3",
   "version": "3.6.10"
  }
 },
 "nbformat": 4,
 "nbformat_minor": 4
}
