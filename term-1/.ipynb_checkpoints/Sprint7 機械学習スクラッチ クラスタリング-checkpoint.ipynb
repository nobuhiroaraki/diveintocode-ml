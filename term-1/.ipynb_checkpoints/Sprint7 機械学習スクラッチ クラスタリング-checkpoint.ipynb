{
 "cells": [
  {
   "cell_type": "code",
   "execution_count": 62,
   "metadata": {},
   "outputs": [],
   "source": [
    "import numpy as np\n",
    "import pandas as pd\n",
    "import matplotlib.pyplot as plt\n",
    "%matplotlib inline\n",
    "import random\n",
    "from numpy import linalg as LA\n",
    "from scipy.spatial import distance\n",
    "import seaborn as sns\n",
    "\n",
    "from sklearn.datasets import make_blobs\n",
    "X, _ = make_blobs(n_samples=100, n_features=2, centers=4, cluster_std=0.5, shuffle=True, random_state=0)"
   ]
  },
  {
   "cell_type": "code",
   "execution_count": 82,
   "metadata": {},
   "outputs": [],
   "source": [
    "class ScratchKMeans():\n",
    "    \"\"\"\n",
    "    K-meansのスクラッチ実装\n",
    "\n",
    "    Parameters\n",
    "    ----------\n",
    "    n_clusters : int\n",
    "      クラスタ数\n",
    "    n_init : int\n",
    "      中心点の初期値を何回変えて計算するか\n",
    "    max_iter : int\n",
    "      1回の計算で最大何イテレーションするか\n",
    "    tol : float\n",
    "      イテレーションを終了する基準となる中心点と重心の許容誤差\n",
    "    verbose : bool\n",
    "      学習過程を出力する場合はTrue\n",
    "    \"\"\"\n",
    "    def __init__(self, n_clusters, n_init, max_iter, tol, verbose=False):\n",
    "        # ハイパーパラメータを属性として記録\n",
    "        self.n_clusters = n_clusters\n",
    "        self.n_init = n_init\n",
    "        self.max_iter = max_iter\n",
    "        self.tol = tol\n",
    "        self.verbose = verbose\n",
    "\n",
    "        \n",
    "        \n",
    "    \n",
    "    def choice_k(self,X):\n",
    "        #配列をリストに変換し、リストの中から任意の個数の重心の座標をランダムに抽出\n",
    "        center_points = random.sample(X.tolist(),self.n_clusters)\n",
    "    \n",
    "        return center_points\n",
    "\n",
    " \n",
    "\n",
    "\n",
    "    def assign_cluster(self,X,center_points):#Xは配列、center_pointsはリスト\n",
    "\n",
    "        cluster_lst = []\n",
    "\n",
    "        for data in X:\n",
    "            min_distance = 999999  #重心と各データの距離を初期化\n",
    "\n",
    "            for center in center_points:\n",
    "                distance = np.sum((data - center)**2)#重心とデータのベクトルを同じ方向に向けて、合計することで２つのベクトルの距離を算出する\n",
    "                eu_distance = LA.norm(distance)#ユークリッド距離を算出する\n",
    "\n",
    "                if min_distance > eu_distance:#もし算出した距離が前回の重心より小さければ\n",
    "                    min_distance = eu_distance#最小の距離を更新\n",
    "                    cluster_label = center_points.index(center)#現状で最小の距離であるクラスタを記録\n",
    "\n",
    "            cluster_lst.append(cluster_label)#全クラスタで試して最小だったクラスタをリストに格納=i番目のdataが所属するクラスタ確定\n",
    "\n",
    "        return cluster_lst\n",
    "    \n",
    "\n",
    "    \n",
    "    \n",
    "    def move_center(self,X,cluster_lst):#Xは配列、cluster_lstはリスト\n",
    "        #新しい重心のリスト\n",
    "        new_center_points = []\n",
    "        #各クラスタごとに属しているデータのインデックスを取得し、各クラスタごとに平均を算出することで新しい重心を取得する\n",
    "        for i in range(self.n_clusters):\n",
    "\n",
    "            #各クラスタに属しているデータのインデックスを取得\n",
    "            index_lst = [index for index,clusta in enumerate(cluster_lst) if clusta==i]\n",
    "\n",
    "            #各クラスタに属しているデータの数を取得\n",
    "            index_count = len(index_lst)\n",
    "\n",
    "            #各クラスタの合計値を初期化\n",
    "            total = 0\n",
    "\n",
    "            #各クラスタにおける合計値を算出\n",
    "            for index in index_lst:\n",
    "                total +=X[index]\n",
    "\n",
    "            #算出した合計をクラスタに属しているデータの個数で割り、平均を出す\n",
    "            new_center = total/index_count\n",
    "            new_center = new_center.tolist()\n",
    "            new_center_points.append(new_center)\n",
    "\n",
    "        return new_center_points\n",
    "    \n",
    "    \n",
    "\n",
    "    \n",
    "    \n",
    "    def calculate_SSE(self,X, center_points):\n",
    "        #scipyで距離行列を作る\n",
    "        eu_distance = distance.cdist(X, center_points, metric='euclidean')\n",
    "        sse = eu_distance.min(axis=1).sum()\n",
    "\n",
    "        return sse\n",
    "    \n",
    "\n",
    "\n",
    "    \n",
    "    def fit(self,X):\n",
    "\n",
    "        for time in range(self.n_init):\n",
    "            \n",
    "            #初期値変更ごとにシードを固定\n",
    "            random.seed(time)\n",
    "\n",
    "            #重心の初期値を設定\n",
    "            default_center = self.choice_k(X)\n",
    "\n",
    "            #ループで使う用の重心の初期値\n",
    "            center_points = default_center\n",
    "\n",
    "            \n",
    "            #重心を決め、クラスタに割り当てることを繰り返す。\n",
    "            for i in range(self.max_iter):\n",
    "\n",
    "                #決められた重心を元にクラスタに割当て\n",
    "                cluster_lst = self.assign_cluster(X,center_points)\n",
    "\n",
    "                #そのクラスの中で新しい重心を探す。\n",
    "                new_center_points = self.move_center(X,cluster_lst)\n",
    "\n",
    "                #距離計算のためにlist➡︎array\n",
    "                new_center_array = np.array(new_center_points)\n",
    "                center_points_array = np.array(center_points)\n",
    "                \n",
    "                #前回の重心と更新した重心の差を求める\n",
    "                error = np.sum((new_center_array - center_points_array)**2,axis=1)\n",
    "                \n",
    "                #ループで回すために重心を更新\n",
    "                center_points = new_center_points\n",
    "                \n",
    "                \n",
    "                #前回の重心と更新した重心の差が許容値以下になったら抜ける\n",
    "                if all(self.tol > error):\n",
    "                    break\n",
    "            \n",
    "\n",
    "            #verboseをTrueにした際は学習過程を出力\n",
    "            if self.verbose is True: \n",
    "                print(\"SSE:{}\".forrmat(sse))\n",
    "        \n",
    "        #最終的なsse\n",
    "        sse = self.calculate_SSE(X,center_points)\n",
    "        self.sse = sse\n",
    "        \n",
    "        return center_points\n",
    "\n",
    "    \n",
    "    def predict(self,X,center_points):\n",
    "        \n",
    "        return self.assign_cluster(X,center_points)\n",
    "    \n",
    "    \n",
    "    def plot_clusters(self,center_points,cluster_lst):\n",
    "\n",
    "        #各クラスタに属するデータのインデックス を取得する\n",
    "        clusta0_index = [index for index,clusta in enumerate(cluster_lst) if clusta==0]\n",
    "        clusta1_index = [index for index,clusta in enumerate(cluster_lst) if clusta==1]\n",
    "        clusta2_index = [index for index,clusta in enumerate(cluster_lst) if clusta==2]\n",
    "        clusta3_index = [index for index,clusta in enumerate(cluster_lst) if clusta==3]\n",
    "\n",
    "        #取得したインデックスを用いて各クラスタに属するデータを割り当てる\n",
    "        clusta0_data = [X[index] for index in clusta0_index]\n",
    "        clusta1_data = [X[index] for index in clusta1_index]\n",
    "        clusta2_data = [X[index] for index in clusta2_index]\n",
    "        clusta3_data = [X[index] for index in clusta3_index]\n",
    "\n",
    "        [plt.scatter(data[0],data[1],color=\"red\") for data in clusta0_data]\n",
    "        [plt.scatter(data[0],data[1],color=\"blue\") for data in clusta1_data]\n",
    "        [plt.scatter(data[0],data[1],color=\"purple\") for data in clusta2_data]\n",
    "        [plt.scatter(data[0],data[1],color=\"green\") for data in clusta3_data]\n",
    "\n",
    "        #重心は星印\n",
    "        [plt.scatter(center[0],center[1],color=\"black\",marker=\"*\",s=500) for center in center_points]\n",
    "\n",
    "        return plt.show()"
   ]
  },
  {
   "cell_type": "markdown",
   "metadata": {},
   "source": [
    "# 【問題1】中心点の初期値を決める\n",
    "\n",
    "入力されたデータから $K$ 個の中心点 $\\mu_1$ から $\\mu_K$ の初期値を決めるコードを作成してください。$K$ は指定したクラスタ数です。\n",
    "\n",
    "\n",
    "最もシンプルな初期値の決定方法は、データ点 $X_n$ の中からランダムに $K$ 個選ぶことです。今回はこれを実装してください。\n",
    "\n",
    "\n",
    "K-meansの学習結果は中心点 $\\mu$ の初期値に影響を受けます。そのため、学習時には複数個の初期値で計算を行います。"
   ]
  },
  {
   "cell_type": "code",
   "execution_count": 8,
   "metadata": {},
   "outputs": [],
   "source": [
    "def choice_k(self,X):\n",
    "    #配列をリストに変換し、リストの中から任意の個数の重心の座標をランダムに抽出\n",
    "    center_points = random.sample(X.tolist(),self.n_clusters)\n",
    "\n",
    "    return center_points"
   ]
  },
  {
   "cell_type": "code",
   "execution_count": 5,
   "metadata": {
    "scrolled": true
   },
   "outputs": [
    {
     "name": "stdout",
     "output_type": "stream",
     "text": [
      "[[-0.33533162578993436, 3.3901220048283296], [2.288098741298108, 0.12954181679932497], [1.6016183392412568, 0.9236363578360063], [0.7208675097620585, 3.7134712353871837]]\n"
     ]
    }
   ],
   "source": [
    "#デバッグ\n",
    "center_points = SKM.choice_k(X)\n",
    "print(center_points)"
   ]
  },
  {
   "cell_type": "markdown",
   "metadata": {},
   "source": [
    "# 【問題2】SSEを求める関数の作成\n",
    "\n",
    "クラスタ内誤差平方和（SSE, Sum of Squared Errors）を計算する関数を作成してください。\n",
    "\n",
    "K-meansはこのSSEを最小化する $r_{nk}$ と $\\mu_k$ を求めることが目的となります。\n",
    "\n",
    "複数個の初期値で計算したクラスタリング結果から、どれを最終的に採用するかを決める際にこのSSEを求める関数を使用します。\n",
    "\n",
    "## $$\n",
    "SSE = \\sum_{n=1}^N \\sum_{k=1}^K r_{nk} \\|X_n - \\mu_k\\|^2\n",
    "$$\n",
    "\n",
    "$n$ : データ点のインデックス\n",
    "\n",
    "\n",
    "$k$ : クラスタのインデックス\n",
    "\n",
    "\n",
    "$X_n$ : $n$番目のデータ点\n",
    "\n",
    "\n",
    "$\\mu_k$ : $k$番目の中心点\n",
    "\n",
    "\n",
    "$r_{nk}$ : データ点$X_n$がクラスタ$k$に所属していたら1、そうでなければ0"
   ]
  },
  {
   "cell_type": "code",
   "execution_count": 54,
   "metadata": {},
   "outputs": [],
   "source": [
    "def calculate_SSE(self,X, center_points):\n",
    "    #scipyで距離行列を作る\n",
    "    eu_distance = distance.cdist(X, center_points, metric='euclidean')\n",
    "    sse = eu_distance.min(axis=1).sum()\n",
    "\n",
    "    return sse"
   ]
  },
  {
   "cell_type": "code",
   "execution_count": 6,
   "metadata": {},
   "outputs": [
    {
     "data": {
      "text/plain": [
       "178.59591536959056"
      ]
     },
     "execution_count": 6,
     "metadata": {},
     "output_type": "execute_result"
    }
   ],
   "source": [
    "SKM.calculate_SSE(X,center_points)"
   ]
  },
  {
   "cell_type": "markdown",
   "metadata": {},
   "source": [
    "# クラスタの割り当てと中心点の移動を繰り返す\n",
    "\n",
    "\n",
    "K-meansの学習の基本は以下の2つのフェーズを繰り返すことです。\n",
    "\n",
    "\n",
    "* 中心点 $\\mu_k$ を固定した上で $SSE$ を最小化する クラスタの割り当て $r_{nk}$ を選ぶ。\n",
    "* クラスタの割り当て $r_{nk}$ を固定した上で $SSE$ を最小化する 中心点 $\\mu_k$ を選ぶ。\n",
    "\n",
    "最初の中心点 $\\mu_k$ は問題1で作成した初期値です。\n",
    "\n",
    "\n",
    "順番に見ていきます。"
   ]
  },
  {
   "cell_type": "markdown",
   "metadata": {},
   "source": [
    "# 【問題3】クラスタへの割り当て\n",
    "\n",
    "全てのデータ点 $X_n$ を最も近い中心点 $\\mu_k$ に割り当てるコードを作成してください。\n",
    "\n",
    "\n",
    "K-menasにおける 近い とは点と点のユークリッド距離が小さくなることです。\n",
    "\n",
    "ユークリッド距離とはピタゴラスの定理（三平方の定理）で求められるものですが、ベクトル $p,q$ に対しては以下の数式で表現できます。\n",
    "\n",
    "## $$\n",
    "\\|q-p\\| = \\sqrt{(q-p)\\cdot(q-p)}\n",
    "$$\n",
    "\n",
    "NumPyにはこの関数がnp.linalg.normとして用意されているため使用してください。\n",
    "\n",
    "\n",
    "numpy.linalg.norm — NumPy v1.17 Manual\n",
    "\n",
    "\n",
    "中心点 $\\mu_k$ を固定した上でSSEを最小化していることになりますが、SSE自体を求める必要はありません。"
   ]
  },
  {
   "cell_type": "code",
   "execution_count": 11,
   "metadata": {},
   "outputs": [],
   "source": [
    "def assign_cluster(self,X,center_points):#Xは配列、center_pointsはリスト\n",
    "\n",
    "    cluster_lst = []\n",
    "\n",
    "    for data in X:\n",
    "        min_distance = 999999  #重心と各データの距離を初期化\n",
    "\n",
    "        for center in center_points:\n",
    "            distance = np.sum((data - center)**2)#重心とデータのベクトルを同じ方向に向けて、合計することで２つのベクトルの距離を算出する\n",
    "            eu_distance = LA.norm(distance)#ユークリッド距離を算出する\n",
    "\n",
    "            if min_distance > eu_distance:#もし算出した距離が前回の重心より小さければ\n",
    "                min_distance = eu_distance#最小の距離を更新\n",
    "                cluster_label = center_points.index(center)#現状で最小の距離であるクラスタを記録\n",
    "\n",
    "        cluster_lst.append(cluster_label)#全クラスタで試して最小だったクラスタをリストに格納=i番目のdataが所属するクラスタ確定\n",
    "\n",
    "    return cluster_lst"
   ]
  },
  {
   "cell_type": "code",
   "execution_count": 7,
   "metadata": {},
   "outputs": [
    {
     "name": "stdout",
     "output_type": "stream",
     "text": [
      "[3, 0, 3, 3, 3, 3, 0, 3, 3, 0, 0, 0, 0, 3, 3, 1, 2, 0, 0, 1, 3, 0, 0, 1, 3, 0, 0, 3, 2, 1, 2, 0, 1, 2, 0, 3, 0, 2, 3, 0, 3, 0, 0, 0, 0, 0, 2, 0, 3, 3, 3, 2, 0, 0, 0, 0, 3, 2, 2, 3, 0, 2, 2, 3, 2, 3, 0, 0, 2, 3, 0, 2, 3, 0, 3, 3, 0, 0, 1, 2, 1, 0, 0, 3, 2, 0, 2, 2, 3, 3, 3, 0, 3, 0, 0, 0, 0, 0, 3, 0]\n"
     ]
    }
   ],
   "source": [
    "#デバッグ\n",
    "cluster_lst = SKM.assign_cluster(X,center_points)\n",
    "\n",
    "print(cluster_lst)"
   ]
  },
  {
   "cell_type": "markdown",
   "metadata": {},
   "source": [
    "# 【問題4】中心点の移動\n",
    "\n",
    "中心点 $\\mu_k$ を $k$ 番目のクラスタに割り当てられる全てのデータ点 $X_n$ の平均値（重心）に移動するコードを作成してください。\n",
    "\n",
    "\n",
    "クラスタの割り当て $r_{nk}$ を固定した上でSSEを最小化していることになりますが、SSE自体を求める必要はありません。"
   ]
  },
  {
   "cell_type": "code",
   "execution_count": 13,
   "metadata": {},
   "outputs": [],
   "source": [
    "def move_center(self,X,cluster_lst):#Xは配列、cluster_lstはリスト\n",
    "    #新しい重心のリスト\n",
    "    new_center_points = []\n",
    "    #各クラスタごとに属しているデータのインデックスを取得し、各クラスタごとに平均を算出することで新しい重心を取得する\n",
    "    for i in range(self.n_clusters):\n",
    "\n",
    "        #各クラスタに属しているデータのインデックスを取得\n",
    "        index_lst = [index for index,clusta in enumerate(cluster_lst) if clusta==i]\n",
    "\n",
    "        #各クラスタに属しているデータの数を取得\n",
    "        index_count = len(index_lst)\n",
    "\n",
    "        #各クラスタの合計値を初期化\n",
    "        total = 0\n",
    "\n",
    "        #各クラスタにおける合計値を算出\n",
    "        for index in index_lst:\n",
    "            total +=X[index]\n",
    "\n",
    "        #算出した合計をクラスタに属しているデータの個数で割り、平均を出す\n",
    "        new_center = total/index_count\n",
    "        new_center = new_center.tolist()\n",
    "        new_center_points.append(new_center)\n",
    "\n",
    "    return new_center_points"
   ]
  },
  {
   "cell_type": "code",
   "execution_count": 8,
   "metadata": {},
   "outputs": [
    {
     "data": {
      "text/plain": [
       "[[-1.4706414645983474, 4.9444821911100965],\n",
       " [2.3719542995669145, 0.3896903004332279],\n",
       " [1.8440580913469518, 1.1895797576242717],\n",
       " [0.5529794267974089, 5.235312631108902]]"
      ]
     },
     "execution_count": 8,
     "metadata": {},
     "output_type": "execute_result"
    }
   ],
   "source": [
    "#デバッグ\n",
    "center_points = SKM.move_center(X,cluster_lst)\n",
    "center_points"
   ]
  },
  {
   "cell_type": "markdown",
   "metadata": {},
   "source": [
    "# 【問題5】繰り返し\n",
    "\n",
    "\n",
    "クラスタへの割り当てと中心点の移動を繰り返すことで学習を行うコードを作成してください。\n",
    "\n",
    "\n",
    "次のどれかの条件を満たしたらこれを止めます。\n",
    "\n",
    "\n",
    "繰り返しが指定した回数に到達する。（雛形では引数max_iter）\n",
    "中心点 $\\mu_k$ と重心の差の合計が指定した許容値以下になる。（雛形では引数tol）"
   ]
  },
  {
   "cell_type": "markdown",
   "metadata": {},
   "source": [
    "➡︎問題６で併せて作成しました"
   ]
  },
  {
   "cell_type": "markdown",
   "metadata": {},
   "source": [
    "# 【問題6】異なる初期値で計算\n",
    "\n",
    "問題5の繰り返しを、指定した回数初期値を変更して計算するコードを作成してください。回数は雛形では引数n_initで指定します。\n",
    "\n",
    "\n",
    "複数計算した中でSSEが最小になったものが最終的な学習結果となるため、その時の中心点 $\\mu_k$ を保持しておきます。"
   ]
  },
  {
   "cell_type": "code",
   "execution_count": 88,
   "metadata": {},
   "outputs": [],
   "source": [
    "    def fit(self,X):\n",
    "\n",
    "        for time in range(self.n_init):\n",
    "            \n",
    "            #初期値変更ごとにシードを固定\n",
    "            random.seed(time)\n",
    "\n",
    "            #重心の初期値を設定\n",
    "            default_center = self.choice_k(X)\n",
    "\n",
    "            #ループで使う用の重心の初期値\n",
    "            center_points = default_center\n",
    "\n",
    "            \n",
    "            #重心を決め、クラスタに割り当てることを繰り返す。\n",
    "            for i in range(self.max_iter):\n",
    "\n",
    "                #決められた重心を元にクラスタに割当て\n",
    "                cluster_lst = self.assign_cluster(X,center_points)\n",
    "\n",
    "                #そのクラスの中で新しい重心を探す。\n",
    "                new_center_points = self.move_center(X,cluster_lst)\n",
    "\n",
    "                #距離計算のためにlist➡︎array\n",
    "                new_center_array = np.array(new_center_points)\n",
    "                center_points_array = np.array(center_points)\n",
    "                \n",
    "                #前回の重心と更新した重心の差を求める\n",
    "                error = np.sum((new_center_array - center_points_array)**2,axis=1)\n",
    "                \n",
    "                #ループで回すために重心を更新\n",
    "                center_points = new_center_points\n",
    "                \n",
    "                \n",
    "                #前回の重心と更新した重心の差が許容値以下になったら抜ける\n",
    "                if all(self.tol > error):\n",
    "                    break\n",
    "            \n",
    "\n",
    "            #verboseをTrueにした際は学習過程を出力\n",
    "            if self.verbose is True: \n",
    "                print(\"SSE:{}\".forrmat(sse))\n",
    "        \n",
    "        #最終的なsse\n",
    "        sse = self.calculate_SSE(X,center_points)\n",
    "        self.sse = sse\n",
    "        \n",
    "        return center_points"
   ]
  },
  {
   "cell_type": "code",
   "execution_count": 92,
   "metadata": {
    "scrolled": true
   },
   "outputs": [
    {
     "name": "stdout",
     "output_type": "stream",
     "text": [
      "====最終的な重心====\n",
      "[[-1.2681173257461038, 7.763782656002402], [1.9918690296485417, 0.9656107096107793], [-1.4793567922695052, 3.1171689610225974], [0.9257844652071334, 4.324757919503759]]\n"
     ]
    }
   ],
   "source": [
    "#デバッグ\n",
    "SKM = ScratchKMeans(n_clusters=4, n_init=10, max_iter=100, tol=1e-10, verbose=False)\n",
    "\n",
    "center_points = SKM.fit(X)\n",
    "\n",
    "print(\"====最終的な重心====\")\n",
    "print(center_points)"
   ]
  },
  {
   "cell_type": "markdown",
   "metadata": {},
   "source": [
    "# 【問題7】推定\n",
    "\n",
    "\n",
    "新たなデータに対してどのクラスタに所属するかの推定の際は、学習時の1つ目のフェーズと同じことを行います。\n",
    "\n",
    "* データ点 $X_n$ と学習で決まった中心点 $\\mu_k$ に対し、 $SSE$ を最小化する $r_{nk}$ を選ぶ。\n",
    "\n",
    "具体的には次のことです。\n",
    "\n",
    "* データ点 $X_n$ を最も近い $\\mu_k$ に割り当てる。"
   ]
  },
  {
   "cell_type": "code",
   "execution_count": null,
   "metadata": {},
   "outputs": [],
   "source": [
    "def predict(self,X,center_points):\n",
    "\n",
    "    return self.assign_cluster(X,center_points)"
   ]
  },
  {
   "cell_type": "code",
   "execution_count": 93,
   "metadata": {},
   "outputs": [
    {
     "name": "stdout",
     "output_type": "stream",
     "text": [
      "====最終的なクラスタ====\n",
      "[3, 0, 3, 3, 3, 3, 2, 0, 3, 0, 0, 0, 0, 0, 0, 1, 1, 2, 2, 1, 3, 0, 2, 1, 3, 2, 2, 3, 1, 1, 1, 0, 1, 1, 2, 3, 0, 1, 0, 2, 3, 2, 0, 2, 2, 0, 1, 2, 3, 3, 3, 1, 2, 2, 2, 0, 0, 1, 1, 0, 0, 1, 1, 3, 1, 0, 2, 2, 1, 3, 0, 1, 3, 0, 3, 3, 2, 2, 1, 1, 1, 0, 2, 3, 1, 2, 1, 1, 3, 3, 3, 2, 3, 2, 2, 0, 0, 2, 0, 3]\n"
     ]
    }
   ],
   "source": [
    "SKM_pred = SKM.predict(X,center_points)\n",
    "print(\"====最終的なクラスタ====\")\n",
    "print(cluster_lst)"
   ]
  },
  {
   "cell_type": "code",
   "execution_count": 80,
   "metadata": {},
   "outputs": [],
   "source": [
    "#plotして分かれているか確認する\n",
    "def plot_clusters(self,center_points,cluster_lst):\n",
    "\n",
    "    #各クラスタに属するデータのインデックス を取得する\n",
    "    clusta0_index = [index for index,clusta in enumerate(cluster_lst) if clusta==0]\n",
    "    clusta1_index = [index for index,clusta in enumerate(cluster_lst) if clusta==1]\n",
    "    clusta2_index = [index for index,clusta in enumerate(cluster_lst) if clusta==2]\n",
    "    clusta3_index = [index for index,clusta in enumerate(cluster_lst) if clusta==3]\n",
    "\n",
    "    #取得したインデックスを用いて各クラスタに属するデータを割り当てる\n",
    "    clusta0_data = [X[index] for index in clusta0_index]\n",
    "    clusta1_data = [X[index] for index in clusta1_index]\n",
    "    clusta2_data = [X[index] for index in clusta2_index]\n",
    "    clusta3_data = [X[index] for index in clusta3_index]\n",
    "\n",
    "    [plt.scatter(data[0],data[1],color=\"red\") for data in clusta0_data]\n",
    "    [plt.scatter(data[0],data[1],color=\"blue\") for data in clusta1_data]\n",
    "    [plt.scatter(data[0],data[1],color=\"purple\") for data in clusta2_data]\n",
    "    [plt.scatter(data[0],data[1],color=\"green\") for data in clusta3_data]\n",
    "\n",
    "    #重心は星印\n",
    "    [plt.scatter(center[0],center[1],color=\"black\",marker=\"*\",s=500) for center in center_points]\n",
    "\n",
    "    return plt.show()"
   ]
  },
  {
   "cell_type": "code",
   "execution_count": 94,
   "metadata": {},
   "outputs": [
    {
     "data": {
      "image/png": "[encoded data removed]",
      "text/plain": [
       "<Figure size 432x288 with 1 Axes>"
      ]
     },
     "metadata": {
      "needs_background": "light"
     },
     "output_type": "display_data"
    }
   ],
   "source": [
    "#デバッグ\n",
    "SKM.plot_clusters(center_points,SKM_pred)"
   ]
  },
  {
   "cell_type": "markdown",
   "metadata": {},
   "source": [
    "# 【問題8】エルボー法の実装\n",
    "\n",
    "K-meansにおいて中心点の個数 $k$ は人為的に決める必要がありますが、その判断方法としてエルボー法があります。\n",
    "\n",
    "エルボー法により中心点の個数 $k$ を検討するためのコードを作成してください。\n",
    "\n",
    "\n",
    "SSEを縦軸、クラスタ数 $k$ を横軸にした折れ線グラフを表示します。\n",
    "\n",
    "このためにK-meansのインスタンスからはSSEを取得できるようにしてください。"
   ]
  },
  {
   "cell_type": "code",
   "execution_count": 95,
   "metadata": {},
   "outputs": [],
   "source": [
    "def plot_elbow(X,n_clusters):\n",
    "    #クラスタ数ごとのsseを保存するリスト\n",
    "    sse_lst = []\n",
    "    #指定したクラスタ数だけ試行する※クラスタ０はないため１から。指定したクラスタ数にするため＋１して０の分を補う\n",
    "    for num in range(1,n_clusters+1):\n",
    "        #各クラスタ数ごとにインスタンス作成\n",
    "        SKM = ScratchKMeans(n_clusters=num, n_init=10, max_iter=100, tol=1e-10, verbose=False)\n",
    "        #各クラスタ数ごとにsseを求める\n",
    "        SKM.fit(X)\n",
    "        sse_lst.append(SKM.sse)\n",
    "\n",
    "    plt.plot([num for num in range(1,n_clusters+1)],sse_lst)\n",
    "    \n",
    "    return plt.show()"
   ]
  },
  {
   "cell_type": "code",
   "execution_count": 96,
   "metadata": {},
   "outputs": [
    {
     "data": {
      "image/png": "[encoded data removed]",
      "text/plain": [
       "<Figure size 432x288 with 1 Axes>"
      ]
     },
     "metadata": {
      "needs_background": "light"
     },
     "output_type": "display_data"
    }
   ],
   "source": [
    "plot_elbow(X,10)"
   ]
  },
  {
   "cell_type": "markdown",
   "metadata": {},
   "source": [
    "# 【問題9】（アドバンス課題）シルエット図\n",
    "\n",
    "kを決める助けになるものとしてシルエット図もあります。シルエット図を表示するコードを作成してください。"
   ]
  },
  {
   "cell_type": "code",
   "execution_count": 117,
   "metadata": {},
   "outputs": [],
   "source": [
    "from sklearn.metrics import silhouette_samples\n",
    "from matplotlib import cm\n",
    "\n",
    "\n",
    "def plot_silhouette(X,pred):\n",
    "    # predの要素の中で重複を無くす\n",
    "    cluster_labels = np.unique(pred)       \n",
    "    # predの要素数を算出する\n",
    "    n_clusters=cluster_labels.shape[0]     \n",
    "\n",
    "    # シルエット係数を算出\n",
    "    silhouette_vals = silhouette_samples(X,pred,metric='euclidean')  # サンプルデータ, クラスター番号、ユークリッド距離でシルエット係数を算出\n",
    "    y_ax_lower, y_ax_upper= 0,0\n",
    "    yticks = []\n",
    "\n",
    "    for i,c in enumerate(cluster_labels):\n",
    "        c_silhouette_vals = silhouette_vals[pred==c]      \n",
    "        c_silhouette_vals.sort()\n",
    "        \n",
    "        # サンプルの個数をクラスターごとに足し上げてy軸の最大値を決定\n",
    "        y_ax_upper += len(c_silhouette_vals)    \n",
    "        \n",
    "        # 色の値を作る\n",
    "        color = cm.jet(float(i)/n_clusters)  \n",
    "        \n",
    "        # 水平の棒グラフのを描画（底辺の範囲を指定）\n",
    "        plt.barh(range(y_ax_lower,y_ax_upper),            \n",
    "                         c_silhouette_vals,               # 棒の幅（1サンプルを表す）\n",
    "                         height=1.0,                      # 棒の高さ\n",
    "                         edgecolor='none',                # 棒の端の色\n",
    "                         color=color)                     # 棒の色\n",
    "        \n",
    "        # クラスタラベルの表示位置を追加\n",
    "        yticks.append((y_ax_lower+y_ax_upper)/2)          \n",
    "        \n",
    "        # 底辺の値に棒の幅を追加\n",
    "        y_ax_lower += len(c_silhouette_vals)              \n",
    "        \n",
    "        # シルエット係数の平均値\n",
    "    silhouette_avg = np.mean(silhouette_vals)     \n",
    "    \n",
    "    # 係数の平均値に破線を引く \n",
    "    plt.axvline(silhouette_avg,color=\"red\",linestyle=\"--\")    \n",
    "    \n",
    "    # クラスタレベルを表示\n",
    "    plt.yticks(yticks,cluster_labels + 1)                     \n",
    "    plt.show()"
   ]
  },
  {
   "cell_type": "code",
   "execution_count": 118,
   "metadata": {},
   "outputs": [
    {
     "data": {
      "image/png": "[encoded data removed]",
      "text/plain": [
       "<Figure size 432x288 with 1 Axes>"
      ]
     },
     "metadata": {
      "needs_background": "light"
     },
     "output_type": "display_data"
    }
   ],
   "source": [
    "plot_silhouette(X,SKM_pred)"
   ]
  },
  {
   "cell_type": "markdown",
   "metadata": {},
   "source": [
    "➡︎シルエット図からはなんとも言えないが、エルボー図から4つが最適なクラスタ数だと考えられる"
   ]
  },
  {
   "cell_type": "markdown",
   "metadata": {},
   "source": [
    "=======================================================================================================================\n",
    "# 3.クラスタ分析\n",
    "\n",
    "卸売業者のデータ分析\n",
    "\n",
    "クラスタリングを利用法を学ぶために、Wholesale customers Data Setを使用します。\n",
    "\n",
    "\n",
    "UCI Machine Learning Repository: Wholesale customers Data Set\n",
    "\n",
    "\n",
    "Data Folderの中からWholesale customers data.csvをダウンロードしてください。\n",
    "\n",
    "これはポルトガルのリスボンにある卸売業者（wholesale）が顧客から集めたデータです。\n",
    "\n",
    "中身は各顧客が年間でミルクや食料品を何ユーロ購入しているかというデータになっています。\n",
    "\n",
    "顧客は小売店やレストランです。RegionとChannelは取り覗き、金額のデータでK-meansを利用します。\n",
    "\n",
    "\n",
    "Fresh\t・・・生鮮食品\n",
    "\n",
    "Milk　　　・・・牛乳\n",
    "\n",
    "Grocery\t　・・・食糧雑貨\n",
    "\n",
    "Frozen\t　冷凍食品\n",
    "\n",
    "Detergents_Paper\t・・・衛生用品\n",
    "\n",
    "Delicassen　　・・・惣菜"
   ]
  },
  {
   "cell_type": "code",
   "execution_count": 63,
   "metadata": {},
   "outputs": [],
   "source": [
    "data_set = pd.read_csv(\"/Users/nobu/Documents/データセット/Wholesale customers data.csv\")\n",
    "pd.set_option(\"display.max_rows\",500)"
   ]
  },
  {
   "cell_type": "code",
   "execution_count": 64,
   "metadata": {
    "scrolled": true
   },
   "outputs": [],
   "source": [
    "data = data_set.iloc[:,2:]\n",
    "#data"
   ]
  },
  {
   "cell_type": "markdown",
   "metadata": {},
   "source": [
    "# 次元削減\n",
    "金額に関する特徴量は6個ありますが、可視化するために次元削減を行います。\n",
    "\n",
    "これに関してはscikit-learnによるPCAのサンプルコードを用意したので利用してください。"
   ]
  },
  {
   "cell_type": "code",
   "execution_count": 107,
   "metadata": {},
   "outputs": [
    {
     "name": "stdout",
     "output_type": "stream",
     "text": [
      "[0.45961362 0.86478588 0.93481597 0.97883941 0.99386152 1.        ]\n"
     ]
    },
    {
     "data": {
      "image/png": "[encoded data removed]",
      "text/plain": [
       "<Figure size 432x288 with 1 Axes>"
      ]
     },
     "metadata": {
      "needs_background": "light"
     },
     "output_type": "display_data"
    }
   ],
   "source": [
    "#《PCAのサンプルコード》\n",
    "from sklearn.decomposition import PCA\n",
    "pca = PCA(n_components = 2)\n",
    "pca = pca.fit(data)\n",
    "data_pca = pca.transform(data)\n",
    "\n",
    "#《PCAの分散説明率を表示するコードサンプル》\n",
    "from sklearn.decomposition import PCA\n",
    "import matplotlib.pyplot as plt\n",
    "pca = PCA(n_components=None)\n",
    "pca = pca.fit(data)\n",
    "var_exp = pca.explained_variance_ratio_\n",
    "cum_var_exp = np.cumsum(var_exp)\n",
    "print(cum_var_exp)\n",
    "plt.bar(range(1,7), var_exp, alpha=0.5, align='center', label='individual explained variance')\n",
    "plt.step(range(1,7), cum_var_exp, where='mid', label='cumulative expalined variance')\n",
    "plt.ylabel('Explained variance ratio')\n",
    "plt.xlabel('Principal components')\n",
    "plt.hlines(0.7, 0, 6,  \"blue\", linestyles='dashed')\n",
    "plt.legend(loc='best')\n",
    "plt.grid()\n",
    "plt.show()"
   ]
  },
  {
   "cell_type": "markdown",
   "metadata": {},
   "source": [
    "# 【問題10】クラスタ数kの選択\n",
    "\n",
    "最適だと思われるクラスタ数 $k$ を選択してください。\n",
    "\n",
    "エルボー法やシルエット図を活用する他、人間が後々どう利用したいのかも選択に関わってきます。\n",
    "\n",
    "選択した上で、なぜそれを選んだか説明してください。\n",
    "\n"
   ]
  },
  {
   "cell_type": "code",
   "execution_count": 125,
   "metadata": {
    "scrolled": true
   },
   "outputs": [],
   "source": [
    "from sklearn.cluster import KMeans\n",
    "#インスタンスを作成し、学習・推定させる\n",
    "KM = KMeans(n_clusters=10,random_state=42)\n",
    "km_pred = KM.fit_predict(data_pca)"
   ]
  },
  {
   "cell_type": "code",
   "execution_count": 126,
   "metadata": {},
   "outputs": [],
   "source": [
    "def plot_elbow2(X,num):\n",
    "    #本家KMeansではSSEはinertia_として保存されている\n",
    "    inertia_lst = []\n",
    "    for i  in range(1,num+1):\n",
    "        # k-means++法により、各クラスタの重心の初期値を互いに離れた位置に配置する\n",
    "        km = KMeans(n_clusters=i,init='k-means++',n_init=10,max_iter=300,random_state=0)\n",
    "        # クラスタリングを実行し、inertiaを取得。リストに追加\n",
    "        km.fit(X)                        \n",
    "        inertia_lst.append(km.inertia_)   \n",
    "\n",
    "    plt.plot(range(1,num+1),inertia_lst,marker='o')"
   ]
  },
  {
   "cell_type": "code",
   "execution_count": 127,
   "metadata": {
    "scrolled": true
   },
   "outputs": [
    {
     "data": {
      "image/png": "[encoded data removed]",
      "text/plain": [
       "<Figure size 432x288 with 1 Axes>"
      ]
     },
     "metadata": {
      "needs_background": "light"
     },
     "output_type": "display_data"
    }
   ],
   "source": [
    "plot_elbow2(data_pca,15)"
   ]
  },
  {
   "cell_type": "markdown",
   "metadata": {},
   "source": [
    "4~6あたりだと考えられる。➡︎シルエット図でこの辺りを描画"
   ]
  },
  {
   "cell_type": "code",
   "execution_count": 136,
   "metadata": {},
   "outputs": [
    {
     "data": {
      "image/png": "[encoded data removed]",
      "text/plain": [
       "<Figure size 432x288 with 1 Axes>"
      ]
     },
     "metadata": {
      "needs_background": "light"
     },
     "output_type": "display_data"
    }
   ],
   "source": [
    "KM = KMeans(n_clusters=7,random_state=42)\n",
    "km_pred = KM.fit_predict(data_pca)\n",
    "plot_silhouette(data_pca,km_pred)"
   ]
  },
  {
   "cell_type": "markdown",
   "metadata": {},
   "source": [
    "5と6が同じくらい。\n",
    "このデータは各顧客が６種類の商品(Fresh、Milk、Grocery、Frozen、Detergents_Paper、Delicassen)を、それぞれいくら購入しているかのデータである。\n",
    "そのためクラスタ化するのも商品のの種類と同じ６種類が好ましいと考えられる、、、（？）"
   ]
  },
  {
   "cell_type": "markdown",
   "metadata": {},
   "source": [
    "# 【問題11】既知のグループとの比較\n",
    "\n",
    "RegionとChannelはK-meansに使用しなかったが、これれらは既知のグループです。\n",
    "\n",
    "クラスタとこれら既知のグループがどう違うかを確認し、説明してください。まずはそれぞれを可視化してください。\n",
    "\n",
    "\n"
   ]
  },
  {
   "cell_type": "code",
   "execution_count": 134,
   "metadata": {},
   "outputs": [
    {
     "name": "stdout",
     "output_type": "stream",
     "text": [
      "[5 5 5 0 4 0 0 5 0 5 5 0 4 4 4 0 5 0 4 0 4 0 4 2 4 4 0 0 2 1 4 0 4 4 0 5 4\n",
      " 5 5 1 4 4 5 2 5 2 2 3 5 2 0 0 1 5 4 0 2 5 0 5 0 3 0 5 0 2 0 4 0 0 4 4 0 4\n",
      " 5 4 0 2 0 0 0 5 5 4 0 3 3 1 0 4 0 0 2 4 5 0 5 0 0 0 5 5 5 1 0 4 5 5 5 2 0\n",
      " 5 4 0 4 0 0 0 4 0 4 0 0 5 4 1 4 4 0 1 0 0 0 0 0 0 5 5 0 0 4 4 1 0 4 2 0 0\n",
      " 0 4 4 0 4 0 0 5 5 4 5 5 5 0 4 2 5 2 5 0 0 0 5 2 5 5 0 5 1 0 0 0 0 1 5 1 0\n",
      " 0 0 5 5 5 4 0 0 5 0 4 4 5 0 0 2 2 4 0 0 2 0 0 0 5 4 2 0 5 5 5 2 4 5 0 0 5\n",
      " 0 0 0 0 4 0 0 0 0 0 4 0 4 0 0 4 0 1 4 4 4 0 5 5 0 0 4 0 0 2 0 4 5 4 0 0 1\n",
      " 1 0 0 4 0 5 5 5 4 5 0 0 0 5 1 0 0 4 0 0 4 0 0 1 4 1 1 0 4 4 1 0 0 0 5 4 0\n",
      " 4 0 5 0 4 2 5 5 2 5 2 4 0 5 0 4 5 0 0 5 0 0 0 2 0 0 4 0 4 1 0 0 4 0 0 2 4\n",
      " 3 4 4 0 0 0 0 5 5 5 2 0 5 5 4 0 2 0 2 0 5 4 0 4 5 5 0 4 0 0 0 0 5 0 0 4 0\n",
      " 1 4 0 4 0 0 5 1 0 5 4 4 4 0 5 0 0 4 0 0 0 0 0 4 0 0 5 0 0 0 0 4 4 4 4 0 4\n",
      " 5 0 0 0 0 5 0 0 5 5 5 5 0 5 4 4 4 4 0 5 4 0 0 5 0 4 0 4 4 1 2 0 0]\n"
     ]
    }
   ],
   "source": [
    "#問題１０より６つのクラスタで分けるのが好ましいと考えられるため6つに分ける\n",
    "KM = KMeans(n_clusters=6,random_state=42)\n",
    "km_pred = KM.fit_predict(data_pca)\n",
    "\n",
    "#本家KMeansは.labels_で推定したラベルを呼び出せる\n",
    "labels =KM.labels_\n",
    "print(labels)"
   ]
  },
  {
   "cell_type": "code",
   "execution_count": 133,
   "metadata": {},
   "outputs": [
    {
     "data": {
      "image/png": "[encoded data removed]",
      "text/plain": [
       "<Figure size 432x288 with 1 Axes>"
      ]
     },
     "metadata": {
      "needs_background": "light"
     },
     "output_type": "display_data"
    }
   ],
   "source": [
    "#散布図を描画\n",
    "color = ['red', 'blue', 'green','purple','orange','black']\n",
    "for i in range(6):\n",
    "    p = data_pca[KM.labels_ == i, :]\n",
    "    plt.scatter(p[:, 0], p[:, 1],color = color[i])\n",
    "\n",
    "plt.show()"
   ]
  },
  {
   "cell_type": "code",
   "execution_count": 18,
   "metadata": {
    "scrolled": true
   },
   "outputs": [],
   "source": [
    "known_group = data_set.iloc[:,:2]\n",
    "#known_group"
   ]
  },
  {
   "cell_type": "code",
   "execution_count": 122,
   "metadata": {},
   "outputs": [
    {
     "data": {
      "text/plain": [
       "<seaborn.axisgrid.PairGrid at 0x1a20120080>"
      ]
     },
     "execution_count": 122,
     "metadata": {},
     "output_type": "execute_result"
    },
    {
     "data": {
      "image/png": "[encoded data removed]",
      "text/plain": [
       "<Figure size 360x360 with 6 Axes>"
      ]
     },
     "metadata": {
      "needs_background": "light"
     },
     "output_type": "display_data"
    }
   ],
   "source": [
    "sns.pairplot(known_group)"
   ]
  },
  {
   "cell_type": "markdown",
   "metadata": {},
   "source": [
    "➡︎問題１０で扱った６つの特徴量とは違い、すでにChannel\tは２つ、Regionは３つに分かれている。\n",
    "\n",
    "\n",
    "６つのクラスタはそれぞれ購入金額であり、比例尺度である。\n",
    "\n",
    "\n",
    "そして既知のグループの二つが、名前の通り経路と地域であるとするなら、これら二つは名義尺度である。"
   ]
  },
  {
   "cell_type": "markdown",
   "metadata": {},
   "source": [
    "# 【問題12】卸売業者にとって有益な情報\n",
    "\n",
    "\n",
    "卸売業者にとって有益な情報を探し出し文章にまとめてください。\n",
    "\n",
    "\n",
    "《ヒント》\n",
    "\n",
    "\n",
    "前処理を行う前のデータを使い、各クラスタの要約統計量を見るなどしてみましょう。\n",
    "\n",
    "また、PCAで次元削減したデータに対してK-meansを使用しましたが、\n",
    "\n",
    "6個の特徴量をそのまま使ったり、一部の特徴量のみを使ったりということも試してみてください。\n",
    "\n",
    "既知のグループとの比較結果も参考にしてください。\n",
    "\n",
    "\n",
    "条件ごとにデータを見る際にはPandasのgroupbyが便利です。\n",
    "\n",
    "\n",
    "pandas.DataFrame.groupby — pandas 0.23.4 documentation"
   ]
  },
  {
   "cell_type": "code",
   "execution_count": 66,
   "metadata": {},
   "outputs": [],
   "source": [
    "#データにどのクラスタに属するのについての情報を追加\n",
    "data_set[\"Cluster\"] = labels\n",
    "#data_set"
   ]
  },
  {
   "cell_type": "code",
   "execution_count": 180,
   "metadata": {},
   "outputs": [
    {
     "data": {
      "text/html": [
       "<div>\n",
       "<style scoped>\n",
       "    .dataframe tbody tr th:only-of-type {\n",
       "        vertical-align: middle;\n",
       "    }\n",
       "\n",
       "    .dataframe tbody tr th {\n",
       "        vertical-align: top;\n",
       "    }\n",
       "\n",
       "    .dataframe thead th {\n",
       "        text-align: right;\n",
       "    }\n",
       "</style>\n",
       "<table border=\"1\" class=\"dataframe\">\n",
       "  <thead>\n",
       "    <tr style=\"text-align: right;\">\n",
       "      <th></th>\n",
       "      <th>count</th>\n",
       "      <th>mean</th>\n",
       "      <th>std</th>\n",
       "      <th>min</th>\n",
       "      <th>25%</th>\n",
       "      <th>50%</th>\n",
       "      <th>75%</th>\n",
       "      <th>max</th>\n",
       "    </tr>\n",
       "  </thead>\n",
       "  <tbody>\n",
       "    <tr>\n",
       "      <th>Channel</th>\n",
       "      <td>440.0</td>\n",
       "      <td>1.322727</td>\n",
       "      <td>0.468052</td>\n",
       "      <td>1.0</td>\n",
       "      <td>1.00</td>\n",
       "      <td>1.0</td>\n",
       "      <td>2.00</td>\n",
       "      <td>2.0</td>\n",
       "    </tr>\n",
       "    <tr>\n",
       "      <th>Region</th>\n",
       "      <td>440.0</td>\n",
       "      <td>2.543182</td>\n",
       "      <td>0.774272</td>\n",
       "      <td>1.0</td>\n",
       "      <td>2.00</td>\n",
       "      <td>3.0</td>\n",
       "      <td>3.00</td>\n",
       "      <td>3.0</td>\n",
       "    </tr>\n",
       "    <tr>\n",
       "      <th>Fresh</th>\n",
       "      <td>440.0</td>\n",
       "      <td>12000.297727</td>\n",
       "      <td>12647.328865</td>\n",
       "      <td>3.0</td>\n",
       "      <td>3127.75</td>\n",
       "      <td>8504.0</td>\n",
       "      <td>16933.75</td>\n",
       "      <td>112151.0</td>\n",
       "    </tr>\n",
       "    <tr>\n",
       "      <th>Milk</th>\n",
       "      <td>440.0</td>\n",
       "      <td>5796.265909</td>\n",
       "      <td>7380.377175</td>\n",
       "      <td>55.0</td>\n",
       "      <td>1533.00</td>\n",
       "      <td>3627.0</td>\n",
       "      <td>7190.25</td>\n",
       "      <td>73498.0</td>\n",
       "    </tr>\n",
       "    <tr>\n",
       "      <th>Grocery</th>\n",
       "      <td>440.0</td>\n",
       "      <td>7951.277273</td>\n",
       "      <td>9503.162829</td>\n",
       "      <td>3.0</td>\n",
       "      <td>2153.00</td>\n",
       "      <td>4755.5</td>\n",
       "      <td>10655.75</td>\n",
       "      <td>92780.0</td>\n",
       "    </tr>\n",
       "    <tr>\n",
       "      <th>Frozen</th>\n",
       "      <td>440.0</td>\n",
       "      <td>3071.931818</td>\n",
       "      <td>4854.673333</td>\n",
       "      <td>25.0</td>\n",
       "      <td>742.25</td>\n",
       "      <td>1526.0</td>\n",
       "      <td>3554.25</td>\n",
       "      <td>60869.0</td>\n",
       "    </tr>\n",
       "    <tr>\n",
       "      <th>Detergents_Paper</th>\n",
       "      <td>440.0</td>\n",
       "      <td>2881.493182</td>\n",
       "      <td>4767.854448</td>\n",
       "      <td>3.0</td>\n",
       "      <td>256.75</td>\n",
       "      <td>816.5</td>\n",
       "      <td>3922.00</td>\n",
       "      <td>40827.0</td>\n",
       "    </tr>\n",
       "    <tr>\n",
       "      <th>Delicassen</th>\n",
       "      <td>440.0</td>\n",
       "      <td>1524.870455</td>\n",
       "      <td>2820.105937</td>\n",
       "      <td>3.0</td>\n",
       "      <td>408.25</td>\n",
       "      <td>965.5</td>\n",
       "      <td>1820.25</td>\n",
       "      <td>47943.0</td>\n",
       "    </tr>\n",
       "    <tr>\n",
       "      <th>Cluster</th>\n",
       "      <td>440.0</td>\n",
       "      <td>1.063636</td>\n",
       "      <td>0.915842</td>\n",
       "      <td>0.0</td>\n",
       "      <td>0.00</td>\n",
       "      <td>1.0</td>\n",
       "      <td>1.00</td>\n",
       "      <td>5.0</td>\n",
       "    </tr>\n",
       "  </tbody>\n",
       "</table>\n",
       "</div>"
      ],
      "text/plain": [
       "                  count          mean           std   min      25%     50%  \\\n",
       "Channel           440.0      1.322727      0.468052   1.0     1.00     1.0   \n",
       "Region            440.0      2.543182      0.774272   1.0     2.00     3.0   \n",
       "Fresh             440.0  12000.297727  12647.328865   3.0  3127.75  8504.0   \n",
       "Milk              440.0   5796.265909   7380.377175  55.0  1533.00  3627.0   \n",
       "Grocery           440.0   7951.277273   9503.162829   3.0  2153.00  4755.5   \n",
       "Frozen            440.0   3071.931818   4854.673333  25.0   742.25  1526.0   \n",
       "Detergents_Paper  440.0   2881.493182   4767.854448   3.0   256.75   816.5   \n",
       "Delicassen        440.0   1524.870455   2820.105937   3.0   408.25   965.5   \n",
       "Cluster           440.0      1.063636      0.915842   0.0     0.00     1.0   \n",
       "\n",
       "                       75%       max  \n",
       "Channel               2.00       2.0  \n",
       "Region                3.00       3.0  \n",
       "Fresh             16933.75  112151.0  \n",
       "Milk               7190.25   73498.0  \n",
       "Grocery           10655.75   92780.0  \n",
       "Frozen             3554.25   60869.0  \n",
       "Detergents_Paper   3922.00   40827.0  \n",
       "Delicassen         1820.25   47943.0  \n",
       "Cluster               1.00       5.0  "
      ]
     },
     "execution_count": 180,
     "metadata": {},
     "output_type": "execute_result"
    }
   ],
   "source": [
    "#データの概観\n",
    "data_set.describe(include='all').transpose()"
   ]
  },
  {
   "cell_type": "markdown",
   "metadata": {},
   "source": [
    "分析１：\n",
    "\n",
    "➡︎生鮮食品と食糧雑貨と牛乳の購入される金額が特に多い"
   ]
  },
  {
   "cell_type": "code",
   "execution_count": 181,
   "metadata": {},
   "outputs": [
    {
     "data": {
      "text/plain": [
       "<matplotlib.axes._subplots.AxesSubplot at 0x1a29b08c18>"
      ]
     },
     "execution_count": 181,
     "metadata": {},
     "output_type": "execute_result"
    },
    {
     "data": {
      "image/png": "[encoded data removed]",
      "text/plain": [
       "<Figure size 432x288 with 1 Axes>"
      ]
     },
     "metadata": {
      "needs_background": "light"
     },
     "output_type": "display_data"
    }
   ],
   "source": [
    "#各クラスタの数\n",
    "sns.countplot(data_set[\"Cluster\"])"
   ]
  },
  {
   "cell_type": "markdown",
   "metadata": {},
   "source": [
    "分析２：\n",
    "\n",
    "➡︎各クラスタ間で属している数が違う。多いクラスタと少ないクラスタの差が顕著"
   ]
  },
  {
   "cell_type": "code",
   "execution_count": 182,
   "metadata": {
    "scrolled": false
   },
   "outputs": [
    {
     "data": {
      "text/html": [
       "<div>\n",
       "<style scoped>\n",
       "    .dataframe tbody tr th:only-of-type {\n",
       "        vertical-align: middle;\n",
       "    }\n",
       "\n",
       "    .dataframe tbody tr th {\n",
       "        vertical-align: top;\n",
       "    }\n",
       "\n",
       "    .dataframe thead th {\n",
       "        text-align: right;\n",
       "    }\n",
       "</style>\n",
       "<table border=\"1\" class=\"dataframe\">\n",
       "  <thead>\n",
       "    <tr style=\"text-align: right;\">\n",
       "      <th></th>\n",
       "      <th>Channel</th>\n",
       "      <th>Region</th>\n",
       "      <th>Fresh</th>\n",
       "      <th>Milk</th>\n",
       "      <th>Grocery</th>\n",
       "      <th>Frozen</th>\n",
       "      <th>Detergents_Paper</th>\n",
       "      <th>Delicassen</th>\n",
       "      <th>Cluster</th>\n",
       "    </tr>\n",
       "  </thead>\n",
       "  <tbody>\n",
       "    <tr>\n",
       "      <th>Channel</th>\n",
       "      <td>1.000000</td>\n",
       "      <td>0.062028</td>\n",
       "      <td>-0.169172</td>\n",
       "      <td>0.460720</td>\n",
       "      <td>0.608792</td>\n",
       "      <td>-0.202046</td>\n",
       "      <td>0.636026</td>\n",
       "      <td>0.056011</td>\n",
       "      <td>0.318647</td>\n",
       "    </tr>\n",
       "    <tr>\n",
       "      <th>Region</th>\n",
       "      <td>0.062028</td>\n",
       "      <td>1.000000</td>\n",
       "      <td>0.055287</td>\n",
       "      <td>0.032288</td>\n",
       "      <td>0.007696</td>\n",
       "      <td>-0.021044</td>\n",
       "      <td>-0.001483</td>\n",
       "      <td>0.045212</td>\n",
       "      <td>0.021815</td>\n",
       "    </tr>\n",
       "    <tr>\n",
       "      <th>Fresh</th>\n",
       "      <td>-0.169172</td>\n",
       "      <td>0.055287</td>\n",
       "      <td>1.000000</td>\n",
       "      <td>0.100510</td>\n",
       "      <td>-0.011854</td>\n",
       "      <td>0.345881</td>\n",
       "      <td>-0.101953</td>\n",
       "      <td>0.244690</td>\n",
       "      <td>0.123670</td>\n",
       "    </tr>\n",
       "    <tr>\n",
       "      <th>Milk</th>\n",
       "      <td>0.460720</td>\n",
       "      <td>0.032288</td>\n",
       "      <td>0.100510</td>\n",
       "      <td>1.000000</td>\n",
       "      <td>0.728335</td>\n",
       "      <td>0.123994</td>\n",
       "      <td>0.661816</td>\n",
       "      <td>0.406368</td>\n",
       "      <td>0.536965</td>\n",
       "    </tr>\n",
       "    <tr>\n",
       "      <th>Grocery</th>\n",
       "      <td>0.608792</td>\n",
       "      <td>0.007696</td>\n",
       "      <td>-0.011854</td>\n",
       "      <td>0.728335</td>\n",
       "      <td>1.000000</td>\n",
       "      <td>-0.040193</td>\n",
       "      <td>0.924641</td>\n",
       "      <td>0.205497</td>\n",
       "      <td>0.577312</td>\n",
       "    </tr>\n",
       "    <tr>\n",
       "      <th>Frozen</th>\n",
       "      <td>-0.202046</td>\n",
       "      <td>-0.021044</td>\n",
       "      <td>0.345881</td>\n",
       "      <td>0.123994</td>\n",
       "      <td>-0.040193</td>\n",
       "      <td>1.000000</td>\n",
       "      <td>-0.131525</td>\n",
       "      <td>0.390947</td>\n",
       "      <td>0.095507</td>\n",
       "    </tr>\n",
       "    <tr>\n",
       "      <th>Detergents_Paper</th>\n",
       "      <td>0.636026</td>\n",
       "      <td>-0.001483</td>\n",
       "      <td>-0.101953</td>\n",
       "      <td>0.661816</td>\n",
       "      <td>0.924641</td>\n",
       "      <td>-0.131525</td>\n",
       "      <td>1.000000</td>\n",
       "      <td>0.069291</td>\n",
       "      <td>0.562842</td>\n",
       "    </tr>\n",
       "    <tr>\n",
       "      <th>Delicassen</th>\n",
       "      <td>0.056011</td>\n",
       "      <td>0.045212</td>\n",
       "      <td>0.244690</td>\n",
       "      <td>0.406368</td>\n",
       "      <td>0.205497</td>\n",
       "      <td>0.390947</td>\n",
       "      <td>0.069291</td>\n",
       "      <td>1.000000</td>\n",
       "      <td>0.203122</td>\n",
       "    </tr>\n",
       "    <tr>\n",
       "      <th>Cluster</th>\n",
       "      <td>0.318647</td>\n",
       "      <td>0.021815</td>\n",
       "      <td>0.123670</td>\n",
       "      <td>0.536965</td>\n",
       "      <td>0.577312</td>\n",
       "      <td>0.095507</td>\n",
       "      <td>0.562842</td>\n",
       "      <td>0.203122</td>\n",
       "      <td>1.000000</td>\n",
       "    </tr>\n",
       "  </tbody>\n",
       "</table>\n",
       "</div>"
      ],
      "text/plain": [
       "                   Channel    Region     Fresh      Milk   Grocery    Frozen  \\\n",
       "Channel           1.000000  0.062028 -0.169172  0.460720  0.608792 -0.202046   \n",
       "Region            0.062028  1.000000  0.055287  0.032288  0.007696 -0.021044   \n",
       "Fresh            -0.169172  0.055287  1.000000  0.100510 -0.011854  0.345881   \n",
       "Milk              0.460720  0.032288  0.100510  1.000000  0.728335  0.123994   \n",
       "Grocery           0.608792  0.007696 -0.011854  0.728335  1.000000 -0.040193   \n",
       "Frozen           -0.202046 -0.021044  0.345881  0.123994 -0.040193  1.000000   \n",
       "Detergents_Paper  0.636026 -0.001483 -0.101953  0.661816  0.924641 -0.131525   \n",
       "Delicassen        0.056011  0.045212  0.244690  0.406368  0.205497  0.390947   \n",
       "Cluster           0.318647  0.021815  0.123670  0.536965  0.577312  0.095507   \n",
       "\n",
       "                  Detergents_Paper  Delicassen   Cluster  \n",
       "Channel                   0.636026    0.056011  0.318647  \n",
       "Region                   -0.001483    0.045212  0.021815  \n",
       "Fresh                    -0.101953    0.244690  0.123670  \n",
       "Milk                      0.661816    0.406368  0.536965  \n",
       "Grocery                   0.924641    0.205497  0.577312  \n",
       "Frozen                   -0.131525    0.390947  0.095507  \n",
       "Detergents_Paper          1.000000    0.069291  0.562842  \n",
       "Delicassen                0.069291    1.000000  0.203122  \n",
       "Cluster                   0.562842    0.203122  1.000000  "
      ]
     },
     "metadata": {},
     "output_type": "display_data"
    },
    {
     "data": {
      "text/plain": [
       "<matplotlib.axes._subplots.AxesSubplot at 0x1a2a110d68>"
      ]
     },
     "execution_count": 182,
     "metadata": {},
     "output_type": "execute_result"
    },
    {
     "data": {
      "image/png": "[encoded data removed]",
      "text/plain": [
       "<Figure size 432x288 with 2 Axes>"
      ]
     },
     "metadata": {
      "needs_background": "light"
     },
     "output_type": "display_data"
    }
   ],
   "source": [
    "#相関関係\n",
    "data_corr = data_set.corr()\n",
    "display(data_corr)\n",
    "sns.heatmap(data_corr,annot=True)"
   ]
  },
  {
   "cell_type": "markdown",
   "metadata": {},
   "source": [
    "分析３\n",
    "\n",
    "➡︎衛生用品(Detergents_Paper)と食糧雑貨(Grocery)に強い相関が見られた➡︎この二つを多く買う顧客がいると考えられる。"
   ]
  },
  {
   "cell_type": "code",
   "execution_count": 20,
   "metadata": {},
   "outputs": [],
   "source": [
    "#各クラスタをエンコーディングして各クラスタと各特徴量の相関を算出\n",
    "from sklearn.preprocessing import OneHotEncoder\n",
    "data_set['Cluster'] = data_set['Cluster'].astype(str)\n",
    "df_one_hot_encoded = pd.get_dummies(data_set)\n",
    "#display(df_one_hot_encoded)"
   ]
  },
  {
   "cell_type": "code",
   "execution_count": 177,
   "metadata": {},
   "outputs": [
    {
     "data": {
      "text/html": [
       "<div>\n",
       "<style scoped>\n",
       "    .dataframe tbody tr th:only-of-type {\n",
       "        vertical-align: middle;\n",
       "    }\n",
       "\n",
       "    .dataframe tbody tr th {\n",
       "        vertical-align: top;\n",
       "    }\n",
       "\n",
       "    .dataframe thead th {\n",
       "        text-align: right;\n",
       "    }\n",
       "</style>\n",
       "<table border=\"1\" class=\"dataframe\">\n",
       "  <thead>\n",
       "    <tr style=\"text-align: right;\">\n",
       "      <th></th>\n",
       "      <th>Channel</th>\n",
       "      <th>Region</th>\n",
       "      <th>Fresh</th>\n",
       "      <th>Milk</th>\n",
       "      <th>Grocery</th>\n",
       "      <th>Frozen</th>\n",
       "      <th>Detergents_Paper</th>\n",
       "      <th>Delicassen</th>\n",
       "      <th>Cluster_0</th>\n",
       "      <th>Cluster_1</th>\n",
       "      <th>Cluster_2</th>\n",
       "      <th>Cluster_3</th>\n",
       "      <th>Cluster_4</th>\n",
       "      <th>Cluster_5</th>\n",
       "    </tr>\n",
       "  </thead>\n",
       "  <tbody>\n",
       "    <tr>\n",
       "      <th>Channel</th>\n",
       "      <td>1.000000</td>\n",
       "      <td>0.062028</td>\n",
       "      <td>-0.169172</td>\n",
       "      <td>0.460720</td>\n",
       "      <td>0.608792</td>\n",
       "      <td>-0.202046</td>\n",
       "      <td>0.636026</td>\n",
       "      <td>0.056011</td>\n",
       "      <td>-0.160991</td>\n",
       "      <td>-0.265161</td>\n",
       "      <td>0.582589</td>\n",
       "      <td>-0.113755</td>\n",
       "      <td>-0.046646</td>\n",
       "      <td>0.155312</td>\n",
       "    </tr>\n",
       "    <tr>\n",
       "      <th>Region</th>\n",
       "      <td>0.062028</td>\n",
       "      <td>1.000000</td>\n",
       "      <td>0.055287</td>\n",
       "      <td>0.032288</td>\n",
       "      <td>0.007696</td>\n",
       "      <td>-0.021044</td>\n",
       "      <td>-0.001483</td>\n",
       "      <td>0.045212</td>\n",
       "      <td>0.004173</td>\n",
       "      <td>-0.001777</td>\n",
       "      <td>-0.044463</td>\n",
       "      <td>0.054608</td>\n",
       "      <td>-0.003773</td>\n",
       "      <td>0.035601</td>\n",
       "    </tr>\n",
       "    <tr>\n",
       "      <th>Fresh</th>\n",
       "      <td>-0.169172</td>\n",
       "      <td>0.055287</td>\n",
       "      <td>1.000000</td>\n",
       "      <td>0.100510</td>\n",
       "      <td>-0.011854</td>\n",
       "      <td>0.345881</td>\n",
       "      <td>-0.101953</td>\n",
       "      <td>0.244690</td>\n",
       "      <td>0.400183</td>\n",
       "      <td>-0.518459</td>\n",
       "      <td>-0.235852</td>\n",
       "      <td>0.690981</td>\n",
       "      <td>0.121859</td>\n",
       "      <td>0.115441</td>\n",
       "    </tr>\n",
       "    <tr>\n",
       "      <th>Milk</th>\n",
       "      <td>0.460720</td>\n",
       "      <td>0.032288</td>\n",
       "      <td>0.100510</td>\n",
       "      <td>1.000000</td>\n",
       "      <td>0.728335</td>\n",
       "      <td>0.123994</td>\n",
       "      <td>0.661816</td>\n",
       "      <td>0.406368</td>\n",
       "      <td>-0.160154</td>\n",
       "      <td>-0.312066</td>\n",
       "      <td>0.440003</td>\n",
       "      <td>-0.041976</td>\n",
       "      <td>0.225222</td>\n",
       "      <td>0.547755</td>\n",
       "    </tr>\n",
       "    <tr>\n",
       "      <th>Grocery</th>\n",
       "      <td>0.608792</td>\n",
       "      <td>0.007696</td>\n",
       "      <td>-0.011854</td>\n",
       "      <td>0.728335</td>\n",
       "      <td>1.000000</td>\n",
       "      <td>-0.040193</td>\n",
       "      <td>0.924641</td>\n",
       "      <td>0.205497</td>\n",
       "      <td>-0.177205</td>\n",
       "      <td>-0.373925</td>\n",
       "      <td>0.571646</td>\n",
       "      <td>-0.065889</td>\n",
       "      <td>0.063689</td>\n",
       "      <td>0.604491</td>\n",
       "    </tr>\n",
       "    <tr>\n",
       "      <th>Frozen</th>\n",
       "      <td>-0.202046</td>\n",
       "      <td>-0.021044</td>\n",
       "      <td>0.345881</td>\n",
       "      <td>0.123994</td>\n",
       "      <td>-0.040193</td>\n",
       "      <td>1.000000</td>\n",
       "      <td>-0.131525</td>\n",
       "      <td>0.390947</td>\n",
       "      <td>0.111182</td>\n",
       "      <td>-0.145916</td>\n",
       "      <td>-0.126452</td>\n",
       "      <td>0.133591</td>\n",
       "      <td>0.635855</td>\n",
       "      <td>-0.009638</td>\n",
       "    </tr>\n",
       "    <tr>\n",
       "      <th>Detergents_Paper</th>\n",
       "      <td>0.636026</td>\n",
       "      <td>-0.001483</td>\n",
       "      <td>-0.101953</td>\n",
       "      <td>0.661816</td>\n",
       "      <td>0.924641</td>\n",
       "      <td>-0.131525</td>\n",
       "      <td>1.000000</td>\n",
       "      <td>0.069291</td>\n",
       "      <td>-0.216177</td>\n",
       "      <td>-0.312998</td>\n",
       "      <td>0.566901</td>\n",
       "      <td>-0.093131</td>\n",
       "      <td>-0.030166</td>\n",
       "      <td>0.609907</td>\n",
       "    </tr>\n",
       "    <tr>\n",
       "      <th>Delicassen</th>\n",
       "      <td>0.056011</td>\n",
       "      <td>0.045212</td>\n",
       "      <td>0.244690</td>\n",
       "      <td>0.406368</td>\n",
       "      <td>0.205497</td>\n",
       "      <td>0.390947</td>\n",
       "      <td>0.069291</td>\n",
       "      <td>1.000000</td>\n",
       "      <td>0.023832</td>\n",
       "      <td>-0.190511</td>\n",
       "      <td>0.064324</td>\n",
       "      <td>0.071628</td>\n",
       "      <td>0.605742</td>\n",
       "      <td>0.045060</td>\n",
       "    </tr>\n",
       "    <tr>\n",
       "      <th>Cluster_0</th>\n",
       "      <td>-0.160991</td>\n",
       "      <td>0.004173</td>\n",
       "      <td>0.400183</td>\n",
       "      <td>-0.160154</td>\n",
       "      <td>-0.177205</td>\n",
       "      <td>0.111182</td>\n",
       "      <td>-0.216177</td>\n",
       "      <td>0.023832</td>\n",
       "      <td>1.000000</td>\n",
       "      <td>-0.606860</td>\n",
       "      <td>-0.257858</td>\n",
       "      <td>-0.134862</td>\n",
       "      <td>-0.039723</td>\n",
       "      <td>-0.063024</td>\n",
       "    </tr>\n",
       "    <tr>\n",
       "      <th>Cluster_1</th>\n",
       "      <td>-0.265161</td>\n",
       "      <td>-0.001777</td>\n",
       "      <td>-0.518459</td>\n",
       "      <td>-0.312066</td>\n",
       "      <td>-0.373925</td>\n",
       "      <td>-0.145916</td>\n",
       "      <td>-0.312998</td>\n",
       "      <td>-0.190511</td>\n",
       "      <td>-0.606860</td>\n",
       "      <td>1.000000</td>\n",
       "      <td>-0.452834</td>\n",
       "      <td>-0.236835</td>\n",
       "      <td>-0.069759</td>\n",
       "      <td>-0.110679</td>\n",
       "    </tr>\n",
       "    <tr>\n",
       "      <th>Cluster_2</th>\n",
       "      <td>0.582589</td>\n",
       "      <td>-0.044463</td>\n",
       "      <td>-0.235852</td>\n",
       "      <td>0.440003</td>\n",
       "      <td>0.571646</td>\n",
       "      <td>-0.126452</td>\n",
       "      <td>0.566901</td>\n",
       "      <td>0.064324</td>\n",
       "      <td>-0.257858</td>\n",
       "      <td>-0.452834</td>\n",
       "      <td>1.000000</td>\n",
       "      <td>-0.100633</td>\n",
       "      <td>-0.029641</td>\n",
       "      <td>-0.047028</td>\n",
       "    </tr>\n",
       "    <tr>\n",
       "      <th>Cluster_3</th>\n",
       "      <td>-0.113755</td>\n",
       "      <td>0.054608</td>\n",
       "      <td>0.690981</td>\n",
       "      <td>-0.041976</td>\n",
       "      <td>-0.065889</td>\n",
       "      <td>0.133591</td>\n",
       "      <td>-0.093131</td>\n",
       "      <td>0.071628</td>\n",
       "      <td>-0.134862</td>\n",
       "      <td>-0.236835</td>\n",
       "      <td>-0.100633</td>\n",
       "      <td>1.000000</td>\n",
       "      <td>-0.015502</td>\n",
       "      <td>-0.024596</td>\n",
       "    </tr>\n",
       "    <tr>\n",
       "      <th>Cluster_4</th>\n",
       "      <td>-0.046646</td>\n",
       "      <td>-0.003773</td>\n",
       "      <td>0.121859</td>\n",
       "      <td>0.225222</td>\n",
       "      <td>0.063689</td>\n",
       "      <td>0.635855</td>\n",
       "      <td>-0.030166</td>\n",
       "      <td>0.605742</td>\n",
       "      <td>-0.039723</td>\n",
       "      <td>-0.069759</td>\n",
       "      <td>-0.029641</td>\n",
       "      <td>-0.015502</td>\n",
       "      <td>1.000000</td>\n",
       "      <td>-0.007245</td>\n",
       "    </tr>\n",
       "    <tr>\n",
       "      <th>Cluster_5</th>\n",
       "      <td>0.155312</td>\n",
       "      <td>0.035601</td>\n",
       "      <td>0.115441</td>\n",
       "      <td>0.547755</td>\n",
       "      <td>0.604491</td>\n",
       "      <td>-0.009638</td>\n",
       "      <td>0.609907</td>\n",
       "      <td>0.045060</td>\n",
       "      <td>-0.063024</td>\n",
       "      <td>-0.110679</td>\n",
       "      <td>-0.047028</td>\n",
       "      <td>-0.024596</td>\n",
       "      <td>-0.007245</td>\n",
       "      <td>1.000000</td>\n",
       "    </tr>\n",
       "  </tbody>\n",
       "</table>\n",
       "</div>"
      ],
      "text/plain": [
       "                   Channel    Region     Fresh      Milk   Grocery    Frozen  \\\n",
       "Channel           1.000000  0.062028 -0.169172  0.460720  0.608792 -0.202046   \n",
       "Region            0.062028  1.000000  0.055287  0.032288  0.007696 -0.021044   \n",
       "Fresh            -0.169172  0.055287  1.000000  0.100510 -0.011854  0.345881   \n",
       "Milk              0.460720  0.032288  0.100510  1.000000  0.728335  0.123994   \n",
       "Grocery           0.608792  0.007696 -0.011854  0.728335  1.000000 -0.040193   \n",
       "Frozen           -0.202046 -0.021044  0.345881  0.123994 -0.040193  1.000000   \n",
       "Detergents_Paper  0.636026 -0.001483 -0.101953  0.661816  0.924641 -0.131525   \n",
       "Delicassen        0.056011  0.045212  0.244690  0.406368  0.205497  0.390947   \n",
       "Cluster_0        -0.160991  0.004173  0.400183 -0.160154 -0.177205  0.111182   \n",
       "Cluster_1        -0.265161 -0.001777 -0.518459 -0.312066 -0.373925 -0.145916   \n",
       "Cluster_2         0.582589 -0.044463 -0.235852  0.440003  0.571646 -0.126452   \n",
       "Cluster_3        -0.113755  0.054608  0.690981 -0.041976 -0.065889  0.133591   \n",
       "Cluster_4        -0.046646 -0.003773  0.121859  0.225222  0.063689  0.635855   \n",
       "Cluster_5         0.155312  0.035601  0.115441  0.547755  0.604491 -0.009638   \n",
       "\n",
       "                  Detergents_Paper  Delicassen  Cluster_0  Cluster_1  \\\n",
       "Channel                   0.636026    0.056011  -0.160991  -0.265161   \n",
       "Region                   -0.001483    0.045212   0.004173  -0.001777   \n",
       "Fresh                    -0.101953    0.244690   0.400183  -0.518459   \n",
       "Milk                      0.661816    0.406368  -0.160154  -0.312066   \n",
       "Grocery                   0.924641    0.205497  -0.177205  -0.373925   \n",
       "Frozen                   -0.131525    0.390947   0.111182  -0.145916   \n",
       "Detergents_Paper          1.000000    0.069291  -0.216177  -0.312998   \n",
       "Delicassen                0.069291    1.000000   0.023832  -0.190511   \n",
       "Cluster_0                -0.216177    0.023832   1.000000  -0.606860   \n",
       "Cluster_1                -0.312998   -0.190511  -0.606860   1.000000   \n",
       "Cluster_2                 0.566901    0.064324  -0.257858  -0.452834   \n",
       "Cluster_3                -0.093131    0.071628  -0.134862  -0.236835   \n",
       "Cluster_4                -0.030166    0.605742  -0.039723  -0.069759   \n",
       "Cluster_5                 0.609907    0.045060  -0.063024  -0.110679   \n",
       "\n",
       "                  Cluster_2  Cluster_3  Cluster_4  Cluster_5  \n",
       "Channel            0.582589  -0.113755  -0.046646   0.155312  \n",
       "Region            -0.044463   0.054608  -0.003773   0.035601  \n",
       "Fresh             -0.235852   0.690981   0.121859   0.115441  \n",
       "Milk               0.440003  -0.041976   0.225222   0.547755  \n",
       "Grocery            0.571646  -0.065889   0.063689   0.604491  \n",
       "Frozen            -0.126452   0.133591   0.635855  -0.009638  \n",
       "Detergents_Paper   0.566901  -0.093131  -0.030166   0.609907  \n",
       "Delicassen         0.064324   0.071628   0.605742   0.045060  \n",
       "Cluster_0         -0.257858  -0.134862  -0.039723  -0.063024  \n",
       "Cluster_1         -0.452834  -0.236835  -0.069759  -0.110679  \n",
       "Cluster_2          1.000000  -0.100633  -0.029641  -0.047028  \n",
       "Cluster_3         -0.100633   1.000000  -0.015502  -0.024596  \n",
       "Cluster_4         -0.029641  -0.015502   1.000000  -0.007245  \n",
       "Cluster_5         -0.047028  -0.024596  -0.007245   1.000000  "
      ]
     },
     "metadata": {},
     "output_type": "display_data"
    },
    {
     "data": {
      "text/plain": [
       "<matplotlib.axes._subplots.AxesSubplot at 0x1a292b6518>"
      ]
     },
     "execution_count": 177,
     "metadata": {},
     "output_type": "execute_result"
    },
    {
     "data": {
      "image/png": "[encoded data removed]",
      "text/plain": [
       "<Figure size 1440x720 with 2 Axes>"
      ]
     },
     "metadata": {
      "needs_background": "light"
     },
     "output_type": "display_data"
    }
   ],
   "source": [
    "plt.figure(figsize=(20, 10))\n",
    "encode_corr = df_one_hot_encoded.corr()\n",
    "display(encode_corr)\n",
    "sns.heatmap(encode_corr,annot=True)"
   ]
  },
  {
   "cell_type": "markdown",
   "metadata": {},
   "source": [
    "分析４\n",
    "\n",
    "➡︎各クラスタと特徴量間に特に強い相関はない。\n",
    "\n",
    "しかし、分析３で見られた衛生用品（Detergents_Paper）と食糧雑貨(Grocery)がクラスタ２と同じ相関係数を示していた（0.57）\n",
    "\n",
    "決して高い相関ではないため断定はできないが、この二つを買うような顧客のクラスタはクラスタ２に属するのかもしれない。\n",
    "\n"
   ]
  },
  {
   "cell_type": "code",
   "execution_count": 67,
   "metadata": {},
   "outputs": [],
   "source": [
    "cluster_0 = data_set[data_set[\"Cluster\"].isin([\"0\"])].reset_index(drop=True)\n",
    "cluster_0[\"unit_price\"] = cluster_0.iloc[:,2:7].sum(axis=1)\n",
    "#display(cluster_0)\n",
    "cluster_1 = data_set[data_set[\"Cluster\"].isin([\"1\"])].reset_index(drop=True)\n",
    "cluster_1[\"unit_price\"] = cluster_1.iloc[:,2:7].sum(axis=1)\n",
    "#display(cluster_1)\n",
    "cluster_2 = data_set[data_set[\"Cluster\"].isin([\"2\"])].reset_index(drop=True)\n",
    "cluster_2[\"unit_price\"] = cluster_2.iloc[:,2:7].sum(axis=1)\n",
    "#display(cluster_2)\n",
    "cluster_3 = data_set[data_set[\"Cluster\"].isin([\"3\"])].reset_index(drop=True)\n",
    "cluster_3[\"unit_price\"] = cluster_3.iloc[:,2:7].sum(axis=1)\n",
    "#display(cluster_3)\n",
    "cluster_4 = data_set[data_set[\"Cluster\"].isin([\"4\"])].reset_index(drop=True)\n",
    "cluster_4[\"unit_price\"] = cluster_4.iloc[:,2:7].sum(axis=1)\n",
    "#display(cluster_4)\n",
    "cluster_5 = data_set[data_set[\"Cluster\"].isin([\"5\"])].reset_index(drop=True)\n",
    "cluster_5[\"unit_price\"] = cluster_5.iloc[:,2:7].sum(axis=1)\n",
    "#display(cluster_5)"
   ]
  },
  {
   "cell_type": "code",
   "execution_count": 232,
   "metadata": {},
   "outputs": [
    {
     "name": "stdout",
     "output_type": "stream",
     "text": [
      "クラスタ0の平均顧客単価は34597\n",
      "クラスタ1の平均顧客単価は17561\n",
      "クラスタ2の平均顧客単価は49431\n",
      "クラスタ3の平均顧客単価は66566\n",
      "クラスタ4の平均顧客単価は131504\n",
      "クラスタ５の平均顧客単価は163146\n"
     ]
    }
   ],
   "source": [
    "print(\"クラスタ0の平均顧客単価は{:.0f}\".format(cluster_0[\"unit_price\"].sum()/cluster_0.shape[0]))\n",
    "print(\"クラスタ1の平均顧客単価は{:.0f}\".format(cluster_1[\"unit_price\"].sum()/cluster_1.shape[0]))\n",
    "print(\"クラスタ2の平均顧客単価は{:.0f}\".format(cluster_2[\"unit_price\"].sum()/cluster_2.shape[0]))\n",
    "print(\"クラスタ3の平均顧客単価は{:.0f}\".format(cluster_3[\"unit_price\"].sum()/cluster_3.shape[0]))\n",
    "print(\"クラスタ4の平均顧客単価は{:.0f}\".format(cluster_4[\"unit_price\"].sum()/cluster_4.shape[0]))\n",
    "print(\"クラスタ５の平均顧客単価は{:.0f}\".format(cluster_5[\"unit_price\"].sum()/cluster_5.shape[0]))"
   ]
  },
  {
   "cell_type": "code",
   "execution_count": 228,
   "metadata": {},
   "outputs": [
    {
     "data": {
      "text/plain": [
       "<matplotlib.axes._subplots.AxesSubplot at 0x1a2a4681d0>"
      ]
     },
     "execution_count": 228,
     "metadata": {},
     "output_type": "execute_result"
    },
    {
     "data": {
      "image/png": "[encoded data removed]",
      "text/plain": [
       "<Figure size 432x288 with 1 Axes>"
      ]
     },
     "metadata": {
      "needs_background": "light"
     },
     "output_type": "display_data"
    }
   ],
   "source": [
    "#各クラスタの数（再掲）\n",
    "sns.countplot(data_set[\"Cluster\"])"
   ]
  },
  {
   "cell_type": "markdown",
   "metadata": {},
   "source": [
    "分析５：\n",
    "\n",
    "➡︎分析４にて言及したクラスタ２は、各クラスタにおける顧客数TOP３の中で最も顧客単価が高かった。"
   ]
  },
  {
   "cell_type": "markdown",
   "metadata": {},
   "source": [
    "# 考察：\n",
    "\n",
    "分析３・４より仮説として、クラスタ２に属する人を\n",
    "\n",
    "「衛生用品（Detergents_Paper）と食糧雑貨(Grocery)を多く買う人」\n",
    "\n",
    "とし、そんな顧客層を例えば一人暮らしの女性と仮定するなら(衛生用品や食糧雑貨に何が該当するか分からないためなんとも言えないが)、\n",
    "\n",
    "分析５より顧客単価が高いことが明らかになっており、このターゲット向けのキャンペーンを打ち出すことは効果的なのかもしれない。\n",
    "\n",
    "またこのクラスタは現状顧客数も多くないため、このクラスタに向けたキャンペーンを打ち出すことで他のスーパーとの差別化が図れ、\n",
    "\n",
    "このクラスタに属する人が近隣の他のスーパーではなく、この店を利用するきっかけになるかもしれない。・・・（飛躍気味ですが、、、）"
   ]
  },
  {
   "cell_type": "markdown",
   "metadata": {},
   "source": [
    "# 【問題13】（アドバンス課題）他の手法の調査\n",
    "\n",
    "今回扱ったK-means以外に非階層クラスタリングで有名な手法としては DBSCAN 、\n",
    "PCA以外に次元削減手法で有名な手法としては t-SNE や LLE があります。\n",
    "\n",
    "\n",
    "## DBSCAN\n",
    "\n",
    "### メリット\n",
    "* k-meansと違って，最初にクラスタ数を決めなくてよい\n",
    "* とがったクラスタでも分類できる。クラスタが球状であることを前提としない\n",
    "* パラメータがεとminPtsという二つでよい。また，パラメータの範囲も判断しやすい。\n",
    "\n",
    "### デメリット\n",
    "* border点の概念が微妙で，データによりどのクラスタに属するか変わる可能性がある。\n",
    "* 距離の計算方法により，精度が変わる。\n",
    "* データが密集していると適切にεとminPtsを決めるのが難しい。ほとんどの点を一つのクラスタに分類してしまう場合もデータがわからないとεを決めるのが難しい。\n",
    "* 次元が大きくなると次元の呪いの影響を受ける\n",
    "\n",
    "\n",
    "* t-SNE、LLEのメリット・デメリット\n",
    "\n",
    "\n",
    "## t-SNE\n",
    "\n",
    "### メリット\n",
    "* 線形では表現できない関係も学習して次元削減を行える\n",
    "* 可視化に特化しており、PCAなどと比較してより複雑なデータでも有効に働きやすい\n",
    "\n",
    "### デメリット\n",
    "* うまくいくことが保証されているのは2or3次元への圧縮のみ\n",
    "* 局所構造が次元の呪いの影響を受けやすい\n",
    "* 最適化アルゴリズムの収束性が保証されていない\n",
    "\n",
    "\n",
    "## LLE\n",
    "\n",
    "### メリット\n",
    "* 元々の空間で近かったものは、同じように近い場所に配置され、多様体をそのまま取り出してきたような結果になる\n",
    "* LLEは最適解が保証されている(ただしKはハイパーパラメータ)\n",
    "\n",
    "### デメリット\n",
    "* 複雑なデータになるとうまく可視化できない"
   ]
  },
  {
   "cell_type": "markdown",
   "metadata": {},
   "source": [
    "# 【問題14】（アドバンス課題）t-SNEとDBSCANの利用\n",
    "\n",
    "Wholesale customersのデータに対して、PCAではなく、 t-SNE を用いて次元削減をしてください。\n",
    "\n",
    "さらにK-meansではなく、 DBSCAN を用いてクラスタリングしてください。\n",
    "\n",
    "\n",
    "そのクラスタリング結果をPCA+kmeansの場合の結果と比較してみましょう。実装にはscikit-learnを用いてください。\n",
    "\n",
    "\n",
    "sklearn.manifold.TSNE — scikit-learn 0.20.2 documentation\n",
    "\n",
    "\n",
    "sklearn.cluster.DBSCAN — scikit-learn 0.20.2 documentation\n",
    "\n",
    "\n",
    "《パラメーターチューニング》\n",
    "\n",
    "\n",
    "これらはK-meansやPCAに比べパラメーターチューニングが難しい手法です。\n",
    "\n",
    "scikit-learnのドキュメントと共に論文も参考にしながらパラメータの意味を確認することも大切になります。\n",
    "\n"
   ]
  },
  {
   "cell_type": "code",
   "execution_count": 61,
   "metadata": {},
   "outputs": [
    {
     "name": "stdout",
     "output_type": "stream",
     "text": [
      "クラスタ:[-1  0  1  2  3  4  5  6  7  8  9]\n"
     ]
    },
    {
     "data": {
      "image/png": "[encoded data removed]",
      "text/plain": [
       "<Figure size 432x288 with 1 Axes>"
      ]
     },
     "metadata": {
      "needs_background": "light"
     },
     "output_type": "display_data"
    }
   ],
   "source": [
    "#  t-SNE を用いて次元削減\n",
    "tsne = TSNE(n_components = 2)\n",
    "data_tsne = tsne.fit_transform(data)\n",
    "\n",
    "# DBSCAN を用いてクラスタリング\n",
    "dbscan = DBSCAN(eps=2, min_samples=3)\n",
    "tsne_pred = dbscan.fit_predict(data_tsne)\n",
    "cluster = np.unique(tsne_pred)\n",
    "\n",
    "print(\"クラスタ:{}\".format(cluster))\n",
    "\n",
    "#散布図描画\n",
    "for i in range(len(cluster)):\n",
    "    data_i = data_tsne[np.where(tsne_pred==cluster[i])[0]]\n",
    "    plt.scatter(data_i[:, 0], data_i[:, 1])\n",
    "\n",
    "plt.show()"
   ]
  }
 ],
 "metadata": {
  "kernelspec": {
   "display_name": "Python 3",
   "language": "python",
   "name": "python3"
  },
  "language_info": {
   "codemirror_mode": {
    "name": "ipython",
    "version": 3
   },
   "file_extension": ".py",
   "mimetype": "text/x-python",
   "name": "python",
   "nbconvert_exporter": "python",
   "pygments_lexer": "ipython3",
   "version": "3.6.10"
  }
 },
 "nbformat": 4,
 "nbformat_minor": 4
}
